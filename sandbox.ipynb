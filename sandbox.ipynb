{
 "cells": [
  {
   "cell_type": "markdown",
   "metadata": {},
   "source": [
    "# Final Project Submission\n",
    "\n",
    "Please fill out:\n",
    "* Student name: Sarah Lowing\n",
    "* Student pace: self paced \n",
    "* Scheduled project review date/time: \n",
    "* Instructor name: Abhineet\n",
    "* Blog post URL: https://wordpress.com/post/datamonsterdotblog.wordpress.com/47\n"
   ]
  },
  {
   "cell_type": "markdown",
   "metadata": {},
   "source": [
    "## Overview\n",
    "For this analysis we'll be using the King's County Sales dataset, which can be found in kc_house_data.csv.  Each record represents a house sale in the Seattle area for the year 2021-2022.  We will use this data to determine the fair market value of homes coming onto the market based on a table of comparable homes (comps).  This automation the process of generating lists of comps to aid real estate agents and their clients in navigating the complex pricing structures around home sales. This has real world value in making available an accurate statistical model, with a standard p-value of .05 to discern which variables are most likely to affect home prices and by how much."
   ]
  },
  {
   "cell_type": "markdown",
   "metadata": {},
   "source": [
    "### Business Understanding\n",
    "Comps are used daily to determine the value of homes coming onto the market by buyer, sellers and real estate professionals. Providing a service to automate the process by which comps are generated has a value to these three groups. Real estate professionals have traditionally used MLS to to run comparative market analysis, which is not available to non-professionals.  Therefore, this information will be of additionally high value to home owners and buyers as a way to generate concrete and accurate ideas of pricing structures, and therefor what to expect for their own buying and selling experiences, as well as a general idea of which features of their homes might be worth improving before sale. "
   ]
  },
  {
   "cell_type": "markdown",
   "metadata": {},
   "source": [
    "### Data Understanding\n",
    "After checking our data for missing or null values, we wil begin performing some simple statistical analysis to determine which variables have an existing and obvious correlation to our target variable, 'price'.  We'll examine the format of the data (numeric vs categorical, continuous vs discrete) to determine what, if any, transformations need to take place in order to perform  colinearity..  And finally we'll check for normality, and look to apply transformations (linear, logarythmic, polynomial regression or  to any data that does not conform to our L.I.N.E. acronym and is useful for our model and analysis. "
   ]
  },
  {
   "cell_type": "markdown",
   "metadata": {},
   "source": [
    "## Preliminary Data Analysis"
   ]
  },
  {
   "cell_type": "code",
   "execution_count": 1,
   "metadata": {},
   "outputs": [],
   "source": [
    "# import neccessary libraries\n",
    "import matplotlib.pyplot as plt\n",
    "import numpy as np\n",
    "import pandas as pd\n",
    "import scipy.stats as stats\n",
    "import seaborn as sns\n",
    "import statsmodels.api as sm"
   ]
  },
  {
   "cell_type": "markdown",
   "metadata": {},
   "source": [
    "### Inspect and Clean Data"
   ]
  },
  {
   "cell_type": "code",
   "execution_count": 2,
   "metadata": {},
   "outputs": [
    {
     "data": {
      "text/plain": [
       "30155"
      ]
     },
     "execution_count": 2,
     "metadata": {},
     "output_type": "execute_result"
    }
   ],
   "source": [
    "## Check the columns and first few rows\n",
    "df= pd.read_csv('Data/kc_house_data.csv')\n",
    "len(df)"
   ]
  },
  {
   "cell_type": "code",
   "execution_count": 3,
   "metadata": {},
   "outputs": [
    {
     "data": {
      "text/html": [
       "<div>\n",
       "<style scoped>\n",
       "    .dataframe tbody tr th:only-of-type {\n",
       "        vertical-align: middle;\n",
       "    }\n",
       "\n",
       "    .dataframe tbody tr th {\n",
       "        vertical-align: top;\n",
       "    }\n",
       "\n",
       "    .dataframe thead th {\n",
       "        text-align: right;\n",
       "    }\n",
       "</style>\n",
       "<table border=\"1\" class=\"dataframe\">\n",
       "  <thead>\n",
       "    <tr style=\"text-align: right;\">\n",
       "      <th></th>\n",
       "      <th>id</th>\n",
       "      <th>date</th>\n",
       "      <th>price</th>\n",
       "      <th>bedrooms</th>\n",
       "      <th>bathrooms</th>\n",
       "      <th>sqft_living</th>\n",
       "      <th>sqft_lot</th>\n",
       "      <th>floors</th>\n",
       "      <th>waterfront</th>\n",
       "      <th>greenbelt</th>\n",
       "      <th>...</th>\n",
       "      <th>sewer_system</th>\n",
       "      <th>sqft_above</th>\n",
       "      <th>sqft_basement</th>\n",
       "      <th>sqft_garage</th>\n",
       "      <th>sqft_patio</th>\n",
       "      <th>yr_built</th>\n",
       "      <th>yr_renovated</th>\n",
       "      <th>address</th>\n",
       "      <th>lat</th>\n",
       "      <th>long</th>\n",
       "    </tr>\n",
       "  </thead>\n",
       "  <tbody>\n",
       "    <tr>\n",
       "      <th>0</th>\n",
       "      <td>7399300360</td>\n",
       "      <td>5/24/2022</td>\n",
       "      <td>675000.0</td>\n",
       "      <td>4</td>\n",
       "      <td>1.0</td>\n",
       "      <td>1180</td>\n",
       "      <td>7140</td>\n",
       "      <td>1.0</td>\n",
       "      <td>NO</td>\n",
       "      <td>NO</td>\n",
       "      <td>...</td>\n",
       "      <td>PUBLIC</td>\n",
       "      <td>1180</td>\n",
       "      <td>0</td>\n",
       "      <td>0</td>\n",
       "      <td>40</td>\n",
       "      <td>1969</td>\n",
       "      <td>0</td>\n",
       "      <td>2102 Southeast 21st Court, Renton, Washington ...</td>\n",
       "      <td>47.461975</td>\n",
       "      <td>-122.19052</td>\n",
       "    </tr>\n",
       "    <tr>\n",
       "      <th>1</th>\n",
       "      <td>8910500230</td>\n",
       "      <td>12/13/2021</td>\n",
       "      <td>920000.0</td>\n",
       "      <td>5</td>\n",
       "      <td>2.5</td>\n",
       "      <td>2770</td>\n",
       "      <td>6703</td>\n",
       "      <td>1.0</td>\n",
       "      <td>NO</td>\n",
       "      <td>NO</td>\n",
       "      <td>...</td>\n",
       "      <td>PUBLIC</td>\n",
       "      <td>1570</td>\n",
       "      <td>1570</td>\n",
       "      <td>0</td>\n",
       "      <td>240</td>\n",
       "      <td>1950</td>\n",
       "      <td>0</td>\n",
       "      <td>11231 Greenwood Avenue North, Seattle, Washing...</td>\n",
       "      <td>47.711525</td>\n",
       "      <td>-122.35591</td>\n",
       "    </tr>\n",
       "    <tr>\n",
       "      <th>2</th>\n",
       "      <td>1180000275</td>\n",
       "      <td>9/29/2021</td>\n",
       "      <td>311000.0</td>\n",
       "      <td>6</td>\n",
       "      <td>2.0</td>\n",
       "      <td>2880</td>\n",
       "      <td>6156</td>\n",
       "      <td>1.0</td>\n",
       "      <td>NO</td>\n",
       "      <td>NO</td>\n",
       "      <td>...</td>\n",
       "      <td>PUBLIC</td>\n",
       "      <td>1580</td>\n",
       "      <td>1580</td>\n",
       "      <td>0</td>\n",
       "      <td>0</td>\n",
       "      <td>1956</td>\n",
       "      <td>0</td>\n",
       "      <td>8504 South 113th Street, Seattle, Washington 9...</td>\n",
       "      <td>47.502045</td>\n",
       "      <td>-122.22520</td>\n",
       "    </tr>\n",
       "    <tr>\n",
       "      <th>3</th>\n",
       "      <td>1604601802</td>\n",
       "      <td>12/14/2021</td>\n",
       "      <td>775000.0</td>\n",
       "      <td>3</td>\n",
       "      <td>3.0</td>\n",
       "      <td>2160</td>\n",
       "      <td>1400</td>\n",
       "      <td>2.0</td>\n",
       "      <td>NO</td>\n",
       "      <td>NO</td>\n",
       "      <td>...</td>\n",
       "      <td>PUBLIC</td>\n",
       "      <td>1090</td>\n",
       "      <td>1070</td>\n",
       "      <td>200</td>\n",
       "      <td>270</td>\n",
       "      <td>2010</td>\n",
       "      <td>0</td>\n",
       "      <td>4079 Letitia Avenue South, Seattle, Washington...</td>\n",
       "      <td>47.566110</td>\n",
       "      <td>-122.29020</td>\n",
       "    </tr>\n",
       "    <tr>\n",
       "      <th>4</th>\n",
       "      <td>8562780790</td>\n",
       "      <td>8/24/2021</td>\n",
       "      <td>592500.0</td>\n",
       "      <td>2</td>\n",
       "      <td>2.0</td>\n",
       "      <td>1120</td>\n",
       "      <td>758</td>\n",
       "      <td>2.0</td>\n",
       "      <td>NO</td>\n",
       "      <td>NO</td>\n",
       "      <td>...</td>\n",
       "      <td>PUBLIC</td>\n",
       "      <td>1120</td>\n",
       "      <td>550</td>\n",
       "      <td>550</td>\n",
       "      <td>30</td>\n",
       "      <td>2012</td>\n",
       "      <td>0</td>\n",
       "      <td>2193 Northwest Talus Drive, Issaquah, Washingt...</td>\n",
       "      <td>47.532470</td>\n",
       "      <td>-122.07188</td>\n",
       "    </tr>\n",
       "  </tbody>\n",
       "</table>\n",
       "<p>5 rows × 25 columns</p>\n",
       "</div>"
      ],
      "text/plain": [
       "           id        date     price  bedrooms  bathrooms  sqft_living  \\\n",
       "0  7399300360   5/24/2022  675000.0         4        1.0         1180   \n",
       "1  8910500230  12/13/2021  920000.0         5        2.5         2770   \n",
       "2  1180000275   9/29/2021  311000.0         6        2.0         2880   \n",
       "3  1604601802  12/14/2021  775000.0         3        3.0         2160   \n",
       "4  8562780790   8/24/2021  592500.0         2        2.0         1120   \n",
       "\n",
       "   sqft_lot  floors waterfront greenbelt  ... sewer_system sqft_above  \\\n",
       "0      7140     1.0         NO        NO  ...       PUBLIC       1180   \n",
       "1      6703     1.0         NO        NO  ...       PUBLIC       1570   \n",
       "2      6156     1.0         NO        NO  ...       PUBLIC       1580   \n",
       "3      1400     2.0         NO        NO  ...       PUBLIC       1090   \n",
       "4       758     2.0         NO        NO  ...       PUBLIC       1120   \n",
       "\n",
       "  sqft_basement sqft_garage sqft_patio yr_built  yr_renovated  \\\n",
       "0             0           0         40     1969             0   \n",
       "1          1570           0        240     1950             0   \n",
       "2          1580           0          0     1956             0   \n",
       "3          1070         200        270     2010             0   \n",
       "4           550         550         30     2012             0   \n",
       "\n",
       "                                             address        lat       long  \n",
       "0  2102 Southeast 21st Court, Renton, Washington ...  47.461975 -122.19052  \n",
       "1  11231 Greenwood Avenue North, Seattle, Washing...  47.711525 -122.35591  \n",
       "2  8504 South 113th Street, Seattle, Washington 9...  47.502045 -122.22520  \n",
       "3  4079 Letitia Avenue South, Seattle, Washington...  47.566110 -122.29020  \n",
       "4  2193 Northwest Talus Drive, Issaquah, Washingt...  47.532470 -122.07188  \n",
       "\n",
       "[5 rows x 25 columns]"
      ]
     },
     "execution_count": 3,
     "metadata": {},
     "output_type": "execute_result"
    }
   ],
   "source": [
    "df.head()"
   ]
  },
  {
   "cell_type": "code",
   "execution_count": 49,
   "metadata": {},
   "outputs": [
    {
     "data": {
      "text/html": [
       "<div>\n",
       "<style scoped>\n",
       "    .dataframe tbody tr th:only-of-type {\n",
       "        vertical-align: middle;\n",
       "    }\n",
       "\n",
       "    .dataframe tbody tr th {\n",
       "        vertical-align: top;\n",
       "    }\n",
       "\n",
       "    .dataframe thead th {\n",
       "        text-align: right;\n",
       "    }\n",
       "</style>\n",
       "<table border=\"1\" class=\"dataframe\">\n",
       "  <thead>\n",
       "    <tr style=\"text-align: right;\">\n",
       "      <th></th>\n",
       "      <th>id</th>\n",
       "      <th>price</th>\n",
       "      <th>bedrooms</th>\n",
       "      <th>bathrooms</th>\n",
       "      <th>sqft_living</th>\n",
       "      <th>sqft_lot</th>\n",
       "      <th>floors</th>\n",
       "      <th>sqft_above</th>\n",
       "      <th>sqft_basement</th>\n",
       "      <th>sqft_garage</th>\n",
       "      <th>sqft_patio</th>\n",
       "      <th>yr_built</th>\n",
       "      <th>yr_renovated</th>\n",
       "      <th>lat</th>\n",
       "      <th>long</th>\n",
       "    </tr>\n",
       "  </thead>\n",
       "  <tbody>\n",
       "    <tr>\n",
       "      <th>count</th>\n",
       "      <td>3.015500e+04</td>\n",
       "      <td>3.015500e+04</td>\n",
       "      <td>30155.000000</td>\n",
       "      <td>30155.000000</td>\n",
       "      <td>30155.000000</td>\n",
       "      <td>3.015500e+04</td>\n",
       "      <td>30155.000000</td>\n",
       "      <td>30155.000000</td>\n",
       "      <td>30155.000000</td>\n",
       "      <td>30155.000000</td>\n",
       "      <td>30155.000000</td>\n",
       "      <td>30155.000000</td>\n",
       "      <td>30155.000000</td>\n",
       "      <td>30155.000000</td>\n",
       "      <td>30155.000000</td>\n",
       "    </tr>\n",
       "    <tr>\n",
       "      <th>mean</th>\n",
       "      <td>4.538104e+09</td>\n",
       "      <td>1.108536e+06</td>\n",
       "      <td>3.413530</td>\n",
       "      <td>2.334737</td>\n",
       "      <td>2112.424739</td>\n",
       "      <td>1.672360e+04</td>\n",
       "      <td>1.543492</td>\n",
       "      <td>1809.826098</td>\n",
       "      <td>476.039396</td>\n",
       "      <td>330.211142</td>\n",
       "      <td>217.412038</td>\n",
       "      <td>1975.163953</td>\n",
       "      <td>90.922301</td>\n",
       "      <td>47.328076</td>\n",
       "      <td>-121.317397</td>\n",
       "    </tr>\n",
       "    <tr>\n",
       "      <th>std</th>\n",
       "      <td>2.882587e+09</td>\n",
       "      <td>8.963857e+05</td>\n",
       "      <td>0.981612</td>\n",
       "      <td>0.889556</td>\n",
       "      <td>974.044318</td>\n",
       "      <td>6.038260e+04</td>\n",
       "      <td>0.567717</td>\n",
       "      <td>878.306131</td>\n",
       "      <td>579.631302</td>\n",
       "      <td>285.770536</td>\n",
       "      <td>245.302792</td>\n",
       "      <td>32.067362</td>\n",
       "      <td>416.473038</td>\n",
       "      <td>1.434005</td>\n",
       "      <td>5.725475</td>\n",
       "    </tr>\n",
       "    <tr>\n",
       "      <th>min</th>\n",
       "      <td>1.000055e+06</td>\n",
       "      <td>2.736000e+04</td>\n",
       "      <td>0.000000</td>\n",
       "      <td>0.000000</td>\n",
       "      <td>3.000000</td>\n",
       "      <td>4.020000e+02</td>\n",
       "      <td>1.000000</td>\n",
       "      <td>2.000000</td>\n",
       "      <td>0.000000</td>\n",
       "      <td>0.000000</td>\n",
       "      <td>0.000000</td>\n",
       "      <td>1900.000000</td>\n",
       "      <td>0.000000</td>\n",
       "      <td>21.274240</td>\n",
       "      <td>-157.791480</td>\n",
       "    </tr>\n",
       "    <tr>\n",
       "      <th>25%</th>\n",
       "      <td>2.064175e+09</td>\n",
       "      <td>6.480000e+05</td>\n",
       "      <td>3.000000</td>\n",
       "      <td>2.000000</td>\n",
       "      <td>1420.000000</td>\n",
       "      <td>4.850000e+03</td>\n",
       "      <td>1.000000</td>\n",
       "      <td>1180.000000</td>\n",
       "      <td>0.000000</td>\n",
       "      <td>0.000000</td>\n",
       "      <td>40.000000</td>\n",
       "      <td>1953.000000</td>\n",
       "      <td>0.000000</td>\n",
       "      <td>47.405320</td>\n",
       "      <td>-122.326045</td>\n",
       "    </tr>\n",
       "    <tr>\n",
       "      <th>50%</th>\n",
       "      <td>3.874011e+09</td>\n",
       "      <td>8.600000e+05</td>\n",
       "      <td>3.000000</td>\n",
       "      <td>2.500000</td>\n",
       "      <td>1920.000000</td>\n",
       "      <td>7.480000e+03</td>\n",
       "      <td>1.500000</td>\n",
       "      <td>1560.000000</td>\n",
       "      <td>0.000000</td>\n",
       "      <td>400.000000</td>\n",
       "      <td>150.000000</td>\n",
       "      <td>1977.000000</td>\n",
       "      <td>0.000000</td>\n",
       "      <td>47.551380</td>\n",
       "      <td>-122.225585</td>\n",
       "    </tr>\n",
       "    <tr>\n",
       "      <th>75%</th>\n",
       "      <td>7.287100e+09</td>\n",
       "      <td>1.300000e+06</td>\n",
       "      <td>4.000000</td>\n",
       "      <td>3.000000</td>\n",
       "      <td>2619.500000</td>\n",
       "      <td>1.057900e+04</td>\n",
       "      <td>2.000000</td>\n",
       "      <td>2270.000000</td>\n",
       "      <td>940.000000</td>\n",
       "      <td>510.000000</td>\n",
       "      <td>320.000000</td>\n",
       "      <td>2003.000000</td>\n",
       "      <td>0.000000</td>\n",
       "      <td>47.669913</td>\n",
       "      <td>-122.116205</td>\n",
       "    </tr>\n",
       "    <tr>\n",
       "      <th>max</th>\n",
       "      <td>9.904000e+09</td>\n",
       "      <td>3.075000e+07</td>\n",
       "      <td>13.000000</td>\n",
       "      <td>10.500000</td>\n",
       "      <td>15360.000000</td>\n",
       "      <td>3.253932e+06</td>\n",
       "      <td>4.000000</td>\n",
       "      <td>12660.000000</td>\n",
       "      <td>8020.000000</td>\n",
       "      <td>3580.000000</td>\n",
       "      <td>4370.000000</td>\n",
       "      <td>2022.000000</td>\n",
       "      <td>2022.000000</td>\n",
       "      <td>64.824070</td>\n",
       "      <td>-70.074340</td>\n",
       "    </tr>\n",
       "  </tbody>\n",
       "</table>\n",
       "</div>"
      ],
      "text/plain": [
       "                 id         price      bedrooms     bathrooms   sqft_living  \\\n",
       "count  3.015500e+04  3.015500e+04  30155.000000  30155.000000  30155.000000   \n",
       "mean   4.538104e+09  1.108536e+06      3.413530      2.334737   2112.424739   \n",
       "std    2.882587e+09  8.963857e+05      0.981612      0.889556    974.044318   \n",
       "min    1.000055e+06  2.736000e+04      0.000000      0.000000      3.000000   \n",
       "25%    2.064175e+09  6.480000e+05      3.000000      2.000000   1420.000000   \n",
       "50%    3.874011e+09  8.600000e+05      3.000000      2.500000   1920.000000   \n",
       "75%    7.287100e+09  1.300000e+06      4.000000      3.000000   2619.500000   \n",
       "max    9.904000e+09  3.075000e+07     13.000000     10.500000  15360.000000   \n",
       "\n",
       "           sqft_lot        floors    sqft_above  sqft_basement   sqft_garage  \\\n",
       "count  3.015500e+04  30155.000000  30155.000000   30155.000000  30155.000000   \n",
       "mean   1.672360e+04      1.543492   1809.826098     476.039396    330.211142   \n",
       "std    6.038260e+04      0.567717    878.306131     579.631302    285.770536   \n",
       "min    4.020000e+02      1.000000      2.000000       0.000000      0.000000   \n",
       "25%    4.850000e+03      1.000000   1180.000000       0.000000      0.000000   \n",
       "50%    7.480000e+03      1.500000   1560.000000       0.000000    400.000000   \n",
       "75%    1.057900e+04      2.000000   2270.000000     940.000000    510.000000   \n",
       "max    3.253932e+06      4.000000  12660.000000    8020.000000   3580.000000   \n",
       "\n",
       "         sqft_patio      yr_built  yr_renovated           lat          long  \n",
       "count  30155.000000  30155.000000  30155.000000  30155.000000  30155.000000  \n",
       "mean     217.412038   1975.163953     90.922301     47.328076   -121.317397  \n",
       "std      245.302792     32.067362    416.473038      1.434005      5.725475  \n",
       "min        0.000000   1900.000000      0.000000     21.274240   -157.791480  \n",
       "25%       40.000000   1953.000000      0.000000     47.405320   -122.326045  \n",
       "50%      150.000000   1977.000000      0.000000     47.551380   -122.225585  \n",
       "75%      320.000000   2003.000000      0.000000     47.669913   -122.116205  \n",
       "max     4370.000000   2022.000000   2022.000000     64.824070    -70.074340  "
      ]
     },
     "execution_count": 49,
     "metadata": {},
     "output_type": "execute_result"
    }
   ],
   "source": [
    "# Generate summary statistics\n",
    "df.describe()"
   ]
  },
  {
   "cell_type": "markdown",
   "metadata": {},
   "source": [
    "We can see some of our mean values here, as well as visually inspect for for any missing values or irregularities.  So far it looks good!"
   ]
  },
  {
   "cell_type": "code",
   "execution_count": 50,
   "metadata": {},
   "outputs": [
    {
     "data": {
      "text/plain": [
       "id                0\n",
       "date              0\n",
       "price             0\n",
       "bedrooms          0\n",
       "bathrooms         0\n",
       "sqft_living       0\n",
       "sqft_lot          0\n",
       "floors            0\n",
       "waterfront        0\n",
       "greenbelt         0\n",
       "nuisance          0\n",
       "view              0\n",
       "condition         0\n",
       "grade             0\n",
       "heat_source      32\n",
       "sewer_system     14\n",
       "sqft_above        0\n",
       "sqft_basement     0\n",
       "sqft_garage       0\n",
       "sqft_patio        0\n",
       "yr_built          0\n",
       "yr_renovated      0\n",
       "address           0\n",
       "lat               0\n",
       "long              0\n",
       "dtype: int64"
      ]
     },
     "execution_count": 50,
     "metadata": {},
     "output_type": "execute_result"
    }
   ],
   "source": [
    "#checking for null values\n",
    "df.isnull().sum()"
   ]
  },
  {
   "cell_type": "code",
   "execution_count": 51,
   "metadata": {},
   "outputs": [],
   "source": [
    "#Because of the small number of NaN values, we can drop null rows\n",
    "df.dropna(inplace=True)"
   ]
  },
  {
   "cell_type": "markdown",
   "metadata": {},
   "source": [
    "### Inspect Columns and Investigate Datatypes"
   ]
  },
  {
   "cell_type": "code",
   "execution_count": 16,
   "metadata": {
    "scrolled": true
   },
   "outputs": [
    {
     "name": "stdout",
     "output_type": "stream",
     "text": [
      "<class 'pandas.core.frame.DataFrame'>\n",
      "Int64Index: 30111 entries, 0 to 30154\n",
      "Data columns (total 25 columns):\n",
      " #   Column         Non-Null Count  Dtype  \n",
      "---  ------         --------------  -----  \n",
      " 0   id             30111 non-null  int64  \n",
      " 1   date           30111 non-null  object \n",
      " 2   price          30111 non-null  float64\n",
      " 3   bedrooms       30111 non-null  int64  \n",
      " 4   bathrooms      30111 non-null  float64\n",
      " 5   sqft_living    30111 non-null  int64  \n",
      " 6   sqft_lot       30111 non-null  int64  \n",
      " 7   floors         30111 non-null  float64\n",
      " 8   waterfront     30111 non-null  object \n",
      " 9   greenbelt      30111 non-null  object \n",
      " 10  nuisance       30111 non-null  object \n",
      " 11  view           30111 non-null  object \n",
      " 12  condition      30111 non-null  object \n",
      " 13  grade          30111 non-null  object \n",
      " 14  heat_source    30111 non-null  object \n",
      " 15  sewer_system   30111 non-null  object \n",
      " 16  sqft_above     30111 non-null  int64  \n",
      " 17  sqft_basement  30111 non-null  int64  \n",
      " 18  sqft_garage    30111 non-null  int64  \n",
      " 19  sqft_patio     30111 non-null  int64  \n",
      " 20  yr_built       30111 non-null  int64  \n",
      " 21  yr_renovated   30111 non-null  int64  \n",
      " 22  address        30111 non-null  object \n",
      " 23  lat            30111 non-null  float64\n",
      " 24  long           30111 non-null  float64\n",
      "dtypes: float64(5), int64(10), object(10)\n",
      "memory usage: 6.0+ MB\n"
     ]
    }
   ],
   "source": [
    "#Visualize datatypes for future analysis\n",
    "df.info()"
   ]
  },
  {
   "cell_type": "markdown",
   "metadata": {},
   "source": [
    "We can see that the data has several different types. Some potentially relevant data for 'price' is categorical, like 'waterfront' and 'condition'.  We'll need to OHE these features if we'd like to add those variables to our model.\n",
    "None of our numeric variables are categorical in nature, with the exception of 'id', 'lat' and 'long' which serve as unique identifiers.  While we won't need these for our statistical analysis, 'lat' and 'long' could come in handy later if we want to map home sales.  This is also a relatively long list of variables/columns.  If we were to run an OLE we would likely see that there was strong colinearity- that some of our fefatures were not independant.  We'll have to shorten this list for sure.  We can start by looking at whichc variables are redundent.  Examining the column values will help us to determine which of the variables might be close to or copies of the same information."
   ]
  },
  {
   "cell_type": "code",
   "execution_count": 9,
   "metadata": {},
   "outputs": [],
   "source": [
    "# Closer look at column values\n",
    "#x= open('Data/column_names.md')\n",
    "#print(x.read())"
   ]
  },
  {
   "cell_type": "markdown",
   "metadata": {},
   "source": [
    "Only a few variables seem like duplicates.  We can see that sgft_living and sqft_above are similar, so we'll only use the former.  Let's dig in deeper though and take a look at a correlation heatmap of our dataframe to verify that co-linearity."
   ]
  },
  {
   "cell_type": "markdown",
   "metadata": {},
   "source": [
    "## Numeric Data"
   ]
  },
  {
   "cell_type": "markdown",
   "metadata": {},
   "source": [
    "We'll begin by looking at the correlation of 'price' with all numeric categories.  We can see immediately that categorical numeric variables like 'id', 'lat' and 'long' are not useful in this context, so we'll create a subset of the continous numeric variables that look more promising.  The variables 'sqft_above' and 'sqft_living' have strong colinearity, so we'll drop 'sqft_above'."
   ]
  },
  {
   "cell_type": "code",
   "execution_count": 12,
   "metadata": {},
   "outputs": [
    {
     "data": {
      "image/png": "[encoded data removed]",
      "text/plain": [
       "<Figure size 1080x864 with 2 Axes>"
      ]
     },
     "metadata": {},
     "output_type": "display_data"
    }
   ],
   "source": [
    "df_predictors = df.drop(columns=['price'])\n",
    "corr = round(abs(df_predictors.corr()),3)\n",
    "sns.set(rc = {'figure.figsize':(15,12)})\n",
    "sns.heatmap(corr, cmap=\"Blues\", annot=True);"
   ]
  },
  {
   "cell_type": "code",
   "execution_count": 8,
   "metadata": {},
   "outputs": [
    {
     "data": {
      "text/plain": [
       "price          1.000000\n",
       "sqft_living    0.608616\n",
       "bathrooms      0.480337\n",
       "Name: price, dtype: float64"
      ]
     },
     "execution_count": 8,
     "metadata": {},
     "output_type": "execute_result"
    }
   ],
   "source": [
    "kc_subset_dn= df[['price','sqft_living',\n",
    "                  'bathrooms']]\n",
    "abs(kc_subset_dn.corr()[\"price\"]).sort_values(ascending=False)"
   ]
  },
  {
   "cell_type": "code",
   "execution_count": null,
   "metadata": {},
   "outputs": [],
   "source": [
    "df_kc"
   ]
  },
  {
   "cell_type": "code",
   "execution_count": null,
   "metadata": {},
   "outputs": [],
   "source": []
  },
  {
   "cell_type": "code",
   "execution_count": null,
   "metadata": {},
   "outputs": [],
   "source": []
  },
  {
   "cell_type": "markdown",
   "metadata": {},
   "source": [
    "Our next step is to generate scatterplots to view the distributions of the continuous numeric variables that have the highest correlation to price and look for the visual markers of a linear relationship "
   ]
  },
  {
   "cell_type": "code",
   "execution_count": 9,
   "metadata": {},
   "outputs": [
    {
     "data": {
      "image/png": "[encoded data removed]",
      "text/plain": [
       "<Figure size 1152x576 with 2 Axes>"
      ]
     },
     "metadata": {
      "needs_background": "light"
     },
     "output_type": "display_data"
    }
   ],
   "source": [
    "# Visualize relationships between variables and price\n",
    "fig,axes= plt.subplots(ncols=2, figsize=(16,8), sharey=True)\n",
    "\n",
    "for i, c in enumerate(kc_subset_dn.drop('price', axis=1).columns):\n",
    "    ax=axes[i]\n",
    "    ax.scatter(kc_subset_dn[c], kc_subset_dn['price'])\n",
    "    ax.set_xlabel(c)"
   ]
  },
  {
   "cell_type": "code",
   "execution_count": 44,
   "metadata": {},
   "outputs": [
    {
     "data": {
      "text/plain": [
       "count    30111.000000\n",
       "mean      2113.342798\n",
       "std        973.453260\n",
       "min          3.000000\n",
       "25%       1420.000000\n",
       "50%       1920.000000\n",
       "75%       2620.000000\n",
       "max      15360.000000\n",
       "Name: sqft_living, dtype: float64"
      ]
     },
     "execution_count": 44,
     "metadata": {},
     "output_type": "execute_result"
    }
   ],
   "source": [
    "df['sqft_living'].describe()"
   ]
  },
  {
   "cell_type": "markdown",
   "metadata": {},
   "source": [
    "That 3 sqft_living doesnt make sense.  Let's make sure there aren't too many erroneous values"
   ]
  },
  {
   "cell_type": "code",
   "execution_count": 69,
   "metadata": {},
   "outputs": [
    {
     "data": {
      "text/plain": [
       "14977        3\n",
       "8694       260\n",
       "8391       290\n",
       "23622      290\n",
       "5811       290\n",
       "         ...  \n",
       "1948     12300\n",
       "18100    12470\n",
       "635      12540\n",
       "25490    13540\n",
       "9888     15360\n",
       "Name: sqft_living, Length: 30111, dtype: int64"
      ]
     },
     "execution_count": 69,
     "metadata": {},
     "output_type": "execute_result"
    }
   ],
   "source": [
    "df['sqft_living'].sort_values()"
   ]
  },
  {
   "cell_type": "code",
   "execution_count": 75,
   "metadata": {},
   "outputs": [],
   "source": [
    "#df.loc[df['sqft_living']>=15000]\n",
    "#df.loc[df['sqft_living']<=5]"
   ]
  },
  {
   "cell_type": "markdown",
   "metadata": {},
   "source": [
    "Looks like the 3 sqft is the only obviously wrong value, but we'll double check some of the smallest and largest sqft values by looking up the houses on Redfin to find the square footage, compare, and fix (as needed) some of the outlier records for sqft_living."
   ]
  },
  {
   "cell_type": "code",
   "execution_count": 52,
   "metadata": {},
   "outputs": [],
   "source": [
    "#identified record number for sqft_living == 3 and changed value to sqft from Redfin \n",
    "df.at[14977, 'sqft_living']= 3325"
   ]
  },
  {
   "cell_type": "code",
   "execution_count": 10,
   "metadata": {},
   "outputs": [],
   "source": [
    "#did it work? Yes..\n",
    "#df.loc[df['id']==1549500215]"
   ]
  },
  {
   "cell_type": "code",
   "execution_count": 49,
   "metadata": {},
   "outputs": [
    {
     "data": {
      "text/plain": [
       "count    30111.000000\n",
       "mean         2.335708\n",
       "std          0.888293\n",
       "min          0.000000\n",
       "25%          2.000000\n",
       "50%          2.500000\n",
       "75%          3.000000\n",
       "max         10.500000\n",
       "Name: bathrooms, dtype: float64"
      ]
     },
     "execution_count": 49,
     "metadata": {},
     "output_type": "execute_result"
    }
   ],
   "source": [
    "#nothing obviously kooky here to fix\n",
    "df['bathrooms'].describe()"
   ]
  },
  {
   "cell_type": "code",
   "execution_count": 56,
   "metadata": {},
   "outputs": [],
   "source": [
    "y=df['price']\n",
    "X=df['sqft_living']\n",
    "\n",
    "sgft_model = sm.OLS(y, sm.add_constant(X))\n",
    "sqft_results = sgft_model.fit()"
   ]
  },
  {
   "cell_type": "code",
   "execution_count": 57,
   "metadata": {},
   "outputs": [
    {
     "data": {
      "text/plain": [
       "(1.115720052981009, 9.348873145408989e-12)"
      ]
     },
     "execution_count": 57,
     "metadata": {},
     "output_type": "execute_result"
    }
   ],
   "source": [
    "linear_rainbow(sqft_results)"
   ]
  },
  {
   "cell_type": "code",
   "execution_count": 59,
   "metadata": {},
   "outputs": [
    {
     "data": {
      "text/plain": [
       "0        1180\n",
       "1        2770\n",
       "2        2880\n",
       "3        2160\n",
       "4        1120\n",
       "         ... \n",
       "30150    1910\n",
       "30151    2020\n",
       "30152    1620\n",
       "30153    2570\n",
       "30154    1200\n",
       "Name: sqft_living, Length: 30111, dtype: int64"
      ]
     },
     "execution_count": 59,
     "metadata": {},
     "output_type": "execute_result"
    }
   ],
   "source": [
    "X"
   ]
  },
  {
   "cell_type": "markdown",
   "metadata": {},
   "source": [
    "This confirms that sqft_living has a non-linear relationship with price, and we'll need to apply a non-linear transformation (log, interaction terms, exponential/polynomial)"
   ]
  },
  {
   "cell_type": "code",
   "execution_count": 61,
   "metadata": {},
   "outputs": [
    {
     "data": {
      "text/plain": [
       "0                                                         1180\n",
       "1                                                         2770\n",
       "2                                                         2880\n",
       "3                                                         2160\n",
       "4                                                         1120\n",
       "                                   ...                        \n",
       "30151                                                     2020\n",
       "30152                                                     1620\n",
       "30153                                                     2570\n",
       "30154                                                     1200\n",
       "sq_living    0        1392400\n",
       "1        7672900\n",
       "2        829...\n",
       "Name: sqft_living, Length: 30112, dtype: object"
      ]
     },
     "execution_count": 61,
     "metadata": {},
     "output_type": "execute_result"
    }
   ],
   "source": [
    "X_quad = X.copy()\n",
    "X_quad['sq_living'] = X_quad**2\n",
    "X_quad= "
   ]
  },
  {
   "cell_type": "code",
   "execution_count": 63,
   "metadata": {},
   "outputs": [],
   "source": [
    "#squared_results = sm.OLS(y, sm.add_constant(X_quad)).fit()"
   ]
  },
  {
   "cell_type": "markdown",
   "metadata": {},
   "source": [
    "There is a clear relationship between both sqft_living and bathrooms to price, but the values will need to be normed before we can use them in our model- the plots demonstrate that there is a non-linear relationshipp by their distributions , and we'll need to fix that by applying a transformation."
   ]
  },
  {
   "cell_type": "markdown",
   "metadata": {},
   "source": [
    "## Categorical Data\n",
    "Let's begin by looking at some graphs of our categorical data to see what might be a good candidate for OHE transformation.  We'll use bargraphs to see if there's a linear relationship between price and our variables."
   ]
  },
  {
   "cell_type": "code",
   "execution_count": 74,
   "metadata": {},
   "outputs": [
    {
     "data": {
      "image/png": "[encoded data removed]",
      "text/plain": [
       "<Figure size 720x360 with 1 Axes>"
      ]
     },
     "metadata": {
      "needs_background": "light"
     },
     "output_type": "display_data"
    }
   ],
   "source": [
    "# Waterfront sns.barplot(data=df, x='waterfront', y='price')\n",
    "fig, ax = plt.subplots(figsize=(10,5))\n",
    "df.groupby(\"waterfront\").mean().sort_values(by=\"price\").plot.bar(y=\"price\", ax=ax)\n",
    "ax.axhline(y=df[\"price\"].mean(), label=\"mean\", color=\"black\", linestyle=\"--\")\n",
    "\n",
    "ax.legend();"
   ]
  },
  {
   "cell_type": "code",
   "execution_count": 39,
   "metadata": {},
   "outputs": [],
   "source": [
    "# nuisance doesn't look like it's relevant\n",
    "fig, ax = plt.subplots(figsize=(10,5))\n",
    "df.groupby(\"nuisance\").mean().sort_values(by=\"price\").plot.bar(y=\"price\", ax=ax)\n",
    "ax.axhline(y=df[\"price\"].mean(), label=\"mean\", color=\"black\", linestyle=\"--\")\n",
    "\n",
    "ax.legend();"
   ]
  },
  {
   "cell_type": "code",
   "execution_count": 78,
   "metadata": {},
   "outputs": [
    {
     "data": {
      "image/png": "[encoded data removed]",
      "text/plain": [
       "<Figure size 720x360 with 1 Axes>"
      ]
     },
     "metadata": {
      "needs_background": "light"
     },
     "output_type": "display_data"
    }
   ],
   "source": [
    "#view\n",
    "fig, ax = plt.subplots(figsize=(10,5))\n",
    "df.groupby(\"view\").mean().sort_values(by=\"price\").plot.bar(y=\"price\", ax=ax)\n",
    "ax.axhline(y=df[\"price\"].mean(), label=\"mean\", color=\"black\", linestyle=\"--\")\n",
    "\n",
    "ax.legend();"
   ]
  },
  {
   "cell_type": "code",
   "execution_count": 52,
   "metadata": {},
   "outputs": [
    {
     "data": {
      "image/png": "[encoded data removed]",
      "text/plain": [
       "<Figure size 720x360 with 1 Axes>"
      ]
     },
     "metadata": {
      "needs_background": "light"
     },
     "output_type": "display_data"
    }
   ],
   "source": [
    "fig, ax = plt.subplots(figsize=(10,5))\n",
    "df.groupby(\"condition\").mean().sort_values(by=\"price\").plot.bar(y=\"price\", ax=ax)\n",
    "ax.axhline(y=df[\"price\"].mean(), label=\"mean\", color=\"black\", linestyle=\"--\")\n",
    "\n",
    "ax.legend();"
   ]
  },
  {
   "cell_type": "code",
   "execution_count": null,
   "metadata": {},
   "outputs": [],
   "source": []
  },
  {
   "cell_type": "markdown",
   "metadata": {},
   "source": [
    "Of the categorical variables, waterfront and condition seem the most likely to have a linear relationship with price"
   ]
  },
  {
   "cell_type": "code",
   "execution_count": null,
   "metadata": {},
   "outputs": [],
   "source": [
    "\n",
    "y_raw = df[\"price\"]\n",
    "X_raw_cat = categoricals\n",
    "X_raw_cat = pd.get_dummies(X_raw_cat)\n",
    "\n",
    "X_raw_cat.drop(['waterfront_NO', 'greenbelt_NO',\n",
    "               'nuisance_YES', 'grade_2 Substandard', 'condition_Poor',\n",
    "               'heat_source_Electricity', 'sewer_system_PUBLIC' ], axis=1, inplace=True)"
   ]
  },
  {
   "cell_type": "code",
   "execution_count": 41,
   "metadata": {},
   "outputs": [],
   "source": [
    "#generate histograms of categorical variables to check for normal distribution\n",
    "cat_colinearity= X_raw_cat\n",
    "corr = round(abs(cat_colinearity.corr()),3)\n",
    "sns.set(rc = {'figure.figsize':(15,12)})\n",
    "sns.heatmap(corr, cmap=\"Blues\", annot=True);"
   ]
  },
  {
   "cell_type": "markdown",
   "metadata": {},
   "source": [
    "## Modeling"
   ]
  },
  {
   "cell_type": "markdown",
   "metadata": {},
   "source": [
    "### Checking L.I.N.E.\n",
    "\n",
    "* Linear relationship between the response variable (y) and predictor (x)\n",
    "\n",
    "* Data is independent: 1. Data avoids collinearity (features can't be used to predict each other)  2.  Data is not autocorrelated (correlated with itself)\n",
    "\n",
    "* Model residuals are normally distributed\n",
    "\n",
    "* Homoscedasticity- data has an equal variance\n",
    "\n",
    "Per Assumptions for Linear Regression: \"Looking at the residuals is the single best way to flag potential violations of linear regression assumptions and figure out what to do about them.\"\n"
   ]
  },
  {
   "cell_type": "markdown",
   "metadata": {},
   "source": [
    "#### Shifting our Model to Improve Intercept Interpretability\n",
    "So far our models have been unchanged by any kind of linear or logarithmic transformations.  We'll take time now to: \n",
    "* zero centering some of our variables to make more interpretable predictions of the mean value of a house with stated features.\n",
    "\n",
    "* Log transform irregular distributions in \"sqft_living\" to normalize distribution\n",
    "\n",
    "* OHE conditional the variables 'waterfront' and 'nuisance' to add to our multiple linear regression model"
   ]
  },
  {
   "cell_type": "markdown",
   "metadata": {},
   "source": [
    "If the model is correctly specified, then we should not see curvature in the residuals"
   ]
  },
  {
   "cell_type": "code",
   "execution_count": 22,
   "metadata": {},
   "outputs": [
    {
     "data": {
      "text/html": [
       "<div>\n",
       "<style scoped>\n",
       "    .dataframe tbody tr th:only-of-type {\n",
       "        vertical-align: middle;\n",
       "    }\n",
       "\n",
       "    .dataframe tbody tr th {\n",
       "        vertical-align: top;\n",
       "    }\n",
       "\n",
       "    .dataframe thead th {\n",
       "        text-align: right;\n",
       "    }\n",
       "</style>\n",
       "<table border=\"1\" class=\"dataframe\">\n",
       "  <thead>\n",
       "    <tr style=\"text-align: right;\">\n",
       "      <th></th>\n",
       "      <th>sqft_living</th>\n",
       "      <th>bathrooms</th>\n",
       "      <th>waterfront_YES</th>\n",
       "    </tr>\n",
       "  </thead>\n",
       "  <tbody>\n",
       "    <tr>\n",
       "      <th>0</th>\n",
       "      <td>1180</td>\n",
       "      <td>1.0</td>\n",
       "      <td>0</td>\n",
       "    </tr>\n",
       "    <tr>\n",
       "      <th>1</th>\n",
       "      <td>2770</td>\n",
       "      <td>2.5</td>\n",
       "      <td>0</td>\n",
       "    </tr>\n",
       "    <tr>\n",
       "      <th>2</th>\n",
       "      <td>2880</td>\n",
       "      <td>2.0</td>\n",
       "      <td>0</td>\n",
       "    </tr>\n",
       "    <tr>\n",
       "      <th>3</th>\n",
       "      <td>2160</td>\n",
       "      <td>3.0</td>\n",
       "      <td>0</td>\n",
       "    </tr>\n",
       "    <tr>\n",
       "      <th>4</th>\n",
       "      <td>1120</td>\n",
       "      <td>2.0</td>\n",
       "      <td>0</td>\n",
       "    </tr>\n",
       "    <tr>\n",
       "      <th>...</th>\n",
       "      <td>...</td>\n",
       "      <td>...</td>\n",
       "      <td>...</td>\n",
       "    </tr>\n",
       "    <tr>\n",
       "      <th>30150</th>\n",
       "      <td>1910</td>\n",
       "      <td>2.0</td>\n",
       "      <td>0</td>\n",
       "    </tr>\n",
       "    <tr>\n",
       "      <th>30151</th>\n",
       "      <td>2020</td>\n",
       "      <td>2.0</td>\n",
       "      <td>0</td>\n",
       "    </tr>\n",
       "    <tr>\n",
       "      <th>30152</th>\n",
       "      <td>1620</td>\n",
       "      <td>2.0</td>\n",
       "      <td>0</td>\n",
       "    </tr>\n",
       "    <tr>\n",
       "      <th>30153</th>\n",
       "      <td>2570</td>\n",
       "      <td>2.5</td>\n",
       "      <td>0</td>\n",
       "    </tr>\n",
       "    <tr>\n",
       "      <th>30154</th>\n",
       "      <td>1200</td>\n",
       "      <td>1.5</td>\n",
       "      <td>0</td>\n",
       "    </tr>\n",
       "  </tbody>\n",
       "</table>\n",
       "<p>30111 rows × 3 columns</p>\n",
       "</div>"
      ],
      "text/plain": [
       "       sqft_living  bathrooms  waterfront_YES\n",
       "0             1180        1.0               0\n",
       "1             2770        2.5               0\n",
       "2             2880        2.0               0\n",
       "3             2160        3.0               0\n",
       "4             1120        2.0               0\n",
       "...            ...        ...             ...\n",
       "30150         1910        2.0               0\n",
       "30151         2020        2.0               0\n",
       "30152         1620        2.0               0\n",
       "30153         2570        2.5               0\n",
       "30154         1200        1.5               0\n",
       "\n",
       "[30111 rows x 3 columns]"
      ]
     },
     "execution_count": 22,
     "metadata": {},
     "output_type": "execute_result"
    }
   ],
   "source": [
    "y_raw = df[\"price\"]\n",
    "X_raw = df[['sqft_living', 'waterfront', 'bathrooms']]\n",
    "X_raw = pd.get_dummies(X_raw, columns=[\"waterfront\"], drop_first=True)\n",
    "\n",
    "X_raw"
   ]
  },
  {
   "cell_type": "code",
   "execution_count": 23,
   "metadata": {},
   "outputs": [
    {
     "name": "stdout",
     "output_type": "stream",
     "text": [
      "                            OLS Regression Results                            \n",
      "==============================================================================\n",
      "Dep. Variable:                  price   R-squared:                       0.406\n",
      "Model:                            OLS   Adj. R-squared:                  0.406\n",
      "Method:                 Least Squares   F-statistic:                     6847.\n",
      "Date:                Tue, 07 Feb 2023   Prob (F-statistic):               0.00\n",
      "Time:                        16:40:18   Log-Likelihood:            -4.4760e+05\n",
      "No. Observations:               30111   AIC:                         8.952e+05\n",
      "Df Residuals:                   30107   BIC:                         8.952e+05\n",
      "Df Model:                           3                                         \n",
      "Covariance Type:            nonrobust                                         \n",
      "==================================================================================\n",
      "                     coef    std err          t      P>|t|      [0.025      0.975]\n",
      "----------------------------------------------------------------------------------\n",
      "const          -9.736e+04   1.12e+04     -8.662      0.000   -1.19e+05   -7.53e+04\n",
      "sqft_living      522.0447      6.459     80.826      0.000     509.385     534.704\n",
      "bathrooms       3.468e+04   7061.525      4.910      0.000    2.08e+04    4.85e+04\n",
      "waterfront_YES  1.301e+06    3.1e+04     42.037      0.000    1.24e+06    1.36e+06\n",
      "==============================================================================\n",
      "Omnibus:                    41203.226   Durbin-Watson:                   1.852\n",
      "Prob(Omnibus):                  0.000   Jarque-Bera (JB):         38817836.564\n",
      "Skew:                           7.410   Prob(JB):                         0.00\n",
      "Kurtosis:                     178.272   Cond. No.                     1.81e+04\n",
      "==============================================================================\n",
      "\n",
      "Notes:\n",
      "[1] Standard Errors assume that the covariance matrix of the errors is correctly specified.\n",
      "[2] The condition number is large, 1.81e+04. This might indicate that there are\n",
      "strong multicollinearity or other numerical problems.\n"
     ]
    }
   ],
   "source": [
    "baseline_model = sm.OLS(y_raw, sm.add_constant(X_raw))\n",
    "baseline_results = baseline_model.fit()\n",
    "print(baseline_results.summary())"
   ]
  },
  {
   "cell_type": "code",
   "execution_count": 42,
   "metadata": {},
   "outputs": [
    {
     "data": {
      "text/plain": [
       "(1.0981647799843925, 4.641430481803289e-09)"
      ]
     },
     "execution_count": 42,
     "metadata": {},
     "output_type": "execute_result"
    }
   ],
   "source": [
    "from statsmodels.stats.diagnostic import linear_rainbow\n",
    "linear_rainbow(baseline_results)"
   ]
  },
  {
   "cell_type": "code",
   "execution_count": null,
   "metadata": {},
   "outputs": [],
   "source": [
    "# 2nd model, interactions\n",
    "\n",
    "y_2 = df_kc[\"price\"]\n",
    "X_2 = df_kc[['sqft_living', 'waterfront', 'zip']]\n",
    "X_2 = pd.get_dummies(X_2, columns=['zip'])\n",
    "X_2.drop(['zip_98116'], axis=1, inplace=True)\n",
    "X_2['sqft_Medina'] = X_2['sqft_living']* (X_2['zip_98039']) \n",
    "X_2['sqft_Skykomish'] = X_2['sqft_living']* (X_2['zip_98288']"
   ]
  },
  {
   "cell_type": "markdown",
   "metadata": {},
   "source": [
    "# Notes/Thing to Try"
   ]
  },
  {
   "cell_type": "code",
   "execution_count": 25,
   "metadata": {},
   "outputs": [],
   "source": [
    "from sklearn.preprocessing import PolynomialFeatures"
   ]
  },
  {
   "cell_type": "code",
   "execution_count": 34,
   "metadata": {},
   "outputs": [],
   "source": [
    "y=df['price']\n",
    "X=X_raw"
   ]
  },
  {
   "cell_type": "code",
   "execution_count": 35,
   "metadata": {},
   "outputs": [
    {
     "name": "stdout",
     "output_type": "stream",
     "text": [
      "r-squared: 0.4055094438668765\n"
     ]
    }
   ],
   "source": [
    "linear_results = sm.OLS(y, sm.add_constant(X)).fit()\n"
   ]
  },
  {
   "cell_type": "code",
   "execution_count": null,
   "metadata": {},
   "outputs": [],
   "source": []
  },
  {
   "cell_type": "code",
   "execution_count": null,
   "metadata": {},
   "outputs": [],
   "source": [
    "#to check column names after OHE\n",
    "\"\"\"\n",
    "df['column_name'].value_counts()\n",
    "\"\"\"\n",
    "\n",
    "# Seaborne regplot to visualize original data with regression line \n",
    "\n",
    "\"\"\"\n",
    "(need to use after making model with OLS)\n",
    "sns.regplot(x=\"sqft_living\", y=\"price\", data=df);\n",
    "\"\"\"\n",
    "\n",
    "# checking for linearity in residuals\n",
    "\"\"\"linear_model = sm.OLS(y, sm.add_constant(X))\n",
    "linear_results = linear_model.fit()\n",
    "\n",
    "fig, ax = plt.subplots()\n",
    "\n",
    "ax.scatter(y, linear_results.resid, color=\"green\")\n",
    "ax.axhline(y=0, color=\"black\")\n",
    "ax.set_xlabel(\"y\")\n",
    "ax.set_ylabel(\"residuals\")\n",
    "ax.set_title(\"Linear Relationship Residual Plot\");\"\"\"\n",
    "\n",
    "# To make a model\n",
    "\"\"\"\n",
    "\n",
    "data = pd.read_csv(\"auto-mpg.csv\")\n",
    "y_raw = data[\"mpg\"]\n",
    "X_raw = data[[\"weight\", \"model year\"]]\n",
    "X_raw\n",
    "\n",
    "baseline_model = sm.OLS(y_raw, sm.add_constant(X_raw))\n",
    "baseline_results = baseline_model.fit()\n",
    "print(baseline_results.summary())\n",
    "\"\"\"\n",
    "\n",
    "# to transform values log\n",
    "\n",
    "\"\"\"\n",
    "X_weight_log = X_raw.copy()\n",
    "\n",
    "X_weight_log[\"log(weight)\"] = np.log(X_weight_log[\"weight\"])\n",
    "\n",
    "# Visually inspect raw vs. transformed values\n",
    "X_weight_log[[\"weight\", \"log(weight)\"]]\n",
    "\n",
    "\"\"\"\n",
    "# Plot distributions of raw vs. transformed values\n",
    "# (scales are so different that it's not reasonable to share an x-axis)\n",
    "\"\"\"\n",
    "fig, (ax1, ax2) = plt.subplots(ncols=2, figsize=(7,3))\n",
    "ax1.hist(X_weight_log[\"weight\"])\n",
    "ax1.set_xlabel(\"weight\")\n",
    "ax2.hist(X_weight_log[\"log(weight)\"], color=\"orange\")\n",
    "ax2.set_xlabel(\"log(weight)\");\n",
    "\"\"\"\n",
    "\n",
    "# compare original to log\n",
    "\"\"\"\n",
    "weight_log_model = sm.OLS(y_raw, sm.add_constant(X_weight_log))\n",
    "weight_log_results = weight_log_model.fit()\n",
    "\n",
    "print(f\"\"\"\n",
    "Baseline model adjusted R-Squared:    {baseline_results.rsquared_adj}\n",
    "log(weight) model adjusted R-Squared: {weight_log_results.rsquared_adj}\n",
    "\"\"\")\n",
    "\n",
    "\"\"\""
   ]
  },
  {
   "cell_type": "markdown",
   "metadata": {},
   "source": [
    "# Map and Zipcodes"
   ]
  },
  {
   "cell_type": "code",
   "execution_count": 37,
   "metadata": {},
   "outputs": [
    {
     "data": {
      "text/html": [
       "<div>\n",
       "<style scoped>\n",
       "    .dataframe tbody tr th:only-of-type {\n",
       "        vertical-align: middle;\n",
       "    }\n",
       "\n",
       "    .dataframe tbody tr th {\n",
       "        vertical-align: top;\n",
       "    }\n",
       "\n",
       "    .dataframe thead th {\n",
       "        text-align: right;\n",
       "    }\n",
       "</style>\n",
       "<table border=\"1\" class=\"dataframe\">\n",
       "  <thead>\n",
       "    <tr style=\"text-align: right;\">\n",
       "      <th></th>\n",
       "      <th>sqft_living</th>\n",
       "      <th>log(sqft_living)</th>\n",
       "    </tr>\n",
       "  </thead>\n",
       "  <tbody>\n",
       "    <tr>\n",
       "      <th>0</th>\n",
       "      <td>1180</td>\n",
       "      <td>7.073270</td>\n",
       "    </tr>\n",
       "    <tr>\n",
       "      <th>1</th>\n",
       "      <td>2770</td>\n",
       "      <td>7.926603</td>\n",
       "    </tr>\n",
       "    <tr>\n",
       "      <th>2</th>\n",
       "      <td>2880</td>\n",
       "      <td>7.965546</td>\n",
       "    </tr>\n",
       "    <tr>\n",
       "      <th>3</th>\n",
       "      <td>2160</td>\n",
       "      <td>7.677864</td>\n",
       "    </tr>\n",
       "    <tr>\n",
       "      <th>4</th>\n",
       "      <td>1120</td>\n",
       "      <td>7.021084</td>\n",
       "    </tr>\n",
       "    <tr>\n",
       "      <th>...</th>\n",
       "      <td>...</td>\n",
       "      <td>...</td>\n",
       "    </tr>\n",
       "    <tr>\n",
       "      <th>30150</th>\n",
       "      <td>1910</td>\n",
       "      <td>7.554859</td>\n",
       "    </tr>\n",
       "    <tr>\n",
       "      <th>30151</th>\n",
       "      <td>2020</td>\n",
       "      <td>7.610853</td>\n",
       "    </tr>\n",
       "    <tr>\n",
       "      <th>30152</th>\n",
       "      <td>1620</td>\n",
       "      <td>7.390181</td>\n",
       "    </tr>\n",
       "    <tr>\n",
       "      <th>30153</th>\n",
       "      <td>2570</td>\n",
       "      <td>7.851661</td>\n",
       "    </tr>\n",
       "    <tr>\n",
       "      <th>30154</th>\n",
       "      <td>1200</td>\n",
       "      <td>7.090077</td>\n",
       "    </tr>\n",
       "  </tbody>\n",
       "</table>\n",
       "<p>30111 rows × 2 columns</p>\n",
       "</div>"
      ],
      "text/plain": [
       "       sqft_living  log(sqft_living)\n",
       "0             1180          7.073270\n",
       "1             2770          7.926603\n",
       "2             2880          7.965546\n",
       "3             2160          7.677864\n",
       "4             1120          7.021084\n",
       "...            ...               ...\n",
       "30150         1910          7.554859\n",
       "30151         2020          7.610853\n",
       "30152         1620          7.390181\n",
       "30153         2570          7.851661\n",
       "30154         1200          7.090077\n",
       "\n",
       "[30111 rows x 2 columns]"
      ]
     },
     "execution_count": 37,
     "metadata": {},
     "output_type": "execute_result"
    }
   ],
   "source": [
    "X_sqft_log = X_raw.copy()\n",
    "\n",
    "X_sqft_log[\"log(sqft_living)\"] = np.log(X_sqft_log[\"sqft_living\"])\n",
    "\n",
    "# Visually inspect raw vs. transformed values\n",
    "X_sqft_log[[\"sqft_living\", \"log(sqft_living)\"]]"
   ]
  },
  {
   "cell_type": "code",
   "execution_count": 38,
   "metadata": {},
   "outputs": [
    {
     "data": {
      "text/plain": [
       "Text(0.5, 0, 'log(sqft_living)')"
      ]
     },
     "execution_count": 38,
     "metadata": {},
     "output_type": "execute_result"
    },
    {
     "data": {
      "image/png": "[encoded data removed]",
      "text/plain": [
       "<Figure size 504x216 with 2 Axes>"
      ]
     },
     "metadata": {
      "needs_background": "light"
     },
     "output_type": "display_data"
    }
   ],
   "source": [
    "fig, (ax1, ax2) = plt.subplots(ncols=2, figsize=(7,3))\n",
    "ax1.hist(X_sqft_log[\"sqft_living\"])\n",
    "ax1.set_xlabel(\"sqft_living\")\n",
    "ax2.hist(X_sqft_log[\"log(sqft_living)\"], color=\"orange\")\n",
    "ax2.set_xlabel(\"log(sqft_living)\")"
   ]
  },
  {
   "cell_type": "code",
   "execution_count": 41,
   "metadata": {},
   "outputs": [
    {
     "name": "stdout",
     "output_type": "stream",
     "text": [
      "                            OLS Regression Results                            \n",
      "==============================================================================\n",
      "Dep. Variable:                  price   R-squared:                       0.327\n",
      "Model:                            OLS   Adj. R-squared:                  0.327\n",
      "Method:                 Least Squares   F-statistic:                     4872.\n",
      "Date:                Tue, 07 Feb 2023   Prob (F-statistic):               0.00\n",
      "Time:                        12:09:01   Log-Likelihood:            -4.4948e+05\n",
      "No. Observations:               30111   AIC:                         8.990e+05\n",
      "Df Residuals:                   30107   BIC:                         8.990e+05\n",
      "Df Model:                           3                                         \n",
      "Covariance Type:            nonrobust                                         \n",
      "====================================================================================\n",
      "                       coef    std err          t      P>|t|      [0.025      0.975]\n",
      "------------------------------------------------------------------------------------\n",
      "const            -4.712e+06   9.96e+04    -47.328      0.000   -4.91e+06   -4.52e+06\n",
      "bathrooms         2.085e+05   7381.367     28.249      0.000    1.94e+05    2.23e+05\n",
      "waterfront_YES    1.441e+06   3.29e+04     43.854      0.000    1.38e+06    1.51e+06\n",
      "log(sqft_living)  7.024e+05   1.48e+04     47.404      0.000    6.73e+05    7.31e+05\n",
      "==============================================================================\n",
      "Omnibus:                    40089.589   Durbin-Watson:                   1.871\n",
      "Prob(Omnibus):                  0.000   Jarque-Bera (JB):         27673280.683\n",
      "Skew:                           7.127   Prob(JB):                         0.00\n",
      "Kurtosis:                     150.831   Cond. No.                         190.\n",
      "==============================================================================\n",
      "\n",
      "Notes:\n",
      "[1] Standard Errors assume that the covariance matrix of the errors is correctly specified.\n"
     ]
    }
   ],
   "source": [
    "X_sqft_log.drop('sqft_living', axis=1, inplace=True)\n",
    "\n",
    "y_log = y_raw\n",
    "X_log_model = sm.OLS(y_log, sm.add_constant(X_sqft_log))\n",
    "X_log_results = X_log_model.fit()\n",
    "\n",
    "\n",
    "print(X_log_results.summary())"
   ]
  },
  {
   "cell_type": "code",
   "execution_count": null,
   "metadata": {},
   "outputs": [],
   "source": [
    "log_model = sm.OLS(y_log, sm.add_constant(X_log))\n",
    "log_results = log_model.fit()\n",
    "print(baseline_results.summary())"
   ]
  },
  {
   "cell_type": "markdown",
   "metadata": {},
   "source": [
    "## Map and Neighborhoods"
   ]
  },
  {
   "cell_type": "code",
   "execution_count": null,
   "metadata": {},
   "outputs": [],
   "source": [
    "\n",
    "import folium\n",
    "from folium.plugins import MarkerCluster\n",
    "from folium.plugins import HeatMap"
   ]
  },
  {
   "cell_type": "code",
   "execution_count": null,
   "metadata": {},
   "outputs": [],
   "source": [
    "#Define coordinates of where we want to center our map\n",
    "kc_coords = [47.6561, -122.005]\n",
    "\n",
    "#Create the map\n",
    "my_map = folium.Map(location = kc_coords, zoom_start = 13)\n",
    "\n",
    "#Display the map\n",
    "my_map"
   ]
  },
  {
   "cell_type": "code",
   "execution_count": null,
   "metadata": {},
   "outputs": [],
   "source": [
    "#Create the dataframe containing the data we want.\n",
    "dfmap.zipcode = df_kc.zip.astype(int)\n",
    "zipcode_means = []\n",
    "for i in dfmap.zipcode.unique().tolist():\n",
    "    val = dfmap[dfmap['zip'] == i]['price'].mean()\n",
    "    lat = dfmap[dfmap['zip'] == i]['lat'].mean()\n",
    "    long = dfmap[dfmap['zip'] == i]['long'].mean()\n",
    "    zipcode_means.append([str(i), val, lat, long])\n",
    "xall = []\n",
    "yall = []\n",
    "latall = []\n",
    "longall = []\n",
    "for val in zipcode_means:\n",
    "    xall.append(val[0])\n",
    "    yall.append(val[1])\n",
    "    latall.append(val[2])\n",
    "    longall.append(val[3])\n",
    "tdf = pd.DataFrame(list(zip(xall, yall, latall, longall)),\n",
    "                    columns = ['Zipcode', 'Price', 'Latitude', 'Longitude'])"
   ]
  },
  {
   "cell_type": "code",
   "execution_count": 2,
   "metadata": {},
   "outputs": [
    {
     "ename": "ModuleNotFoundError",
     "evalue": "No module named 'geopandas'",
     "output_type": "error",
     "traceback": [
      "\u001b[0;31m---------------------------------------------------------------------------\u001b[0m",
      "\u001b[0;31mModuleNotFoundError\u001b[0m                       Traceback (most recent call last)",
      "\u001b[0;32m<ipython-input-2-546ea0d76490>\u001b[0m in \u001b[0;36m<module>\u001b[0;34m\u001b[0m\n\u001b[0;32m----> 1\u001b[0;31m \u001b[0;32mimport\u001b[0m \u001b[0mgeopandas\u001b[0m \u001b[0;32mas\u001b[0m \u001b[0mgpd\u001b[0m\u001b[0;34m\u001b[0m\u001b[0;34m\u001b[0m\u001b[0m\n\u001b[0m\u001b[1;32m      2\u001b[0m \u001b[0;34m\u001b[0m\u001b[0m\n",
      "\u001b[0;31mModuleNotFoundError\u001b[0m: No module named 'geopandas'"
     ]
    }
   ],
   "source": [
    "import geopandas as gpd\n",
    "\n"
   ]
  },
  {
   "cell_type": "code",
   "execution_count": 18,
   "metadata": {},
   "outputs": [],
   "source": [
    "#extract zip codes.  We should have 224 different zipcodes -but there's an extra 176\n",
    "df['zip'] = df['address'].str.findall(r'([0-9]\\d+)').apply(\n",
    "    lambda x: x[-1] if len(x) >= 1 else '')"
   ]
  },
  {
   "cell_type": "code",
   "execution_count": 27,
   "metadata": {},
   "outputs": [
    {
     "data": {
      "text/plain": [
       "98042    992\n",
       "98038    858\n",
       "98115    761\n",
       "98103    761\n",
       "98117    748\n",
       "        ... \n",
       "47575      1\n",
       "11373      1\n",
       "68826      1\n",
       "64156      1\n",
       "48503      1\n",
       "Name: zip, Length: 399, dtype: int64"
      ]
     },
     "execution_count": 27,
     "metadata": {},
     "output_type": "execute_result"
    }
   ],
   "source": [
    "# examine zip codes, kc county homes ahould start with 98 but we clearly have some that do not \n",
    "zip_counts= df['zip'].value_counts()\n",
    "zip_counts"
   ]
  },
  {
   "cell_type": "code",
   "execution_count": 47,
   "metadata": {},
   "outputs": [
    {
     "name": "stdout",
     "output_type": "stream",
     "text": [
      "12       5712 A Street, Omaha, Nebraska 68106, United S...\n",
      "53       1820 South State Street, Vineland, New Jersey ...\n",
      "62       1804 Spruce Street, McLeansboro, Illinois 6285...\n",
      "159      626 13th Street, Union City, New Jersey 07087,...\n",
      "172      11th Avenue, West Babylon, New York 11704, Uni...\n",
      "                               ...                        \n",
      "30029    Avenue Cuts, 34 Ridge Rd, North Arlington, New...\n",
      "30044    36th Avenue, Kenosha, Wisconsin 53142, United ...\n",
      "30116    57th Street Lane NW, Rochester, Minnesota 5590...\n",
      "30129    214 B, Mount Laurel, New Jersey 08054, United ...\n",
      "30144    2954 Northwest 85th Street, Miami, Florida 331...\n",
      "Name: address, Length: 914, dtype: object\n"
     ]
    }
   ],
   "source": [
    "# closer look at address to double check that entries are erroneous, and not our code.  Clearly some bad data in here\n",
    "df_bad_zips = df[~df['zip'].astype(str).str.startswith('98')]\n",
    "print(df_bad_zips['address'])"
   ]
  },
  {
   "cell_type": "code",
   "execution_count": 48,
   "metadata": {},
   "outputs": [
    {
     "data": {
      "text/html": [
       "<div>\n",
       "<style scoped>\n",
       "    .dataframe tbody tr th:only-of-type {\n",
       "        vertical-align: middle;\n",
       "    }\n",
       "\n",
       "    .dataframe tbody tr th {\n",
       "        vertical-align: top;\n",
       "    }\n",
       "\n",
       "    .dataframe thead th {\n",
       "        text-align: right;\n",
       "    }\n",
       "</style>\n",
       "<table border=\"1\" class=\"dataframe\">\n",
       "  <thead>\n",
       "    <tr style=\"text-align: right;\">\n",
       "      <th></th>\n",
       "      <th>id</th>\n",
       "      <th>date</th>\n",
       "      <th>price</th>\n",
       "      <th>bedrooms</th>\n",
       "      <th>bathrooms</th>\n",
       "      <th>sqft_living</th>\n",
       "      <th>sqft_lot</th>\n",
       "      <th>floors</th>\n",
       "      <th>waterfront</th>\n",
       "      <th>greenbelt</th>\n",
       "      <th>...</th>\n",
       "      <th>sqft_above</th>\n",
       "      <th>sqft_basement</th>\n",
       "      <th>sqft_garage</th>\n",
       "      <th>sqft_patio</th>\n",
       "      <th>yr_built</th>\n",
       "      <th>yr_renovated</th>\n",
       "      <th>address</th>\n",
       "      <th>lat</th>\n",
       "      <th>long</th>\n",
       "      <th>zip</th>\n",
       "    </tr>\n",
       "  </thead>\n",
       "  <tbody>\n",
       "    <tr>\n",
       "      <th>4137</th>\n",
       "      <td>2902200584</td>\n",
       "      <td>12/11/2021</td>\n",
       "      <td>750000.0</td>\n",
       "      <td>2</td>\n",
       "      <td>2.0</td>\n",
       "      <td>880</td>\n",
       "      <td>892</td>\n",
       "      <td>3.0</td>\n",
       "      <td>NO</td>\n",
       "      <td>NO</td>\n",
       "      <td>...</td>\n",
       "      <td>880</td>\n",
       "      <td>0</td>\n",
       "      <td>0</td>\n",
       "      <td>320</td>\n",
       "      <td>2017</td>\n",
       "      <td>0</td>\n",
       "      <td>2213 Highway a, Washington, Missouri 63090, Un...</td>\n",
       "      <td>38.531593</td>\n",
       "      <td>-91.021341</td>\n",
       "      <td>63090</td>\n",
       "    </tr>\n",
       "    <tr>\n",
       "      <th>7064</th>\n",
       "      <td>597000591</td>\n",
       "      <td>4/13/2022</td>\n",
       "      <td>715000.0</td>\n",
       "      <td>3</td>\n",
       "      <td>2.5</td>\n",
       "      <td>1530</td>\n",
       "      <td>1101</td>\n",
       "      <td>2.0</td>\n",
       "      <td>NO</td>\n",
       "      <td>NO</td>\n",
       "      <td>...</td>\n",
       "      <td>1040</td>\n",
       "      <td>490</td>\n",
       "      <td>0</td>\n",
       "      <td>375</td>\n",
       "      <td>2009</td>\n",
       "      <td>0</td>\n",
       "      <td>Beacon Ave, Washington, Pennsylvania 15301, Un...</td>\n",
       "      <td>40.105940</td>\n",
       "      <td>-80.317920</td>\n",
       "      <td>15301</td>\n",
       "    </tr>\n",
       "    <tr>\n",
       "      <th>10445</th>\n",
       "      <td>1959701116</td>\n",
       "      <td>3/17/2022</td>\n",
       "      <td>1325000.0</td>\n",
       "      <td>3</td>\n",
       "      <td>2.0</td>\n",
       "      <td>1440</td>\n",
       "      <td>980</td>\n",
       "      <td>2.0</td>\n",
       "      <td>NO</td>\n",
       "      <td>NO</td>\n",
       "      <td>...</td>\n",
       "      <td>960</td>\n",
       "      <td>480</td>\n",
       "      <td>0</td>\n",
       "      <td>510</td>\n",
       "      <td>2018</td>\n",
       "      <td>0</td>\n",
       "      <td>2708 Highway a, Washington, Missouri 63090, Un...</td>\n",
       "      <td>38.534190</td>\n",
       "      <td>-91.020571</td>\n",
       "      <td>63090</td>\n",
       "    </tr>\n",
       "    <tr>\n",
       "      <th>12986</th>\n",
       "      <td>6003500644</td>\n",
       "      <td>11/21/2021</td>\n",
       "      <td>759950.0</td>\n",
       "      <td>2</td>\n",
       "      <td>2.0</td>\n",
       "      <td>1020</td>\n",
       "      <td>740</td>\n",
       "      <td>2.0</td>\n",
       "      <td>NO</td>\n",
       "      <td>NO</td>\n",
       "      <td>...</td>\n",
       "      <td>680</td>\n",
       "      <td>340</td>\n",
       "      <td>0</td>\n",
       "      <td>340</td>\n",
       "      <td>2020</td>\n",
       "      <td>0</td>\n",
       "      <td>1728 East 11th Avenue, Spokane, Washington 992...</td>\n",
       "      <td>47.645200</td>\n",
       "      <td>-117.384760</td>\n",
       "      <td>99202</td>\n",
       "    </tr>\n",
       "    <tr>\n",
       "      <th>17304</th>\n",
       "      <td>2770602496</td>\n",
       "      <td>8/20/2021</td>\n",
       "      <td>789995.0</td>\n",
       "      <td>2</td>\n",
       "      <td>2.0</td>\n",
       "      <td>1310</td>\n",
       "      <td>1220</td>\n",
       "      <td>2.0</td>\n",
       "      <td>NO</td>\n",
       "      <td>NO</td>\n",
       "      <td>...</td>\n",
       "      <td>840</td>\n",
       "      <td>470</td>\n",
       "      <td>0</td>\n",
       "      <td>310</td>\n",
       "      <td>2013</td>\n",
       "      <td>0</td>\n",
       "      <td>21st Avenue, Clarkston, Washington 99403, Unit...</td>\n",
       "      <td>46.389970</td>\n",
       "      <td>-117.056550</td>\n",
       "      <td>99403</td>\n",
       "    </tr>\n",
       "    <tr>\n",
       "      <th>18767</th>\n",
       "      <td>2902200797</td>\n",
       "      <td>9/7/2021</td>\n",
       "      <td>1224000.0</td>\n",
       "      <td>3</td>\n",
       "      <td>2.0</td>\n",
       "      <td>1640</td>\n",
       "      <td>1040</td>\n",
       "      <td>3.0</td>\n",
       "      <td>NO</td>\n",
       "      <td>NO</td>\n",
       "      <td>...</td>\n",
       "      <td>1640</td>\n",
       "      <td>0</td>\n",
       "      <td>0</td>\n",
       "      <td>580</td>\n",
       "      <td>2020</td>\n",
       "      <td>0</td>\n",
       "      <td>2368 Highway a, Washington, Missouri 63090, Un...</td>\n",
       "      <td>38.524842</td>\n",
       "      <td>-91.025180</td>\n",
       "      <td>63090</td>\n",
       "    </tr>\n",
       "    <tr>\n",
       "      <th>22537</th>\n",
       "      <td>5414100061</td>\n",
       "      <td>1/2/2022</td>\n",
       "      <td>679950.0</td>\n",
       "      <td>2</td>\n",
       "      <td>2.0</td>\n",
       "      <td>1170</td>\n",
       "      <td>761</td>\n",
       "      <td>3.0</td>\n",
       "      <td>NO</td>\n",
       "      <td>NO</td>\n",
       "      <td>...</td>\n",
       "      <td>1170</td>\n",
       "      <td>0</td>\n",
       "      <td>0</td>\n",
       "      <td>290</td>\n",
       "      <td>2021</td>\n",
       "      <td>0</td>\n",
       "      <td>East 32nd Avenue, Spokane, Washington 99203, U...</td>\n",
       "      <td>47.625580</td>\n",
       "      <td>-117.395840</td>\n",
       "      <td>99203</td>\n",
       "    </tr>\n",
       "    <tr>\n",
       "      <th>25314</th>\n",
       "      <td>1703400362</td>\n",
       "      <td>2/15/2022</td>\n",
       "      <td>879000.0</td>\n",
       "      <td>3</td>\n",
       "      <td>2.0</td>\n",
       "      <td>1610</td>\n",
       "      <td>1005</td>\n",
       "      <td>3.5</td>\n",
       "      <td>NO</td>\n",
       "      <td>NO</td>\n",
       "      <td>...</td>\n",
       "      <td>1610</td>\n",
       "      <td>0</td>\n",
       "      <td>0</td>\n",
       "      <td>230</td>\n",
       "      <td>2021</td>\n",
       "      <td>0</td>\n",
       "      <td>4736 East 35th Avenue, Spokane, Washington 992...</td>\n",
       "      <td>47.622819</td>\n",
       "      <td>-117.347162</td>\n",
       "      <td>99223</td>\n",
       "    </tr>\n",
       "  </tbody>\n",
       "</table>\n",
       "<p>8 rows × 26 columns</p>\n",
       "</div>"
      ],
      "text/plain": [
       "               id        date      price  bedrooms  bathrooms  sqft_living  \\\n",
       "4137   2902200584  12/11/2021   750000.0         2        2.0          880   \n",
       "7064    597000591   4/13/2022   715000.0         3        2.5         1530   \n",
       "10445  1959701116   3/17/2022  1325000.0         3        2.0         1440   \n",
       "12986  6003500644  11/21/2021   759950.0         2        2.0         1020   \n",
       "17304  2770602496   8/20/2021   789995.0         2        2.0         1310   \n",
       "18767  2902200797    9/7/2021  1224000.0         3        2.0         1640   \n",
       "22537  5414100061    1/2/2022   679950.0         2        2.0         1170   \n",
       "25314  1703400362   2/15/2022   879000.0         3        2.0         1610   \n",
       "\n",
       "       sqft_lot  floors waterfront greenbelt  ... sqft_above sqft_basement  \\\n",
       "4137        892     3.0         NO        NO  ...        880             0   \n",
       "7064       1101     2.0         NO        NO  ...       1040           490   \n",
       "10445       980     2.0         NO        NO  ...        960           480   \n",
       "12986       740     2.0         NO        NO  ...        680           340   \n",
       "17304      1220     2.0         NO        NO  ...        840           470   \n",
       "18767      1040     3.0         NO        NO  ...       1640             0   \n",
       "22537       761     3.0         NO        NO  ...       1170             0   \n",
       "25314      1005     3.5         NO        NO  ...       1610             0   \n",
       "\n",
       "      sqft_garage sqft_patio yr_built yr_renovated  \\\n",
       "4137            0        320     2017            0   \n",
       "7064            0        375     2009            0   \n",
       "10445           0        510     2018            0   \n",
       "12986           0        340     2020            0   \n",
       "17304           0        310     2013            0   \n",
       "18767           0        580     2020            0   \n",
       "22537           0        290     2021            0   \n",
       "25314           0        230     2021            0   \n",
       "\n",
       "                                                 address        lat  \\\n",
       "4137   2213 Highway a, Washington, Missouri 63090, Un...  38.531593   \n",
       "7064   Beacon Ave, Washington, Pennsylvania 15301, Un...  40.105940   \n",
       "10445  2708 Highway a, Washington, Missouri 63090, Un...  38.534190   \n",
       "12986  1728 East 11th Avenue, Spokane, Washington 992...  47.645200   \n",
       "17304  21st Avenue, Clarkston, Washington 99403, Unit...  46.389970   \n",
       "18767  2368 Highway a, Washington, Missouri 63090, Un...  38.524842   \n",
       "22537  East 32nd Avenue, Spokane, Washington 99203, U...  47.625580   \n",
       "25314  4736 East 35th Avenue, Spokane, Washington 992...  47.622819   \n",
       "\n",
       "             long    zip  \n",
       "4137   -91.021341  63090  \n",
       "7064   -80.317920  15301  \n",
       "10445  -91.020571  63090  \n",
       "12986 -117.384760  99202  \n",
       "17304 -117.056550  99403  \n",
       "18767  -91.025180  63090  \n",
       "22537 -117.395840  99203  \n",
       "25314 -117.347162  99223  \n",
       "\n",
       "[8 rows x 26 columns]"
      ]
     },
     "execution_count": 48,
     "metadata": {},
     "output_type": "execute_result"
    }
   ],
   "source": [
    "#Does the address have Seattle, Washington in it?  \n",
    "df_bad_zips[df_bad_zips['address'].str.contains('Washington')]\n"
   ]
  },
  {
   "cell_type": "code",
   "execution_count": null,
   "metadata": {},
   "outputs": [],
   "source": []
  },
  {
   "cell_type": "code",
   "execution_count": 49,
   "metadata": {
    "scrolled": true
   },
   "outputs": [
    {
     "data": {
      "text/plain": [
       "29241"
      ]
     },
     "execution_count": 49,
     "metadata": {},
     "output_type": "execute_result"
    }
   ],
   "source": [
    "# Doesn't look that way, so we'll drop the entries from the df in that are not from the Seattle area (df_bad_zips)\n",
    "df_kc = df[df['zip'].astype(str).str.startswith('98')]\n",
    "len(df_kc)"
   ]
  },
  {
   "cell_type": "code",
   "execution_count": 52,
   "metadata": {},
   "outputs": [
    {
     "data": {
      "text/plain": [
       "True"
      ]
     },
     "execution_count": 52,
     "metadata": {},
     "output_type": "execute_result"
    }
   ],
   "source": [
    "#Check if we've got the right number of records \n",
    "bool(len(df_kc) + len(df_bad_zips)==len(df))"
   ]
  },
  {
   "cell_type": "code",
   "execution_count": null,
   "metadata": {},
   "outputs": [],
   "source": [
    "import re\n"
   ]
  },
  {
   "cell_type": "code",
   "execution_count": null,
   "metadata": {},
   "outputs": [],
   "source": [
    "re.findall(^\\d, 98)"
   ]
  },
  {
   "cell_type": "code",
   "execution_count": null,
   "metadata": {},
   "outputs": [],
   "source": [
    "pip install geopy\n",
    "from geopy.geocoders import Nominatim\n"
   ]
  },
  {
   "cell_type": "code",
   "execution_count": 7,
   "metadata": {},
   "outputs": [
    {
     "data": {
      "image/png": "[encoded data removed]",
      "text/plain": [
       "<Figure size 720x360 with 1 Axes>"
      ]
     },
     "metadata": {
      "needs_background": "light"
     },
     "output_type": "display_data"
    }
   ],
   "source": [
    "fig, ax = plt.subplots(figsize=(10,5))\n",
    "df.groupby(\"zip\").mean().sort_values(by=\"price\").plot.bar(y=\"price\", ax=ax)\n",
    "ax.axhline(y=df[\"price\"].mean(), label=\"mean\", color=\"black\", linestyle=\"--\")\n",
    "\n",
    "ax.legend();"
   ]
  },
  {
   "cell_type": "code",
   "execution_count": 12,
   "metadata": {},
   "outputs": [
    {
     "data": {
      "text/html": [
       "<div>\n",
       "<style scoped>\n",
       "    .dataframe tbody tr th:only-of-type {\n",
       "        vertical-align: middle;\n",
       "    }\n",
       "\n",
       "    .dataframe tbody tr th {\n",
       "        vertical-align: top;\n",
       "    }\n",
       "\n",
       "    .dataframe thead th {\n",
       "        text-align: right;\n",
       "    }\n",
       "</style>\n",
       "<table border=\"1\" class=\"dataframe\">\n",
       "  <thead>\n",
       "    <tr style=\"text-align: right;\">\n",
       "      <th></th>\n",
       "      <th>id</th>\n",
       "      <th>date</th>\n",
       "      <th>price</th>\n",
       "      <th>bedrooms</th>\n",
       "      <th>bathrooms</th>\n",
       "      <th>sqft_living</th>\n",
       "      <th>sqft_lot</th>\n",
       "      <th>floors</th>\n",
       "      <th>waterfront</th>\n",
       "      <th>greenbelt</th>\n",
       "      <th>...</th>\n",
       "      <th>sewer_system</th>\n",
       "      <th>sqft_above</th>\n",
       "      <th>sqft_basement</th>\n",
       "      <th>sqft_garage</th>\n",
       "      <th>sqft_patio</th>\n",
       "      <th>yr_built</th>\n",
       "      <th>yr_renovated</th>\n",
       "      <th>address</th>\n",
       "      <th>lat</th>\n",
       "      <th>long</th>\n",
       "    </tr>\n",
       "    <tr>\n",
       "      <th>zip</th>\n",
       "      <th></th>\n",
       "      <th></th>\n",
       "      <th></th>\n",
       "      <th></th>\n",
       "      <th></th>\n",
       "      <th></th>\n",
       "      <th></th>\n",
       "      <th></th>\n",
       "      <th></th>\n",
       "      <th></th>\n",
       "      <th></th>\n",
       "      <th></th>\n",
       "      <th></th>\n",
       "      <th></th>\n",
       "      <th></th>\n",
       "      <th></th>\n",
       "      <th></th>\n",
       "      <th></th>\n",
       "      <th></th>\n",
       "      <th></th>\n",
       "      <th></th>\n",
       "    </tr>\n",
       "  </thead>\n",
       "  <tbody>\n",
       "    <tr>\n",
       "      <th>01541</th>\n",
       "      <td>2</td>\n",
       "      <td>2</td>\n",
       "      <td>2</td>\n",
       "      <td>2</td>\n",
       "      <td>2</td>\n",
       "      <td>2</td>\n",
       "      <td>2</td>\n",
       "      <td>2</td>\n",
       "      <td>2</td>\n",
       "      <td>2</td>\n",
       "      <td>...</td>\n",
       "      <td>2</td>\n",
       "      <td>2</td>\n",
       "      <td>2</td>\n",
       "      <td>2</td>\n",
       "      <td>2</td>\n",
       "      <td>2</td>\n",
       "      <td>2</td>\n",
       "      <td>2</td>\n",
       "      <td>2</td>\n",
       "      <td>2</td>\n",
       "    </tr>\n",
       "    <tr>\n",
       "      <th>02066</th>\n",
       "      <td>15</td>\n",
       "      <td>15</td>\n",
       "      <td>15</td>\n",
       "      <td>15</td>\n",
       "      <td>15</td>\n",
       "      <td>15</td>\n",
       "      <td>15</td>\n",
       "      <td>15</td>\n",
       "      <td>15</td>\n",
       "      <td>15</td>\n",
       "      <td>...</td>\n",
       "      <td>15</td>\n",
       "      <td>15</td>\n",
       "      <td>15</td>\n",
       "      <td>15</td>\n",
       "      <td>15</td>\n",
       "      <td>15</td>\n",
       "      <td>15</td>\n",
       "      <td>15</td>\n",
       "      <td>15</td>\n",
       "      <td>15</td>\n",
       "    </tr>\n",
       "    <tr>\n",
       "      <th>02134</th>\n",
       "      <td>5</td>\n",
       "      <td>5</td>\n",
       "      <td>5</td>\n",
       "      <td>5</td>\n",
       "      <td>5</td>\n",
       "      <td>5</td>\n",
       "      <td>5</td>\n",
       "      <td>5</td>\n",
       "      <td>5</td>\n",
       "      <td>5</td>\n",
       "      <td>...</td>\n",
       "      <td>5</td>\n",
       "      <td>5</td>\n",
       "      <td>5</td>\n",
       "      <td>5</td>\n",
       "      <td>5</td>\n",
       "      <td>5</td>\n",
       "      <td>5</td>\n",
       "      <td>5</td>\n",
       "      <td>5</td>\n",
       "      <td>5</td>\n",
       "    </tr>\n",
       "    <tr>\n",
       "      <th>02149</th>\n",
       "      <td>1</td>\n",
       "      <td>1</td>\n",
       "      <td>1</td>\n",
       "      <td>1</td>\n",
       "      <td>1</td>\n",
       "      <td>1</td>\n",
       "      <td>1</td>\n",
       "      <td>1</td>\n",
       "      <td>1</td>\n",
       "      <td>1</td>\n",
       "      <td>...</td>\n",
       "      <td>1</td>\n",
       "      <td>1</td>\n",
       "      <td>1</td>\n",
       "      <td>1</td>\n",
       "      <td>1</td>\n",
       "      <td>1</td>\n",
       "      <td>1</td>\n",
       "      <td>1</td>\n",
       "      <td>1</td>\n",
       "      <td>1</td>\n",
       "    </tr>\n",
       "    <tr>\n",
       "      <th>02341</th>\n",
       "      <td>1</td>\n",
       "      <td>1</td>\n",
       "      <td>1</td>\n",
       "      <td>1</td>\n",
       "      <td>1</td>\n",
       "      <td>1</td>\n",
       "      <td>1</td>\n",
       "      <td>1</td>\n",
       "      <td>1</td>\n",
       "      <td>1</td>\n",
       "      <td>...</td>\n",
       "      <td>1</td>\n",
       "      <td>1</td>\n",
       "      <td>1</td>\n",
       "      <td>1</td>\n",
       "      <td>1</td>\n",
       "      <td>1</td>\n",
       "      <td>1</td>\n",
       "      <td>1</td>\n",
       "      <td>1</td>\n",
       "      <td>1</td>\n",
       "    </tr>\n",
       "    <tr>\n",
       "      <th>...</th>\n",
       "      <td>...</td>\n",
       "      <td>...</td>\n",
       "      <td>...</td>\n",
       "      <td>...</td>\n",
       "      <td>...</td>\n",
       "      <td>...</td>\n",
       "      <td>...</td>\n",
       "      <td>...</td>\n",
       "      <td>...</td>\n",
       "      <td>...</td>\n",
       "      <td>...</td>\n",
       "      <td>...</td>\n",
       "      <td>...</td>\n",
       "      <td>...</td>\n",
       "      <td>...</td>\n",
       "      <td>...</td>\n",
       "      <td>...</td>\n",
       "      <td>...</td>\n",
       "      <td>...</td>\n",
       "      <td>...</td>\n",
       "      <td>...</td>\n",
       "    </tr>\n",
       "    <tr>\n",
       "      <th>99403</th>\n",
       "      <td>1</td>\n",
       "      <td>1</td>\n",
       "      <td>1</td>\n",
       "      <td>1</td>\n",
       "      <td>1</td>\n",
       "      <td>1</td>\n",
       "      <td>1</td>\n",
       "      <td>1</td>\n",
       "      <td>1</td>\n",
       "      <td>1</td>\n",
       "      <td>...</td>\n",
       "      <td>1</td>\n",
       "      <td>1</td>\n",
       "      <td>1</td>\n",
       "      <td>1</td>\n",
       "      <td>1</td>\n",
       "      <td>1</td>\n",
       "      <td>1</td>\n",
       "      <td>1</td>\n",
       "      <td>1</td>\n",
       "      <td>1</td>\n",
       "    </tr>\n",
       "    <tr>\n",
       "      <th>99501</th>\n",
       "      <td>1</td>\n",
       "      <td>1</td>\n",
       "      <td>1</td>\n",
       "      <td>1</td>\n",
       "      <td>1</td>\n",
       "      <td>1</td>\n",
       "      <td>1</td>\n",
       "      <td>1</td>\n",
       "      <td>1</td>\n",
       "      <td>1</td>\n",
       "      <td>...</td>\n",
       "      <td>1</td>\n",
       "      <td>1</td>\n",
       "      <td>1</td>\n",
       "      <td>1</td>\n",
       "      <td>1</td>\n",
       "      <td>1</td>\n",
       "      <td>1</td>\n",
       "      <td>1</td>\n",
       "      <td>1</td>\n",
       "      <td>1</td>\n",
       "    </tr>\n",
       "    <tr>\n",
       "      <th>99504</th>\n",
       "      <td>4</td>\n",
       "      <td>4</td>\n",
       "      <td>4</td>\n",
       "      <td>4</td>\n",
       "      <td>4</td>\n",
       "      <td>4</td>\n",
       "      <td>4</td>\n",
       "      <td>4</td>\n",
       "      <td>4</td>\n",
       "      <td>4</td>\n",
       "      <td>...</td>\n",
       "      <td>4</td>\n",
       "      <td>4</td>\n",
       "      <td>4</td>\n",
       "      <td>4</td>\n",
       "      <td>4</td>\n",
       "      <td>4</td>\n",
       "      <td>4</td>\n",
       "      <td>4</td>\n",
       "      <td>4</td>\n",
       "      <td>4</td>\n",
       "    </tr>\n",
       "    <tr>\n",
       "      <th>99701</th>\n",
       "      <td>1</td>\n",
       "      <td>1</td>\n",
       "      <td>1</td>\n",
       "      <td>1</td>\n",
       "      <td>1</td>\n",
       "      <td>1</td>\n",
       "      <td>1</td>\n",
       "      <td>1</td>\n",
       "      <td>1</td>\n",
       "      <td>1</td>\n",
       "      <td>...</td>\n",
       "      <td>1</td>\n",
       "      <td>1</td>\n",
       "      <td>1</td>\n",
       "      <td>1</td>\n",
       "      <td>1</td>\n",
       "      <td>1</td>\n",
       "      <td>1</td>\n",
       "      <td>1</td>\n",
       "      <td>1</td>\n",
       "      <td>1</td>\n",
       "    </tr>\n",
       "    <tr>\n",
       "      <th>99705</th>\n",
       "      <td>1</td>\n",
       "      <td>1</td>\n",
       "      <td>1</td>\n",
       "      <td>1</td>\n",
       "      <td>1</td>\n",
       "      <td>1</td>\n",
       "      <td>1</td>\n",
       "      <td>1</td>\n",
       "      <td>1</td>\n",
       "      <td>1</td>\n",
       "      <td>...</td>\n",
       "      <td>1</td>\n",
       "      <td>1</td>\n",
       "      <td>1</td>\n",
       "      <td>1</td>\n",
       "      <td>1</td>\n",
       "      <td>1</td>\n",
       "      <td>1</td>\n",
       "      <td>1</td>\n",
       "      <td>1</td>\n",
       "      <td>1</td>\n",
       "    </tr>\n",
       "  </tbody>\n",
       "</table>\n",
       "<p>8518 rows × 25 columns</p>\n",
       "</div>"
      ],
      "text/plain": [
       "       id  date  price  bedrooms  bathrooms  sqft_living  sqft_lot  floors  \\\n",
       "zip                                                                          \n",
       "01541   2     2      2         2          2            2         2       2   \n",
       "02066  15    15     15        15         15           15        15      15   \n",
       "02134   5     5      5         5          5            5         5       5   \n",
       "02149   1     1      1         1          1            1         1       1   \n",
       "02341   1     1      1         1          1            1         1       1   \n",
       "...    ..   ...    ...       ...        ...          ...       ...     ...   \n",
       "99403   1     1      1         1          1            1         1       1   \n",
       "99501   1     1      1         1          1            1         1       1   \n",
       "99504   4     4      4         4          4            4         4       4   \n",
       "99701   1     1      1         1          1            1         1       1   \n",
       "99705   1     1      1         1          1            1         1       1   \n",
       "\n",
       "       waterfront  greenbelt  ...  sewer_system  sqft_above  sqft_basement  \\\n",
       "zip                           ...                                            \n",
       "01541           2          2  ...             2           2              2   \n",
       "02066          15         15  ...            15          15             15   \n",
       "02134           5          5  ...             5           5              5   \n",
       "02149           1          1  ...             1           1              1   \n",
       "02341           1          1  ...             1           1              1   \n",
       "...           ...        ...  ...           ...         ...            ...   \n",
       "99403           1          1  ...             1           1              1   \n",
       "99501           1          1  ...             1           1              1   \n",
       "99504           4          4  ...             4           4              4   \n",
       "99701           1          1  ...             1           1              1   \n",
       "99705           1          1  ...             1           1              1   \n",
       "\n",
       "       sqft_garage  sqft_patio  yr_built  yr_renovated  address  lat  long  \n",
       "zip                                                                         \n",
       "01541            2           2         2             2        2    2     2  \n",
       "02066           15          15        15            15       15   15    15  \n",
       "02134            5           5         5             5        5    5     5  \n",
       "02149            1           1         1             1        1    1     1  \n",
       "02341            1           1         1             1        1    1     1  \n",
       "...            ...         ...       ...           ...      ...  ...   ...  \n",
       "99403            1           1         1             1        1    1     1  \n",
       "99501            1           1         1             1        1    1     1  \n",
       "99504            4           4         4             4        4    4     4  \n",
       "99701            1           1         1             1        1    1     1  \n",
       "99705            1           1         1             1        1    1     1  \n",
       "\n",
       "[8518 rows x 25 columns]"
      ]
     },
     "execution_count": 12,
     "metadata": {},
     "output_type": "execute_result"
    }
   ],
   "source": []
  },
  {
   "cell_type": "code",
   "execution_count": 6,
   "metadata": {},
   "outputs": [
    {
     "data": {
      "text/html": [
       "<div>\n",
       "<style scoped>\n",
       "    .dataframe tbody tr th:only-of-type {\n",
       "        vertical-align: middle;\n",
       "    }\n",
       "\n",
       "    .dataframe tbody tr th {\n",
       "        vertical-align: top;\n",
       "    }\n",
       "\n",
       "    .dataframe thead th {\n",
       "        text-align: right;\n",
       "    }\n",
       "</style>\n",
       "<table border=\"1\" class=\"dataframe\">\n",
       "  <thead>\n",
       "    <tr style=\"text-align: right;\">\n",
       "      <th></th>\n",
       "      <th>zip</th>\n",
       "      <th>type</th>\n",
       "      <th>decommissioned</th>\n",
       "      <th>primary_city</th>\n",
       "      <th>acceptable_cities</th>\n",
       "      <th>unacceptable_cities</th>\n",
       "      <th>state</th>\n",
       "      <th>county</th>\n",
       "      <th>timezone</th>\n",
       "      <th>area_codes</th>\n",
       "      <th>world_region</th>\n",
       "      <th>country</th>\n",
       "      <th>latitude</th>\n",
       "      <th>longitude</th>\n",
       "      <th>irs_estimated_population</th>\n",
       "    </tr>\n",
       "  </thead>\n",
       "  <tbody>\n",
       "    <tr>\n",
       "      <th>186</th>\n",
       "      <td>981</td>\n",
       "      <td>PO BOX</td>\n",
       "      <td>0</td>\n",
       "      <td>Carolina</td>\n",
       "      <td>NaN</td>\n",
       "      <td>Isla Verde</td>\n",
       "      <td>PR</td>\n",
       "      <td>Carolina</td>\n",
       "      <td>America/Puerto_Rico</td>\n",
       "      <td>NaN</td>\n",
       "      <td>NaN</td>\n",
       "      <td>US</td>\n",
       "      <td>18.40</td>\n",
       "      <td>-65.98</td>\n",
       "      <td>0</td>\n",
       "    </tr>\n",
       "    <tr>\n",
       "      <th>3678</th>\n",
       "      <td>9810</td>\n",
       "      <td>MILITARY</td>\n",
       "      <td>0</td>\n",
       "      <td>Apo</td>\n",
       "      <td>NaN</td>\n",
       "      <td>NaN</td>\n",
       "      <td>AE</td>\n",
       "      <td>NaN</td>\n",
       "      <td>NaN</td>\n",
       "      <td>NaN</td>\n",
       "      <td>EU</td>\n",
       "      <td>TR</td>\n",
       "      <td>0.00</td>\n",
       "      <td>0.00</td>\n",
       "      <td>0</td>\n",
       "    </tr>\n",
       "    <tr>\n",
       "      <th>3679</th>\n",
       "      <td>9811</td>\n",
       "      <td>MILITARY</td>\n",
       "      <td>0</td>\n",
       "      <td>Dpo</td>\n",
       "      <td>NaN</td>\n",
       "      <td>NaN</td>\n",
       "      <td>AE</td>\n",
       "      <td>NaN</td>\n",
       "      <td>NaN</td>\n",
       "      <td>NaN</td>\n",
       "      <td>NaN</td>\n",
       "      <td>US</td>\n",
       "      <td>0.00</td>\n",
       "      <td>0.00</td>\n",
       "      <td>0</td>\n",
       "    </tr>\n",
       "    <tr>\n",
       "      <th>3680</th>\n",
       "      <td>9812</td>\n",
       "      <td>MILITARY</td>\n",
       "      <td>0</td>\n",
       "      <td>Dpo</td>\n",
       "      <td>NaN</td>\n",
       "      <td>NaN</td>\n",
       "      <td>AE</td>\n",
       "      <td>NaN</td>\n",
       "      <td>NaN</td>\n",
       "      <td>NaN</td>\n",
       "      <td>NaN</td>\n",
       "      <td>US</td>\n",
       "      <td>0.00</td>\n",
       "      <td>0.00</td>\n",
       "      <td>0</td>\n",
       "    </tr>\n",
       "    <tr>\n",
       "      <th>3681</th>\n",
       "      <td>9813</td>\n",
       "      <td>MILITARY</td>\n",
       "      <td>0</td>\n",
       "      <td>Dpo</td>\n",
       "      <td>NaN</td>\n",
       "      <td>NaN</td>\n",
       "      <td>AE</td>\n",
       "      <td>NaN</td>\n",
       "      <td>NaN</td>\n",
       "      <td>NaN</td>\n",
       "      <td>NaN</td>\n",
       "      <td>US</td>\n",
       "      <td>0.00</td>\n",
       "      <td>0.00</td>\n",
       "      <td>0</td>\n",
       "    </tr>\n",
       "    <tr>\n",
       "      <th>...</th>\n",
       "      <td>...</td>\n",
       "      <td>...</td>\n",
       "      <td>...</td>\n",
       "      <td>...</td>\n",
       "      <td>...</td>\n",
       "      <td>...</td>\n",
       "      <td>...</td>\n",
       "      <td>...</td>\n",
       "      <td>...</td>\n",
       "      <td>...</td>\n",
       "      <td>...</td>\n",
       "      <td>...</td>\n",
       "      <td>...</td>\n",
       "      <td>...</td>\n",
       "      <td>...</td>\n",
       "    </tr>\n",
       "    <tr>\n",
       "      <th>41860</th>\n",
       "      <td>98191</td>\n",
       "      <td>UNIQUE</td>\n",
       "      <td>0</td>\n",
       "      <td>Seattle</td>\n",
       "      <td>NaN</td>\n",
       "      <td>Qwest</td>\n",
       "      <td>WA</td>\n",
       "      <td>King County</td>\n",
       "      <td>America/Los_Angeles</td>\n",
       "      <td>206</td>\n",
       "      <td>NaN</td>\n",
       "      <td>US</td>\n",
       "      <td>47.61</td>\n",
       "      <td>-122.33</td>\n",
       "      <td>0</td>\n",
       "    </tr>\n",
       "    <tr>\n",
       "      <th>41861</th>\n",
       "      <td>98194</td>\n",
       "      <td>PO BOX</td>\n",
       "      <td>0</td>\n",
       "      <td>Seattle</td>\n",
       "      <td>NaN</td>\n",
       "      <td>NaN</td>\n",
       "      <td>WA</td>\n",
       "      <td>King County</td>\n",
       "      <td>America/Los_Angeles</td>\n",
       "      <td>206</td>\n",
       "      <td>NaN</td>\n",
       "      <td>US</td>\n",
       "      <td>47.61</td>\n",
       "      <td>-122.33</td>\n",
       "      <td>299</td>\n",
       "    </tr>\n",
       "    <tr>\n",
       "      <th>41862</th>\n",
       "      <td>98195</td>\n",
       "      <td>UNIQUE</td>\n",
       "      <td>0</td>\n",
       "      <td>Seattle</td>\n",
       "      <td>NaN</td>\n",
       "      <td>Univ Of Washington</td>\n",
       "      <td>WA</td>\n",
       "      <td>King County</td>\n",
       "      <td>America/Los_Angeles</td>\n",
       "      <td>206</td>\n",
       "      <td>NaN</td>\n",
       "      <td>US</td>\n",
       "      <td>47.65</td>\n",
       "      <td>-122.31</td>\n",
       "      <td>192</td>\n",
       "    </tr>\n",
       "    <tr>\n",
       "      <th>41863</th>\n",
       "      <td>98198</td>\n",
       "      <td>STANDARD</td>\n",
       "      <td>0</td>\n",
       "      <td>Seattle</td>\n",
       "      <td>Des Moines, Normandy Park, Seatac</td>\n",
       "      <td>Redondo Beach</td>\n",
       "      <td>WA</td>\n",
       "      <td>King County</td>\n",
       "      <td>America/Los_Angeles</td>\n",
       "      <td>206,253</td>\n",
       "      <td>NaN</td>\n",
       "      <td>US</td>\n",
       "      <td>47.38</td>\n",
       "      <td>-122.31</td>\n",
       "      <td>34610</td>\n",
       "    </tr>\n",
       "    <tr>\n",
       "      <th>41864</th>\n",
       "      <td>98199</td>\n",
       "      <td>STANDARD</td>\n",
       "      <td>0</td>\n",
       "      <td>Seattle</td>\n",
       "      <td>NaN</td>\n",
       "      <td>Fort Lawton, Magnolia</td>\n",
       "      <td>WA</td>\n",
       "      <td>King County</td>\n",
       "      <td>America/Los_Angeles</td>\n",
       "      <td>206</td>\n",
       "      <td>NaN</td>\n",
       "      <td>US</td>\n",
       "      <td>47.65</td>\n",
       "      <td>-122.40</td>\n",
       "      <td>20960</td>\n",
       "    </tr>\n",
       "  </tbody>\n",
       "</table>\n",
       "<p>76 rows × 15 columns</p>\n",
       "</div>"
      ],
      "text/plain": [
       "         zip      type  decommissioned primary_city  \\\n",
       "186      981    PO BOX               0     Carolina   \n",
       "3678    9810  MILITARY               0          Apo   \n",
       "3679    9811  MILITARY               0          Dpo   \n",
       "3680    9812  MILITARY               0          Dpo   \n",
       "3681    9813  MILITARY               0          Dpo   \n",
       "...      ...       ...             ...          ...   \n",
       "41860  98191    UNIQUE               0      Seattle   \n",
       "41861  98194    PO BOX               0      Seattle   \n",
       "41862  98195    UNIQUE               0      Seattle   \n",
       "41863  98198  STANDARD               0      Seattle   \n",
       "41864  98199  STANDARD               0      Seattle   \n",
       "\n",
       "                       acceptable_cities    unacceptable_cities state  \\\n",
       "186                                  NaN             Isla Verde    PR   \n",
       "3678                                 NaN                    NaN    AE   \n",
       "3679                                 NaN                    NaN    AE   \n",
       "3680                                 NaN                    NaN    AE   \n",
       "3681                                 NaN                    NaN    AE   \n",
       "...                                  ...                    ...   ...   \n",
       "41860                                NaN                  Qwest    WA   \n",
       "41861                                NaN                    NaN    WA   \n",
       "41862                                NaN     Univ Of Washington    WA   \n",
       "41863  Des Moines, Normandy Park, Seatac          Redondo Beach    WA   \n",
       "41864                                NaN  Fort Lawton, Magnolia    WA   \n",
       "\n",
       "            county             timezone area_codes world_region country  \\\n",
       "186       Carolina  America/Puerto_Rico        NaN          NaN      US   \n",
       "3678           NaN                  NaN        NaN           EU      TR   \n",
       "3679           NaN                  NaN        NaN          NaN      US   \n",
       "3680           NaN                  NaN        NaN          NaN      US   \n",
       "3681           NaN                  NaN        NaN          NaN      US   \n",
       "...            ...                  ...        ...          ...     ...   \n",
       "41860  King County  America/Los_Angeles        206          NaN      US   \n",
       "41861  King County  America/Los_Angeles        206          NaN      US   \n",
       "41862  King County  America/Los_Angeles        206          NaN      US   \n",
       "41863  King County  America/Los_Angeles    206,253          NaN      US   \n",
       "41864  King County  America/Los_Angeles        206          NaN      US   \n",
       "\n",
       "       latitude  longitude  irs_estimated_population  \n",
       "186       18.40     -65.98                         0  \n",
       "3678       0.00       0.00                         0  \n",
       "3679       0.00       0.00                         0  \n",
       "3680       0.00       0.00                         0  \n",
       "3681       0.00       0.00                         0  \n",
       "...         ...        ...                       ...  \n",
       "41860     47.61    -122.33                         0  \n",
       "41861     47.61    -122.33                       299  \n",
       "41862     47.65    -122.31                       192  \n",
       "41863     47.38    -122.31                     34610  \n",
       "41864     47.65    -122.40                     20960  \n",
       "\n",
       "[76 rows x 15 columns]"
      ]
     },
     "execution_count": 6,
     "metadata": {},
     "output_type": "execute_result"
    }
   ],
   "source": [
    "zips= pd.read_csv('zips/zip_code_database.csv')\n",
    "zips_kc= zips[zips['zip'].astype(str).str.startswith('981')]\n",
    "zips_kc"
   ]
  },
  {
   "cell_type": "code",
   "execution_count": null,
   "metadata": {},
   "outputs": [],
   "source": [
    "zips_kc.rename(columns={\"primary_city\": \"neighborhood\"}, inplace=True)\n",
    "zips_kc"
   ]
  },
  {
   "cell_type": "code",
   "execution_count": null,
   "metadata": {},
   "outputs": [],
   "source": [
    "#trying to get town names:\n",
    "# Didn't work:\n",
    "#df_kc['neighborhood']= np.where(df_kc['zip']== zips_kc['zip'], zips_kc['neighborhood'], \"none\")\n",
    "\n",
    "#Didn't work\n",
    "#def f[]:\n",
    "#df_kc['neighborhood']= np.where(zips_kc_final['primary_city']) if\n",
    " #   df_kc.apply(lambda row: df_kc['zip']==zips_kc_final['zip'], axis=1) "
   ]
  },
  {
   "cell_type": "code",
   "execution_count": null,
   "metadata": {},
   "outputs": [],
   "source": [
    "df_kc['zip']= df_kc['zip'].apply(pd.to_numeric)  \n",
    "zips_kc_final=zips_kc['zip'].astype(int).copy()\n",
    "zips_kc_final['neighborhood']= zips_kc['primary_city'].copy()"
   ]
  }
 ],
 "metadata": {
  "kernelspec": {
   "display_name": "Python 3",
   "language": "python",
   "name": "python3"
  },
  "language_info": {
   "codemirror_mode": {
    "name": "ipython",
    "version": 3
   },
   "file_extension": ".py",
   "mimetype": "text/x-python",
   "name": "python",
   "nbconvert_exporter": "python",
   "pygments_lexer": "ipython3",
   "version": "3.8.5"
  },
  "toc": {
   "base_numbering": 1,
   "nav_menu": {},
   "number_sections": false,
   "sideBar": true,
   "skip_h1_title": false,
   "title_cell": "Table of Contents",
   "title_sidebar": "Contents",
   "toc_cell": false,
   "toc_position": {
    "height": "calc(100% - 180px)",
    "left": "10px",
    "top": "150px",
    "width": "208.438px"
   },
   "toc_section_display": true,
   "toc_window_display": true
  }
 },
 "nbformat": 4,
 "nbformat_minor": 2
}
