{
 "cells": [
  {
   "cell_type": "markdown",
   "metadata": {},
   "source": [
    "# Final Project Submission\n",
    "\n",
    "Please fill out:\n",
    "* Student name: Sarah Lowing\n",
    "* Student pace: self paced \n",
    "* Scheduled project review date/time: \n",
    "* Instructor name: Abhineet\n",
    "* Blog post URL: https://wordpress.com/post/datamonsterdotblog.wordpress.com/47\n"
   ]
  },
  {
   "cell_type": "markdown",
   "metadata": {},
   "source": [
    "## Overview\n",
    "For this analysis we'll be using the King's County Sales dataset, which can be found in kc_house_data.csv.  Each record represents a house sale in the Seattle area for the year 2021-2022.  We will use this data to determine mean price of a home in each neighborhood using zipcodes to group areas.  We'll also examine the impact of water views on the price of a home in order to maximize our saving potential for our client, a real estate agent looking to find midrange homes for sale in the Kings County metro area much."
   ]
  },
  {
   "cell_type": "markdown",
   "metadata": {},
   "source": [
    "### Business Understanding\n",
    "Purchasing a home is one of the largest financial commitments most people will make in their lifetimes.  Todays real estate markets are suffering for a lack of supply of mid-sized starter homes and our client, a real estate agent, specializes in exactly these kinds of homes.  We'll find the mean price of a home for each zipcode and then look to see what kinds of features- views, access to greenways, the overall condition/grade of a home are most likely to impact price in order to identify what kinds of areas and amenities we should avoid to find a resonably priced home in the extra tight market and highly inflated real estate market of Seattle."
   ]
  },
  {
   "cell_type": "markdown",
   "metadata": {},
   "source": [
    "### Data Understanding\n",
    "After checking our data for missing or null values, we wil begin performing some simple statistical analysis to determine which variables have an existing and obvious correlation to our target variable, 'price'.  We'll examine the format of the data (numeric vs categorical, continuous vs discrete) to determine what, if any, transformations need to take place in order to perform  colinearity..  And finally we'll check for normality, and look to apply transformations (linear, logarythmic, polynomial regression or  to any data that does not conform to our L.I.N.E. acronym and is useful for our model and analysis. "
   ]
  },
  {
   "cell_type": "markdown",
   "metadata": {},
   "source": [
    "## Preliminary Data Analysis"
   ]
  },
  {
   "cell_type": "code",
   "execution_count": 82,
   "metadata": {},
   "outputs": [],
   "source": [
    "# import neccessary libraries\n",
    "import matplotlib.pyplot as plt\n",
    "import numpy as np\n",
    "import pandas as pd\n",
    "import scipy.stats as stats\n",
    "import seaborn as sns\n",
    "import statsmodels.api as sm"
   ]
  },
  {
   "cell_type": "markdown",
   "metadata": {},
   "source": [
    "### Inspect and Clean Data"
   ]
  },
  {
   "cell_type": "code",
   "execution_count": 107,
   "metadata": {},
   "outputs": [
    {
     "data": {
      "text/plain": [
       "30155"
      ]
     },
     "execution_count": 107,
     "metadata": {},
     "output_type": "execute_result"
    }
   ],
   "source": [
    "## Check the columns and first few rows\n",
    "kc= pd.read_csv('Data/kc_house_data.csv')\n",
    "len(kc)"
   ]
  },
  {
   "cell_type": "code",
   "execution_count": 3,
   "metadata": {},
   "outputs": [
    {
     "data": {
      "text/html": [
       "<div>\n",
       "<style scoped>\n",
       "    .dataframe tbody tr th:only-of-type {\n",
       "        vertical-align: middle;\n",
       "    }\n",
       "\n",
       "    .dataframe tbody tr th {\n",
       "        vertical-align: top;\n",
       "    }\n",
       "\n",
       "    .dataframe thead th {\n",
       "        text-align: right;\n",
       "    }\n",
       "</style>\n",
       "<table border=\"1\" class=\"dataframe\">\n",
       "  <thead>\n",
       "    <tr style=\"text-align: right;\">\n",
       "      <th></th>\n",
       "      <th>id</th>\n",
       "      <th>date</th>\n",
       "      <th>price</th>\n",
       "      <th>bedrooms</th>\n",
       "      <th>bathrooms</th>\n",
       "      <th>sqft_living</th>\n",
       "      <th>sqft_lot</th>\n",
       "      <th>floors</th>\n",
       "      <th>waterfront</th>\n",
       "      <th>greenbelt</th>\n",
       "      <th>...</th>\n",
       "      <th>sewer_system</th>\n",
       "      <th>sqft_above</th>\n",
       "      <th>sqft_basement</th>\n",
       "      <th>sqft_garage</th>\n",
       "      <th>sqft_patio</th>\n",
       "      <th>yr_built</th>\n",
       "      <th>yr_renovated</th>\n",
       "      <th>address</th>\n",
       "      <th>lat</th>\n",
       "      <th>long</th>\n",
       "    </tr>\n",
       "  </thead>\n",
       "  <tbody>\n",
       "    <tr>\n",
       "      <th>0</th>\n",
       "      <td>7399300360</td>\n",
       "      <td>5/24/2022</td>\n",
       "      <td>675000.0</td>\n",
       "      <td>4</td>\n",
       "      <td>1.0</td>\n",
       "      <td>1180</td>\n",
       "      <td>7140</td>\n",
       "      <td>1.0</td>\n",
       "      <td>NO</td>\n",
       "      <td>NO</td>\n",
       "      <td>...</td>\n",
       "      <td>PUBLIC</td>\n",
       "      <td>1180</td>\n",
       "      <td>0</td>\n",
       "      <td>0</td>\n",
       "      <td>40</td>\n",
       "      <td>1969</td>\n",
       "      <td>0</td>\n",
       "      <td>2102 Southeast 21st Court, Renton, Washington ...</td>\n",
       "      <td>47.461975</td>\n",
       "      <td>-122.19052</td>\n",
       "    </tr>\n",
       "    <tr>\n",
       "      <th>1</th>\n",
       "      <td>8910500230</td>\n",
       "      <td>12/13/2021</td>\n",
       "      <td>920000.0</td>\n",
       "      <td>5</td>\n",
       "      <td>2.5</td>\n",
       "      <td>2770</td>\n",
       "      <td>6703</td>\n",
       "      <td>1.0</td>\n",
       "      <td>NO</td>\n",
       "      <td>NO</td>\n",
       "      <td>...</td>\n",
       "      <td>PUBLIC</td>\n",
       "      <td>1570</td>\n",
       "      <td>1570</td>\n",
       "      <td>0</td>\n",
       "      <td>240</td>\n",
       "      <td>1950</td>\n",
       "      <td>0</td>\n",
       "      <td>11231 Greenwood Avenue North, Seattle, Washing...</td>\n",
       "      <td>47.711525</td>\n",
       "      <td>-122.35591</td>\n",
       "    </tr>\n",
       "    <tr>\n",
       "      <th>2</th>\n",
       "      <td>1180000275</td>\n",
       "      <td>9/29/2021</td>\n",
       "      <td>311000.0</td>\n",
       "      <td>6</td>\n",
       "      <td>2.0</td>\n",
       "      <td>2880</td>\n",
       "      <td>6156</td>\n",
       "      <td>1.0</td>\n",
       "      <td>NO</td>\n",
       "      <td>NO</td>\n",
       "      <td>...</td>\n",
       "      <td>PUBLIC</td>\n",
       "      <td>1580</td>\n",
       "      <td>1580</td>\n",
       "      <td>0</td>\n",
       "      <td>0</td>\n",
       "      <td>1956</td>\n",
       "      <td>0</td>\n",
       "      <td>8504 South 113th Street, Seattle, Washington 9...</td>\n",
       "      <td>47.502045</td>\n",
       "      <td>-122.22520</td>\n",
       "    </tr>\n",
       "    <tr>\n",
       "      <th>3</th>\n",
       "      <td>1604601802</td>\n",
       "      <td>12/14/2021</td>\n",
       "      <td>775000.0</td>\n",
       "      <td>3</td>\n",
       "      <td>3.0</td>\n",
       "      <td>2160</td>\n",
       "      <td>1400</td>\n",
       "      <td>2.0</td>\n",
       "      <td>NO</td>\n",
       "      <td>NO</td>\n",
       "      <td>...</td>\n",
       "      <td>PUBLIC</td>\n",
       "      <td>1090</td>\n",
       "      <td>1070</td>\n",
       "      <td>200</td>\n",
       "      <td>270</td>\n",
       "      <td>2010</td>\n",
       "      <td>0</td>\n",
       "      <td>4079 Letitia Avenue South, Seattle, Washington...</td>\n",
       "      <td>47.566110</td>\n",
       "      <td>-122.29020</td>\n",
       "    </tr>\n",
       "    <tr>\n",
       "      <th>4</th>\n",
       "      <td>8562780790</td>\n",
       "      <td>8/24/2021</td>\n",
       "      <td>592500.0</td>\n",
       "      <td>2</td>\n",
       "      <td>2.0</td>\n",
       "      <td>1120</td>\n",
       "      <td>758</td>\n",
       "      <td>2.0</td>\n",
       "      <td>NO</td>\n",
       "      <td>NO</td>\n",
       "      <td>...</td>\n",
       "      <td>PUBLIC</td>\n",
       "      <td>1120</td>\n",
       "      <td>550</td>\n",
       "      <td>550</td>\n",
       "      <td>30</td>\n",
       "      <td>2012</td>\n",
       "      <td>0</td>\n",
       "      <td>2193 Northwest Talus Drive, Issaquah, Washingt...</td>\n",
       "      <td>47.532470</td>\n",
       "      <td>-122.07188</td>\n",
       "    </tr>\n",
       "  </tbody>\n",
       "</table>\n",
       "<p>5 rows × 25 columns</p>\n",
       "</div>"
      ],
      "text/plain": [
       "           id        date     price  bedrooms  bathrooms  sqft_living  \\\n",
       "0  7399300360   5/24/2022  675000.0         4        1.0         1180   \n",
       "1  8910500230  12/13/2021  920000.0         5        2.5         2770   \n",
       "2  1180000275   9/29/2021  311000.0         6        2.0         2880   \n",
       "3  1604601802  12/14/2021  775000.0         3        3.0         2160   \n",
       "4  8562780790   8/24/2021  592500.0         2        2.0         1120   \n",
       "\n",
       "   sqft_lot  floors waterfront greenbelt  ... sewer_system sqft_above  \\\n",
       "0      7140     1.0         NO        NO  ...       PUBLIC       1180   \n",
       "1      6703     1.0         NO        NO  ...       PUBLIC       1570   \n",
       "2      6156     1.0         NO        NO  ...       PUBLIC       1580   \n",
       "3      1400     2.0         NO        NO  ...       PUBLIC       1090   \n",
       "4       758     2.0         NO        NO  ...       PUBLIC       1120   \n",
       "\n",
       "  sqft_basement sqft_garage sqft_patio yr_built  yr_renovated  \\\n",
       "0             0           0         40     1969             0   \n",
       "1          1570           0        240     1950             0   \n",
       "2          1580           0          0     1956             0   \n",
       "3          1070         200        270     2010             0   \n",
       "4           550         550         30     2012             0   \n",
       "\n",
       "                                             address        lat       long  \n",
       "0  2102 Southeast 21st Court, Renton, Washington ...  47.461975 -122.19052  \n",
       "1  11231 Greenwood Avenue North, Seattle, Washing...  47.711525 -122.35591  \n",
       "2  8504 South 113th Street, Seattle, Washington 9...  47.502045 -122.22520  \n",
       "3  4079 Letitia Avenue South, Seattle, Washington...  47.566110 -122.29020  \n",
       "4  2193 Northwest Talus Drive, Issaquah, Washingt...  47.532470 -122.07188  \n",
       "\n",
       "[5 rows x 25 columns]"
      ]
     },
     "execution_count": 3,
     "metadata": {},
     "output_type": "execute_result"
    }
   ],
   "source": [
    "kc.head()"
   ]
  },
  {
   "cell_type": "code",
   "execution_count": 11,
   "metadata": {},
   "outputs": [
    {
     "data": {
      "text/html": [
       "<div>\n",
       "<style scoped>\n",
       "    .dataframe tbody tr th:only-of-type {\n",
       "        vertical-align: middle;\n",
       "    }\n",
       "\n",
       "    .dataframe tbody tr th {\n",
       "        vertical-align: top;\n",
       "    }\n",
       "\n",
       "    .dataframe thead th {\n",
       "        text-align: right;\n",
       "    }\n",
       "</style>\n",
       "<table border=\"1\" class=\"dataframe\">\n",
       "  <thead>\n",
       "    <tr style=\"text-align: right;\">\n",
       "      <th></th>\n",
       "      <th>id</th>\n",
       "      <th>price</th>\n",
       "      <th>bedrooms</th>\n",
       "      <th>bathrooms</th>\n",
       "      <th>sqft_living</th>\n",
       "      <th>sqft_lot</th>\n",
       "      <th>floors</th>\n",
       "      <th>sqft_above</th>\n",
       "      <th>sqft_basement</th>\n",
       "      <th>sqft_garage</th>\n",
       "      <th>sqft_patio</th>\n",
       "      <th>yr_built</th>\n",
       "      <th>yr_renovated</th>\n",
       "      <th>lat</th>\n",
       "      <th>long</th>\n",
       "    </tr>\n",
       "  </thead>\n",
       "  <tbody>\n",
       "    <tr>\n",
       "      <th>count</th>\n",
       "      <td>3.015500e+04</td>\n",
       "      <td>3.015500e+04</td>\n",
       "      <td>30155.000000</td>\n",
       "      <td>30155.000000</td>\n",
       "      <td>30155.000000</td>\n",
       "      <td>3.015500e+04</td>\n",
       "      <td>30155.000000</td>\n",
       "      <td>30155.000000</td>\n",
       "      <td>30155.000000</td>\n",
       "      <td>30155.000000</td>\n",
       "      <td>30155.000000</td>\n",
       "      <td>30155.000000</td>\n",
       "      <td>30155.000000</td>\n",
       "      <td>30155.000000</td>\n",
       "      <td>30155.000000</td>\n",
       "    </tr>\n",
       "    <tr>\n",
       "      <th>mean</th>\n",
       "      <td>4.538104e+09</td>\n",
       "      <td>1.108536e+06</td>\n",
       "      <td>3.413530</td>\n",
       "      <td>2.334737</td>\n",
       "      <td>2112.424739</td>\n",
       "      <td>1.672360e+04</td>\n",
       "      <td>1.543492</td>\n",
       "      <td>1809.826098</td>\n",
       "      <td>476.039396</td>\n",
       "      <td>330.211142</td>\n",
       "      <td>217.412038</td>\n",
       "      <td>1975.163953</td>\n",
       "      <td>90.922301</td>\n",
       "      <td>47.328076</td>\n",
       "      <td>-121.317397</td>\n",
       "    </tr>\n",
       "    <tr>\n",
       "      <th>std</th>\n",
       "      <td>2.882587e+09</td>\n",
       "      <td>8.963857e+05</td>\n",
       "      <td>0.981612</td>\n",
       "      <td>0.889556</td>\n",
       "      <td>974.044318</td>\n",
       "      <td>6.038260e+04</td>\n",
       "      <td>0.567717</td>\n",
       "      <td>878.306131</td>\n",
       "      <td>579.631302</td>\n",
       "      <td>285.770536</td>\n",
       "      <td>245.302792</td>\n",
       "      <td>32.067362</td>\n",
       "      <td>416.473038</td>\n",
       "      <td>1.434005</td>\n",
       "      <td>5.725475</td>\n",
       "    </tr>\n",
       "    <tr>\n",
       "      <th>min</th>\n",
       "      <td>1.000055e+06</td>\n",
       "      <td>2.736000e+04</td>\n",
       "      <td>0.000000</td>\n",
       "      <td>0.000000</td>\n",
       "      <td>3.000000</td>\n",
       "      <td>4.020000e+02</td>\n",
       "      <td>1.000000</td>\n",
       "      <td>2.000000</td>\n",
       "      <td>0.000000</td>\n",
       "      <td>0.000000</td>\n",
       "      <td>0.000000</td>\n",
       "      <td>1900.000000</td>\n",
       "      <td>0.000000</td>\n",
       "      <td>21.274240</td>\n",
       "      <td>-157.791480</td>\n",
       "    </tr>\n",
       "    <tr>\n",
       "      <th>25%</th>\n",
       "      <td>2.064175e+09</td>\n",
       "      <td>6.480000e+05</td>\n",
       "      <td>3.000000</td>\n",
       "      <td>2.000000</td>\n",
       "      <td>1420.000000</td>\n",
       "      <td>4.850000e+03</td>\n",
       "      <td>1.000000</td>\n",
       "      <td>1180.000000</td>\n",
       "      <td>0.000000</td>\n",
       "      <td>0.000000</td>\n",
       "      <td>40.000000</td>\n",
       "      <td>1953.000000</td>\n",
       "      <td>0.000000</td>\n",
       "      <td>47.405320</td>\n",
       "      <td>-122.326045</td>\n",
       "    </tr>\n",
       "    <tr>\n",
       "      <th>50%</th>\n",
       "      <td>3.874011e+09</td>\n",
       "      <td>8.600000e+05</td>\n",
       "      <td>3.000000</td>\n",
       "      <td>2.500000</td>\n",
       "      <td>1920.000000</td>\n",
       "      <td>7.480000e+03</td>\n",
       "      <td>1.500000</td>\n",
       "      <td>1560.000000</td>\n",
       "      <td>0.000000</td>\n",
       "      <td>400.000000</td>\n",
       "      <td>150.000000</td>\n",
       "      <td>1977.000000</td>\n",
       "      <td>0.000000</td>\n",
       "      <td>47.551380</td>\n",
       "      <td>-122.225585</td>\n",
       "    </tr>\n",
       "    <tr>\n",
       "      <th>75%</th>\n",
       "      <td>7.287100e+09</td>\n",
       "      <td>1.300000e+06</td>\n",
       "      <td>4.000000</td>\n",
       "      <td>3.000000</td>\n",
       "      <td>2619.500000</td>\n",
       "      <td>1.057900e+04</td>\n",
       "      <td>2.000000</td>\n",
       "      <td>2270.000000</td>\n",
       "      <td>940.000000</td>\n",
       "      <td>510.000000</td>\n",
       "      <td>320.000000</td>\n",
       "      <td>2003.000000</td>\n",
       "      <td>0.000000</td>\n",
       "      <td>47.669913</td>\n",
       "      <td>-122.116205</td>\n",
       "    </tr>\n",
       "    <tr>\n",
       "      <th>max</th>\n",
       "      <td>9.904000e+09</td>\n",
       "      <td>3.075000e+07</td>\n",
       "      <td>13.000000</td>\n",
       "      <td>10.500000</td>\n",
       "      <td>15360.000000</td>\n",
       "      <td>3.253932e+06</td>\n",
       "      <td>4.000000</td>\n",
       "      <td>12660.000000</td>\n",
       "      <td>8020.000000</td>\n",
       "      <td>3580.000000</td>\n",
       "      <td>4370.000000</td>\n",
       "      <td>2022.000000</td>\n",
       "      <td>2022.000000</td>\n",
       "      <td>64.824070</td>\n",
       "      <td>-70.074340</td>\n",
       "    </tr>\n",
       "  </tbody>\n",
       "</table>\n",
       "</div>"
      ],
      "text/plain": [
       "                 id         price      bedrooms     bathrooms   sqft_living  \\\n",
       "count  3.015500e+04  3.015500e+04  30155.000000  30155.000000  30155.000000   \n",
       "mean   4.538104e+09  1.108536e+06      3.413530      2.334737   2112.424739   \n",
       "std    2.882587e+09  8.963857e+05      0.981612      0.889556    974.044318   \n",
       "min    1.000055e+06  2.736000e+04      0.000000      0.000000      3.000000   \n",
       "25%    2.064175e+09  6.480000e+05      3.000000      2.000000   1420.000000   \n",
       "50%    3.874011e+09  8.600000e+05      3.000000      2.500000   1920.000000   \n",
       "75%    7.287100e+09  1.300000e+06      4.000000      3.000000   2619.500000   \n",
       "max    9.904000e+09  3.075000e+07     13.000000     10.500000  15360.000000   \n",
       "\n",
       "           sqft_lot        floors    sqft_above  sqft_basement   sqft_garage  \\\n",
       "count  3.015500e+04  30155.000000  30155.000000   30155.000000  30155.000000   \n",
       "mean   1.672360e+04      1.543492   1809.826098     476.039396    330.211142   \n",
       "std    6.038260e+04      0.567717    878.306131     579.631302    285.770536   \n",
       "min    4.020000e+02      1.000000      2.000000       0.000000      0.000000   \n",
       "25%    4.850000e+03      1.000000   1180.000000       0.000000      0.000000   \n",
       "50%    7.480000e+03      1.500000   1560.000000       0.000000    400.000000   \n",
       "75%    1.057900e+04      2.000000   2270.000000     940.000000    510.000000   \n",
       "max    3.253932e+06      4.000000  12660.000000    8020.000000   3580.000000   \n",
       "\n",
       "         sqft_patio      yr_built  yr_renovated           lat          long  \n",
       "count  30155.000000  30155.000000  30155.000000  30155.000000  30155.000000  \n",
       "mean     217.412038   1975.163953     90.922301     47.328076   -121.317397  \n",
       "std      245.302792     32.067362    416.473038      1.434005      5.725475  \n",
       "min        0.000000   1900.000000      0.000000     21.274240   -157.791480  \n",
       "25%       40.000000   1953.000000      0.000000     47.405320   -122.326045  \n",
       "50%      150.000000   1977.000000      0.000000     47.551380   -122.225585  \n",
       "75%      320.000000   2003.000000      0.000000     47.669913   -122.116205  \n",
       "max     4370.000000   2022.000000   2022.000000     64.824070    -70.074340  "
      ]
     },
     "execution_count": 11,
     "metadata": {},
     "output_type": "execute_result"
    }
   ],
   "source": [
    "# Generate summary statistics\n",
    "kc.describe()"
   ]
  },
  {
   "cell_type": "markdown",
   "metadata": {},
   "source": [
    "We can see some of our mean values here, as well as visually inspect for for any missing values or irregularities.  So far it looks good!"
   ]
  },
  {
   "cell_type": "markdown",
   "metadata": {},
   "source": [
    "##### Checking for NaN"
   ]
  },
  {
   "cell_type": "code",
   "execution_count": 4,
   "metadata": {},
   "outputs": [
    {
     "data": {
      "text/plain": [
       "id                0\n",
       "date              0\n",
       "price             0\n",
       "bedrooms          0\n",
       "bathrooms         0\n",
       "sqft_living       0\n",
       "sqft_lot          0\n",
       "floors            0\n",
       "waterfront        0\n",
       "greenbelt         0\n",
       "nuisance          0\n",
       "view              0\n",
       "condition         0\n",
       "grade             0\n",
       "heat_source      32\n",
       "sewer_system     14\n",
       "sqft_above        0\n",
       "sqft_basement     0\n",
       "sqft_garage       0\n",
       "sqft_patio        0\n",
       "yr_built          0\n",
       "yr_renovated      0\n",
       "address           0\n",
       "lat               0\n",
       "long              0\n",
       "dtype: int64"
      ]
     },
     "execution_count": 4,
     "metadata": {},
     "output_type": "execute_result"
    }
   ],
   "source": [
    "#checking for null values\n",
    "kc.isnull().sum()"
   ]
  },
  {
   "cell_type": "code",
   "execution_count": 108,
   "metadata": {},
   "outputs": [],
   "source": [
    "#Because of the small number of NaN values, we can drop null rows\n",
    "kc.dropna(inplace=True)"
   ]
  },
  {
   "cell_type": "markdown",
   "metadata": {},
   "source": [
    "#### Adding Zipcodes to the DataFrame\n",
    "So far everything looks good.  But it would be nice to have an additional column, \"zip\", that contains the zip code of each entry so that we can make sure our records are all actually located in King's County, as well as to group houses in neighborhoods for our model later on."
   ]
  },
  {
   "cell_type": "code",
   "execution_count": 109,
   "metadata": {},
   "outputs": [],
   "source": [
    "#extract zip codes.  We should have 224 different zipcodes -but there's an extra 176\n",
    "kc['zip'] = kc['address'].str.findall(r'([0-9]\\d+)').apply(\n",
    "    lambda x: x[-1] if len(x) >= 1 else '')"
   ]
  },
  {
   "cell_type": "code",
   "execution_count": 86,
   "metadata": {},
   "outputs": [
    {
     "data": {
      "text/plain": [
       "98042    992\n",
       "98038    857\n",
       "98103    761\n",
       "98115    760\n",
       "98117    748\n",
       "        ... \n",
       "08096      1\n",
       "68307      1\n",
       "47060      1\n",
       "56303      1\n",
       "68643      1\n",
       "Name: zip, Length: 399, dtype: int64"
      ]
     },
     "execution_count": 86,
     "metadata": {},
     "output_type": "execute_result"
    }
   ],
   "source": [
    "# examine zip codes, kc county homes ahould start with 98 but we clearly have some that do not \n",
    "zip_counts= kc['zip'].value_counts()\n",
    "zip_counts"
   ]
  },
  {
   "cell_type": "code",
   "execution_count": null,
   "metadata": {},
   "outputs": [],
   "source": [
    "# closer look at address to double check that entries are erroneous, and not our code.  Clearly some bad data in here\n",
    "df_bad_zips = kc[~kc['zip'].astype(str).str.startswith('98')]\n",
    "print(df_bad_zips['address'])"
   ]
  },
  {
   "cell_type": "code",
   "execution_count": null,
   "metadata": {},
   "outputs": [],
   "source": [
    "#Does the address have Seattle, Washington in it?  \n",
    "df_bad_zips[df_bad_zips['address'].str.contains('Washington')]"
   ]
  },
  {
   "cell_type": "code",
   "execution_count": 110,
   "metadata": {},
   "outputs": [
    {
     "data": {
      "text/plain": [
       "29200"
      ]
     },
     "execution_count": 110,
     "metadata": {},
     "output_type": "execute_result"
    }
   ],
   "source": [
    "# Doesn't look that way, so we'll drop the entries from the df in that are not from the Seattle area (df_bad_zips)\n",
    "df_kc = kc[kc['zip'].astype(str).str.startswith('98')]\n",
    "len(df_kc)"
   ]
  },
  {
   "cell_type": "code",
   "execution_count": 21,
   "metadata": {},
   "outputs": [
    {
     "data": {
      "text/plain": [
       "True"
      ]
     },
     "execution_count": 21,
     "metadata": {},
     "output_type": "execute_result"
    }
   ],
   "source": [
    "#Check if we've got the right number of records \n",
    "bool(len(df_kc) + len(df_bad_zips)==len(kc))"
   ]
  },
  {
   "cell_type": "markdown",
   "metadata": {},
   "source": [
    "#### Inspect Datatypes of Columns"
   ]
  },
  {
   "cell_type": "code",
   "execution_count": 12,
   "metadata": {
    "scrolled": false
   },
   "outputs": [
    {
     "name": "stdout",
     "output_type": "stream",
     "text": [
      "<class 'pandas.core.frame.DataFrame'>\n",
      "Int64Index: 29200 entries, 0 to 30154\n",
      "Data columns (total 26 columns):\n",
      " #   Column         Non-Null Count  Dtype  \n",
      "---  ------         --------------  -----  \n",
      " 0   id             29200 non-null  int64  \n",
      " 1   date           29200 non-null  object \n",
      " 2   price          29200 non-null  float64\n",
      " 3   bedrooms       29200 non-null  int64  \n",
      " 4   bathrooms      29200 non-null  float64\n",
      " 5   sqft_living    29200 non-null  int64  \n",
      " 6   sqft_lot       29200 non-null  int64  \n",
      " 7   floors         29200 non-null  float64\n",
      " 8   waterfront     29200 non-null  object \n",
      " 9   greenbelt      29200 non-null  object \n",
      " 10  nuisance       29200 non-null  object \n",
      " 11  view           29200 non-null  object \n",
      " 12  condition      29200 non-null  object \n",
      " 13  grade          29200 non-null  object \n",
      " 14  heat_source    29200 non-null  object \n",
      " 15  sewer_system   29200 non-null  object \n",
      " 16  sqft_above     29200 non-null  int64  \n",
      " 17  sqft_basement  29200 non-null  int64  \n",
      " 18  sqft_garage    29200 non-null  int64  \n",
      " 19  sqft_patio     29200 non-null  int64  \n",
      " 20  yr_built       29200 non-null  int64  \n",
      " 21  yr_renovated   29200 non-null  int64  \n",
      " 22  address        29200 non-null  object \n",
      " 23  lat            29200 non-null  float64\n",
      " 24  long           29200 non-null  float64\n",
      " 25  zip            29200 non-null  object \n",
      "dtypes: float64(5), int64(10), object(11)\n",
      "memory usage: 6.0+ MB\n"
     ]
    }
   ],
   "source": [
    "#Visualize datatypes for future analysis\n",
    "df_kc.info()"
   ]
  },
  {
   "cell_type": "markdown",
   "metadata": {},
   "source": [
    "We can see that the data has several different types. Some potentially relevant data for 'price' is categorical, like 'waterfront' and 'condition'.  We'll need to OHE these features if we'd like to add those variables to our model.\n",
    "None of our numeric variables are categorical in nature, with the exception of 'id', 'lat' and 'long'.  While we won't need these for our statistical analysis, 'lat' and 'long' could come in handy later if we want to map home sales.  "
   ]
  },
  {
   "cell_type": "code",
   "execution_count": null,
   "metadata": {},
   "outputs": [],
   "source": []
  },
  {
   "cell_type": "markdown",
   "metadata": {},
   "source": [
    "The distributions of our variables does not appear normal, which alerts us that we will need to transform our data in order to progress with an effective model.  Let's view value counts of our kc dataframe to get a more concrete idea of how our categorical data is distributed"
   ]
  },
  {
   "cell_type": "code",
   "execution_count": 147,
   "metadata": {},
   "outputs": [],
   "source": [
    "# Value counts for categorical data\n",
    "categoricals = df_kc.select_dtypes(\"object\")\n",
    "categoricals=categoricals.drop(['date', 'address'], axis=1).copy()"
   ]
  },
  {
   "cell_type": "code",
   "execution_count": 148,
   "metadata": {},
   "outputs": [
    {
     "name": "stdout",
     "output_type": "stream",
     "text": [
      "NO     28637\n",
      "YES      503\n",
      "Name: waterfront, dtype: int64 \n",
      "\n",
      "NO     28373\n",
      "YES      767\n",
      "Name: greenbelt, dtype: int64 \n",
      "\n",
      "NO     24150\n",
      "YES     4990\n",
      "Name: nuisance, dtype: int64 \n",
      "\n",
      "NONE         25643\n",
      "AVERAGE       1883\n",
      "GOOD           864\n",
      "EXCELLENT      537\n",
      "FAIR           213\n",
      "Name: view, dtype: int64 \n",
      "\n",
      "Average      17566\n",
      "Good          8039\n",
      "Very Good     3255\n",
      "Fair           222\n",
      "Poor            58\n",
      "Name: condition, dtype: int64 \n",
      "\n",
      "7 Average        11551\n",
      "8 Good            8862\n",
      "9 Better          3596\n",
      "6 Low Average     2843\n",
      "10 Very Good      1350\n",
      "11 Excellent       395\n",
      "5 Fair             374\n",
      "12 Luxury          112\n",
      "4 Low               38\n",
      "13 Mansion          12\n",
      "3 Poor               6\n",
      "2 Substandard        1\n",
      "Name: grade, dtype: int64 \n",
      "\n",
      "Gas                  20132\n",
      "Electricity           5938\n",
      "Oil                   2897\n",
      "Gas/Solar               93\n",
      "Electricity/Solar       57\n",
      "Other                   19\n",
      "Oil/Solar                4\n",
      "Name: heat_source, dtype: int64 \n",
      "\n",
      "PUBLIC                24812\n",
      "PRIVATE                4322\n",
      "PRIVATE RESTRICTED        4\n",
      "PUBLIC RESTRICTED         2\n",
      "Name: sewer_system, dtype: int64 \n",
      "\n",
      "98042    992\n",
      "98038    857\n",
      "98103    760\n",
      "98115    760\n",
      "98117    746\n",
      "        ... \n",
      "98050      2\n",
      "98422      1\n",
      "98296      1\n",
      "98387      1\n",
      "98270      1\n",
      "Name: zip, Length: 88, dtype: int64 \n",
      "\n"
     ]
    }
   ],
   "source": [
    "for col in categoricals:\n",
    "    print(df_clean[col].value_counts(), \"\\n\")"
   ]
  },
  {
   "cell_type": "markdown",
   "metadata": {},
   "source": [
    "Examine values of columns we might use in our model for outliers"
   ]
  },
  {
   "cell_type": "code",
   "execution_count": 149,
   "metadata": {},
   "outputs": [
    {
     "data": {
      "text/plain": [
       "count    29200.000000\n",
       "mean         2.333168\n",
       "std          0.894491\n",
       "min          0.000000\n",
       "25%          2.000000\n",
       "50%          2.500000\n",
       "75%          3.000000\n",
       "max         10.500000\n",
       "Name: bathrooms, dtype: float64"
      ]
     },
     "execution_count": 149,
     "metadata": {},
     "output_type": "execute_result"
    }
   ],
   "source": [
    "#nothing obviously kooky here to fix\n",
    "df_kc['bathrooms'].describe()"
   ]
  },
  {
   "cell_type": "code",
   "execution_count": 158,
   "metadata": {},
   "outputs": [
    {
     "data": {
      "text/plain": [
       "count         29140\n",
       "unique           12\n",
       "top       7 Average\n",
       "freq          11551\n",
       "Name: grade, dtype: object"
      ]
     },
     "execution_count": 158,
     "metadata": {},
     "output_type": "execute_result"
    }
   ],
   "source": [
    "df_clean['grade'].describe()"
   ]
  },
  {
   "cell_type": "markdown",
   "metadata": {},
   "source": [
    "## Preliminary Review of Numeric Variables"
   ]
  },
  {
   "cell_type": "markdown",
   "metadata": {},
   "source": [
    "This is also a relatively long list of variables/columns.  We'll want to make sure that there's no co-liniarity between the variables in our final model, so we'll take a look at a correlation heatmap of our dataframe to identify possible trouble spots for our numeric variables."
   ]
  },
  {
   "cell_type": "code",
   "execution_count": 117,
   "metadata": {},
   "outputs": [
    {
     "data": {
      "image/png": "[encoded data removed]",
      "text/plain": [
       "<Figure size 1080x864 with 2 Axes>"
      ]
     },
     "metadata": {},
     "output_type": "display_data"
    }
   ],
   "source": [
    "kc_colinearity = df_clean.drop(columns=['price', 'lat', 'long', 'id'])\n",
    "corr = round(abs(kc_colinearity.corr()),3)\n",
    "sns.set(rc = {'figure.figsize':(15,12)})\n",
    "sns.heatmap(corr, cmap=\"Blues\", annot=True);"
   ]
  },
  {
   "cell_type": "markdown",
   "metadata": {},
   "source": [
    "We can see that there are some trouble spots in here, \"sqft_living\" has a collinear relationship with \"sqft_above\", followed by \"bathrooms\" and \"bedrooms\".  Because collinearity can skew our multiple regression model, we'll pick just one to use in our OLS model, \"sqft_living\"."
   ]
  },
  {
   "cell_type": "markdown",
   "metadata": {},
   "source": [
    "Our next step is to generate scatterplots to view the distributions of the continuous numeric variables that have the highest correlation to price and look for the visual markers of a linear relationship.  We'll start with \"sqft_living\", our most variable most likely to impact price. "
   ]
  },
  {
   "cell_type": "code",
   "execution_count": 118,
   "metadata": {
    "scrolled": true
   },
   "outputs": [
    {
     "data": {
      "image/png": "[encoded data removed]",
      "text/plain": [
       "<Figure size 1080x864 with 1 Axes>"
      ]
     },
     "metadata": {},
     "output_type": "display_data"
    }
   ],
   "source": [
    "# Visualize relationships between sqft_living and price\n",
    "ax= df_clean.plot.scatter(x=\"sqft_living\", y=\"price\", color=\"DarkBlue\", label=\"sqft_living\")\n",
    "figsize=(6,3)\n",
    "\n",
    "plt.ylabel('price');"
   ]
  },
  {
   "cell_type": "code",
   "execution_count": 150,
   "metadata": {
    "scrolled": false
   },
   "outputs": [
    {
     "data": {
      "text/plain": [
       "count    29200.000000\n",
       "mean      2131.650753\n",
       "std        976.713568\n",
       "min          3.000000\n",
       "25%       1440.000000\n",
       "50%       1940.000000\n",
       "75%       2640.000000\n",
       "max      15360.000000\n",
       "Name: sqft_living, dtype: float64"
      ]
     },
     "execution_count": 150,
     "metadata": {},
     "output_type": "execute_result"
    }
   ],
   "source": [
    "df_kc['sqft_living'].describe()"
   ]
  },
  {
   "cell_type": "markdown",
   "metadata": {},
   "source": [
    "Our std of 976 indicates that we should also be looking for outliers- When considering mean house size, that's a pretty large margin of error (about 1/2) and so there must be houses that are exceptionally large or small that are skewing our model.  However, we need to be very careful about how we do this, as removing data can lead to model manipulation and less acuuracy overall.  We'll remove all houses in the top and bottom tenth percent of sqft_living (the top 99.9 percent and the bottom .1 percent), to minimize model manipulation, but gain some accuracy in our predictions.  This is well below industry standards of the middle quartile range and the typical oulier range of 3%, so our model should still be fairly accurate."
   ]
  },
  {
   "cell_type": "code",
   "execution_count": 111,
   "metadata": {},
   "outputs": [],
   "source": [
    "Q1 = df_clean['sqft_living'].quantile(0.001)\n",
    "\n",
    "Q99 = df_kc['sqft_living'].quantile(0.999)"
   ]
  },
  {
   "cell_type": "code",
   "execution_count": 90,
   "metadata": {},
   "outputs": [
    {
     "name": "stdout",
     "output_type": "stream",
     "text": [
      "421.99 7658.060000000187\n"
     ]
    }
   ],
   "source": [
    "df_filtered = df[(df[\"col\"] < q_hi) & (df[\"col\"] > q_low)]\n"
   ]
  },
  {
   "cell_type": "code",
   "execution_count": 112,
   "metadata": {},
   "outputs": [],
   "source": [
    "df_clean= df_kc[(df_kc['sqft_living']< 7658) & (df_kc['sqft_living']> 421)]\n"
   ]
  },
  {
   "cell_type": "code",
   "execution_count": 115,
   "metadata": {},
   "outputs": [
    {
     "data": {
      "text/plain": [
       "60"
      ]
     },
     "execution_count": 115,
     "metadata": {},
     "output_type": "execute_result"
    }
   ],
   "source": [
    "len(df_kc)-len(df_clean)"
   ]
  },
  {
   "cell_type": "code",
   "execution_count": 157,
   "metadata": {},
   "outputs": [
    {
     "data": {
      "text/plain": [
       "count    29141.000000\n",
       "mean      2125.982808\n",
       "std        945.175990\n",
       "min        430.000000\n",
       "25%       1440.000000\n",
       "50%       1940.000000\n",
       "75%       2632.000000\n",
       "max       7610.000000\n",
       "Name: sqft_living, dtype: float64"
      ]
     },
     "execution_count": 157,
     "metadata": {},
     "output_type": "execute_result"
    }
   ],
   "source": [
    "df_clean['sqft_living'].describe()"
   ]
  },
  {
   "cell_type": "markdown",
   "metadata": {},
   "source": [
    "We can see that our std has dropped dramatically to $945 for sqft_living, our model has improved by dropping just 60 outliers out of 292,00 records"
   ]
  },
  {
   "cell_type": "code",
   "execution_count": 123,
   "metadata": {},
   "outputs": [],
   "source": [
    "# That's not looking great.  We'll build a model to fit a regression line and check the distribution\n",
    "y=df_clean['price']\n",
    "X=df_clean['sqft_living']\n",
    "\n",
    "sgft_model = sm.OLS(y, sm.add_constant(X))\n",
    "sqft_results = sgft_model.fit()"
   ]
  },
  {
   "cell_type": "code",
   "execution_count": 124,
   "metadata": {},
   "outputs": [
    {
     "data": {
      "image/png": "[encoded data removed]",
      "text/plain": [
       "<Figure size 864x576 with 1 Axes>"
      ]
     },
     "metadata": {},
     "output_type": "display_data"
    }
   ],
   "source": [
    "fig, ax = plt.subplots(figsize=(12,8))\n",
    "df_kc.plot.scatter(x=\"sqft_living\", y=\"price\", label=\"Data points\", color='blue', ax=ax)\n",
    "sm.graphics.abline_plot(model_results=sqft_results, label=\"Regression Line\", color='red', ax=ax)\n",
    "ax.legend();"
   ]
  },
  {
   "cell_type": "code",
   "execution_count": 125,
   "metadata": {},
   "outputs": [
    {
     "data": {
      "text/plain": [
       "(1.1236590404539204, 1.0018229826269168e-12)"
      ]
     },
     "execution_count": 125,
     "metadata": {},
     "output_type": "execute_result"
    }
   ],
   "source": [
    "#That's definitely not looking like a great linear relationship.  We'll test to see if it is linear.\n",
    "linear_rainbow(sqft_results)"
   ]
  },
  {
   "cell_type": "markdown",
   "metadata": {},
   "source": [
    "This confirms that sqft_living has a non-linear relationship with price, and we'll need to apply a non-linear transformation (log, interaction terms, exponential/polynomial)"
   ]
  },
  {
   "cell_type": "markdown",
   "metadata": {},
   "source": [
    "### Analyze of Numeric Nariables"
   ]
  },
  {
   "cell_type": "markdown",
   "metadata": {},
   "source": [
    "The variable with the strongest correlation to price is sqft_living, but the values will need to be transformed before we can use them in our model- the plots demonstrate that there is a non-linear relationship by their distributions, with the data clustered around zero, which let's us know it would benefit from a log transformation."
   ]
  },
  {
   "cell_type": "markdown",
   "metadata": {},
   "source": [
    "## Preliminary Review of Categorical Data\n",
    "Let's begin by looking at some graphs of our categorical data to see what might be a good candidate for OHE transformation.  We'll use bargraphs to see if there's a linear relationship between price and our variables. We'll start with the column we created, 'zip'."
   ]
  },
  {
   "cell_type": "code",
   "execution_count": 151,
   "metadata": {},
   "outputs": [
    {
     "data": {
      "image/png": "[encoded data removed]",
      "text/plain": [
       "<Figure size 2160x720 with 1 Axes>"
      ]
     },
     "metadata": {},
     "output_type": "display_data"
    }
   ],
   "source": [
    "fig, ax = plt.subplots(figsize=(30,10))\n",
    "df_clean.groupby(\"zip\").mean().sort_values(by=\"price\").plot.bar(y=\"price\", ax=ax)\n",
    "ax.axhline(y=df_clean[\"price\"].mean(), label=\"mean\", color=\"black\", linestyle=\"--\")\n",
    "\n",
    "ax.legend();"
   ]
  },
  {
   "cell_type": "code",
   "execution_count": null,
   "metadata": {},
   "outputs": [],
   "source": [
    "df_clean['zip'].value_counts"
   ]
  },
  {
   "cell_type": "markdown",
   "metadata": {},
   "source": [
    "A very clear mostly linear relationship between price and neighborhoods exists when grouped and sorted by mean price of home for \"zip\", moving forward it would be interesting to see this mapped out, with a mean price per neighborhood as a pop out on an interactive map.  At the very least, we now have a way of listing neighborhoods where mean house prices are below the mean house price for the Seattle area, which will be helpful for our thrifty agent... "
   ]
  },
  {
   "cell_type": "code",
   "execution_count": 136,
   "metadata": {},
   "outputs": [
    {
     "data": {
      "image/png": "[encoded data removed]",
      "text/plain": [
       "<Figure size 720x360 with 1 Axes>"
      ]
     },
     "metadata": {},
     "output_type": "display_data"
    }
   ],
   "source": [
    "# Waterfront sns.barplot(data=df, x='waterfront', y='price')\n",
    "fig, ax = plt.subplots(figsize=(10,5))\n",
    "df_clean.groupby(\"waterfront\").mean().sort_values(by=\"price\").plot.bar(y=\"price\", ax=ax)\n",
    "ax.axhline(y=df_clean[\"price\"].mean(), label=\"mean\", color=\"black\", linestyle=\"--\")\n",
    "\n",
    "ax.legend();"
   ]
  },
  {
   "cell_type": "markdown",
   "metadata": {},
   "source": [
    "There's clearly a realtionship between \"price\" and waterfront views.  There's likely strong colinearity between \"zips\" and \"waterfront_YES\", so we should be careful about using both these variables in the same model."
   ]
  },
  {
   "cell_type": "code",
   "execution_count": 137,
   "metadata": {},
   "outputs": [
    {
     "data": {
      "image/png": "[encoded data removed]",
      "text/plain": [
       "<Figure size 720x360 with 1 Axes>"
      ]
     },
     "metadata": {},
     "output_type": "display_data"
    }
   ],
   "source": [
    "#view\n",
    "fig, ax = plt.subplots(figsize=(10,5))\n",
    "df_clean.groupby(\"view\").mean().sort_values(by=\"price\").plot.bar(y=\"price\", ax=ax)\n",
    "ax.axhline(y=df_clean[\"price\"].mean(), label=\"mean\", color=\"black\", linestyle=\"--\")\n",
    "\n",
    "ax.legend();"
   ]
  },
  {
   "cell_type": "markdown",
   "metadata": {},
   "source": [
    "Not looking great...\"fair\" and \"good\" look about equal, and there's a big uptick for \"excellent\".  It could be that\"excellent\" has a statistically significant relationship with \"price\" but with so many other cloumns to choose from, we just won't include this in our model."
   ]
  },
  {
   "cell_type": "code",
   "execution_count": 138,
   "metadata": {},
   "outputs": [
    {
     "data": {
      "image/png": "[encoded data removed]",
      "text/plain": [
       "<Figure size 720x360 with 1 Axes>"
      ]
     },
     "metadata": {},
     "output_type": "display_data"
    }
   ],
   "source": [
    "fig, ax = plt.subplots(figsize=(10,5))\n",
    "df_clean.groupby(\"condition\").mean().sort_values(by=\"price\").plot.bar(y=\"price\", ax=ax)\n",
    "ax.axhline(y=df_clean[\"price\"].mean(), label=\"mean\", color=\"black\", linestyle=\"--\")\n",
    "\n",
    "ax.legend();"
   ]
  },
  {
   "cell_type": "markdown",
   "metadata": {},
   "source": [
    "We can see that there's not a linear relationship between condition and price if we examine the column names- average and very good have the same median price even though average falls two spots below very good when arranged by value. "
   ]
  },
  {
   "cell_type": "code",
   "execution_count": 139,
   "metadata": {},
   "outputs": [
    {
     "data": {
      "image/png": "[encoded data removed]",
      "text/plain": [
       "<Figure size 720x360 with 1 Axes>"
      ]
     },
     "metadata": {},
     "output_type": "display_data"
    }
   ],
   "source": [
    "fig, ax = plt.subplots(figsize=(10,5))\n",
    "df_clean.groupby(\"heat_source\").mean().sort_values(by=\"price\").plot.bar(y=\"price\", ax=ax)\n",
    "ax.axhline(y=df_clean[\"price\"].mean(), label=\"mean\", color=\"black\", linestyle=\"--\")\n",
    "\n",
    "ax.legend();"
   ]
  },
  {
   "cell_type": "markdown",
   "metadata": {},
   "source": [
    "I was curious if having solar power would add to the value of a house, but it looks like only houses that are equipped with gas and solar power experience an uptick in price compared to the median home price in Seattle.  However, it could be that other factors are at play.  Most large houses are unable to run exclusively on solar, and would need a backup for generating heat, hence the gas/solar mix.  There's also a statistically significant relationship between price and sqft so eco-freindly solar only smaller homes would be more likely to have smaller square footage, depressing their sales value. "
   ]
  },
  {
   "cell_type": "code",
   "execution_count": 135,
   "metadata": {},
   "outputs": [
    {
     "data": {
      "image/png": "[encoded data removed]",
      "text/plain": [
       "<Figure size 720x360 with 1 Axes>"
      ]
     },
     "metadata": {},
     "output_type": "display_data"
    }
   ],
   "source": [
    "\n",
    "fig, ax = plt.subplots(figsize=(10,5))\n",
    "df_clean.groupby(\"grade\").mean().sort_values(by=\"price\").plot.bar(y=\"price\", ax=ax)\n",
    "ax.axhline(y=df_clean[\"price\"].mean(), label=\"mean\", color=\"black\", linestyle=\"--\")\n",
    "\n",
    "ax.legend();"
   ]
  },
  {
   "cell_type": "markdown",
   "metadata": {},
   "source": [
    "This looks very promising.  We can see that all the variables line are in order from least to greatest, both in terms of the median home value and the order of the \"grade\".  There is a slight bit of curvature, but the relationship looks mostly linear."
   ]
  },
  {
   "cell_type": "markdown",
   "metadata": {},
   "source": [
    "### Analyze Plot of Categorical Variables"
   ]
  },
  {
   "cell_type": "markdown",
   "metadata": {},
   "source": [
    "Of the categorical variables, waterfront, zip, and grade seem the most likely to have a statistically significant relationship with price.  We'll need to OHE these if we're including them in our model."
   ]
  },
  {
   "cell_type": "markdown",
   "metadata": {},
   "source": [
    "## Modeling\n",
    "\n",
    "Let's begin by OHE all our categorical data, and making a model to see which of our variables is statistically significant by checking the p value"
   ]
  },
  {
   "cell_type": "code",
   "execution_count": 159,
   "metadata": {},
   "outputs": [],
   "source": [
    "categoricals_clean = df_clean.select_dtypes(\"object\")\n",
    "categoricals_clean=categoricals_clean.drop(['date', 'address'], axis=1).copy()"
   ]
  },
  {
   "cell_type": "code",
   "execution_count": 155,
   "metadata": {},
   "outputs": [],
   "source": [
    "y_raw = df_clean[\"price\"]\n",
    "X_raw_cat = categoricals_clean\n",
    "X_raw_cat = pd.get_dummies(X_raw_cat)\n",
    "\n",
    "X_raw_cat.drop(['waterfront_NO', 'greenbelt_NO',\n",
    "               'nuisance_YES', 'grade_2 Substandard', 'condition_Poor',\n",
    "               'heat_source_Electricity', 'sewer_system_PUBLIC', 'zip_98116'], \n",
    "               axis=1, inplace=True)\n"
   ]
  },
  {
   "cell_type": "code",
   "execution_count": 156,
   "metadata": {},
   "outputs": [
    {
     "data": {
      "text/html": [
       "<table class=\"simpletable\">\n",
       "<caption>OLS Regression Results</caption>\n",
       "<tr>\n",
       "  <th>Dep. Variable:</th>          <td>price</td>      <th>  R-squared:         </th> <td>     nan</td>\n",
       "</tr>\n",
       "<tr>\n",
       "  <th>Model:</th>                   <td>OLS</td>       <th>  Adj. R-squared:    </th> <td>     nan</td>\n",
       "</tr>\n",
       "<tr>\n",
       "  <th>Method:</th>             <td>Least Squares</td>  <th>  F-statistic:       </th> <td>     nan</td>\n",
       "</tr>\n",
       "<tr>\n",
       "  <th>Date:</th>             <td>Wed, 22 Feb 2023</td> <th>  Prob (F-statistic):</th>  <td>   nan</td> \n",
       "</tr>\n",
       "<tr>\n",
       "  <th>Time:</th>                 <td>10:28:33</td>     <th>  Log-Likelihood:    </th> <td>     nan</td>\n",
       "</tr>\n",
       "<tr>\n",
       "  <th>No. Observations:</th>      <td> 29141</td>      <th>  AIC:               </th> <td>     nan</td>\n",
       "</tr>\n",
       "<tr>\n",
       "  <th>Df Residuals:</th>          <td> 29021</td>      <th>  BIC:               </th> <td>     nan</td>\n",
       "</tr>\n",
       "<tr>\n",
       "  <th>Df Model:</th>              <td>   119</td>      <th>                     </th>     <td> </td>   \n",
       "</tr>\n",
       "<tr>\n",
       "  <th>Covariance Type:</th>      <td>nonrobust</td>    <th>                     </th>     <td> </td>   \n",
       "</tr>\n",
       "</table>\n",
       "<table class=\"simpletable\">\n",
       "<tr>\n",
       "                 <td></td>                    <th>coef</th>     <th>std err</th>      <th>t</th>      <th>P>|t|</th>  <th>[0.025</th>    <th>0.975]</th>  \n",
       "</tr>\n",
       "<tr>\n",
       "  <th>const</th>                           <td>       nan</td> <td>      nan</td> <td>      nan</td> <td>   nan</td> <td>      nan</td> <td>      nan</td>\n",
       "</tr>\n",
       "<tr>\n",
       "  <th>waterfront_YES</th>                  <td>       nan</td> <td>      nan</td> <td>      nan</td> <td>   nan</td> <td>      nan</td> <td>      nan</td>\n",
       "</tr>\n",
       "<tr>\n",
       "  <th>greenbelt_YES</th>                   <td>       nan</td> <td>      nan</td> <td>      nan</td> <td>   nan</td> <td>      nan</td> <td>      nan</td>\n",
       "</tr>\n",
       "<tr>\n",
       "  <th>nuisance_NO</th>                     <td>       nan</td> <td>      nan</td> <td>      nan</td> <td>   nan</td> <td>      nan</td> <td>      nan</td>\n",
       "</tr>\n",
       "<tr>\n",
       "  <th>view_AVERAGE</th>                    <td>       nan</td> <td>      nan</td> <td>      nan</td> <td>   nan</td> <td>      nan</td> <td>      nan</td>\n",
       "</tr>\n",
       "<tr>\n",
       "  <th>view_EXCELLENT</th>                  <td>       nan</td> <td>      nan</td> <td>      nan</td> <td>   nan</td> <td>      nan</td> <td>      nan</td>\n",
       "</tr>\n",
       "<tr>\n",
       "  <th>view_FAIR</th>                       <td>       nan</td> <td>      nan</td> <td>      nan</td> <td>   nan</td> <td>      nan</td> <td>      nan</td>\n",
       "</tr>\n",
       "<tr>\n",
       "  <th>view_GOOD</th>                       <td>       nan</td> <td>      nan</td> <td>      nan</td> <td>   nan</td> <td>      nan</td> <td>      nan</td>\n",
       "</tr>\n",
       "<tr>\n",
       "  <th>view_NONE</th>                       <td>       nan</td> <td>      nan</td> <td>      nan</td> <td>   nan</td> <td>      nan</td> <td>      nan</td>\n",
       "</tr>\n",
       "<tr>\n",
       "  <th>condition_Average</th>               <td>       nan</td> <td>      nan</td> <td>      nan</td> <td>   nan</td> <td>      nan</td> <td>      nan</td>\n",
       "</tr>\n",
       "<tr>\n",
       "  <th>condition_Fair</th>                  <td>       nan</td> <td>      nan</td> <td>      nan</td> <td>   nan</td> <td>      nan</td> <td>      nan</td>\n",
       "</tr>\n",
       "<tr>\n",
       "  <th>condition_Good</th>                  <td>       nan</td> <td>      nan</td> <td>      nan</td> <td>   nan</td> <td>      nan</td> <td>      nan</td>\n",
       "</tr>\n",
       "<tr>\n",
       "  <th>condition_Very Good</th>             <td>       nan</td> <td>      nan</td> <td>      nan</td> <td>   nan</td> <td>      nan</td> <td>      nan</td>\n",
       "</tr>\n",
       "<tr>\n",
       "  <th>grade_10 Very Good</th>              <td>       nan</td> <td>      nan</td> <td>      nan</td> <td>   nan</td> <td>      nan</td> <td>      nan</td>\n",
       "</tr>\n",
       "<tr>\n",
       "  <th>grade_11 Excellent</th>              <td>       nan</td> <td>      nan</td> <td>      nan</td> <td>   nan</td> <td>      nan</td> <td>      nan</td>\n",
       "</tr>\n",
       "<tr>\n",
       "  <th>grade_12 Luxury</th>                 <td>       nan</td> <td>      nan</td> <td>      nan</td> <td>   nan</td> <td>      nan</td> <td>      nan</td>\n",
       "</tr>\n",
       "<tr>\n",
       "  <th>grade_13 Mansion</th>                <td>       nan</td> <td>      nan</td> <td>      nan</td> <td>   nan</td> <td>      nan</td> <td>      nan</td>\n",
       "</tr>\n",
       "<tr>\n",
       "  <th>grade_3 Poor</th>                    <td>       nan</td> <td>      nan</td> <td>      nan</td> <td>   nan</td> <td>      nan</td> <td>      nan</td>\n",
       "</tr>\n",
       "<tr>\n",
       "  <th>grade_4 Low</th>                     <td>       nan</td> <td>      nan</td> <td>      nan</td> <td>   nan</td> <td>      nan</td> <td>      nan</td>\n",
       "</tr>\n",
       "<tr>\n",
       "  <th>grade_5 Fair</th>                    <td>       nan</td> <td>      nan</td> <td>      nan</td> <td>   nan</td> <td>      nan</td> <td>      nan</td>\n",
       "</tr>\n",
       "<tr>\n",
       "  <th>grade_6 Low Average</th>             <td>       nan</td> <td>      nan</td> <td>      nan</td> <td>   nan</td> <td>      nan</td> <td>      nan</td>\n",
       "</tr>\n",
       "<tr>\n",
       "  <th>grade_7 Average</th>                 <td>       nan</td> <td>      nan</td> <td>      nan</td> <td>   nan</td> <td>      nan</td> <td>      nan</td>\n",
       "</tr>\n",
       "<tr>\n",
       "  <th>grade_8 Good</th>                    <td>       nan</td> <td>      nan</td> <td>      nan</td> <td>   nan</td> <td>      nan</td> <td>      nan</td>\n",
       "</tr>\n",
       "<tr>\n",
       "  <th>grade_9 Better</th>                  <td>       nan</td> <td>      nan</td> <td>      nan</td> <td>   nan</td> <td>      nan</td> <td>      nan</td>\n",
       "</tr>\n",
       "<tr>\n",
       "  <th>heat_source_Electricity/Solar</th>   <td>       nan</td> <td>      nan</td> <td>      nan</td> <td>   nan</td> <td>      nan</td> <td>      nan</td>\n",
       "</tr>\n",
       "<tr>\n",
       "  <th>heat_source_Gas</th>                 <td>       nan</td> <td>      nan</td> <td>      nan</td> <td>   nan</td> <td>      nan</td> <td>      nan</td>\n",
       "</tr>\n",
       "<tr>\n",
       "  <th>heat_source_Gas/Solar</th>           <td>       nan</td> <td>      nan</td> <td>      nan</td> <td>   nan</td> <td>      nan</td> <td>      nan</td>\n",
       "</tr>\n",
       "<tr>\n",
       "  <th>heat_source_Oil</th>                 <td>       nan</td> <td>      nan</td> <td>      nan</td> <td>   nan</td> <td>      nan</td> <td>      nan</td>\n",
       "</tr>\n",
       "<tr>\n",
       "  <th>heat_source_Oil/Solar</th>           <td>       nan</td> <td>      nan</td> <td>      nan</td> <td>   nan</td> <td>      nan</td> <td>      nan</td>\n",
       "</tr>\n",
       "<tr>\n",
       "  <th>heat_source_Other</th>               <td>       nan</td> <td>      nan</td> <td>      nan</td> <td>   nan</td> <td>      nan</td> <td>      nan</td>\n",
       "</tr>\n",
       "<tr>\n",
       "  <th>sewer_system_PRIVATE</th>            <td>       nan</td> <td>      nan</td> <td>      nan</td> <td>   nan</td> <td>      nan</td> <td>      nan</td>\n",
       "</tr>\n",
       "<tr>\n",
       "  <th>sewer_system_PRIVATE RESTRICTED</th> <td>       nan</td> <td>      nan</td> <td>      nan</td> <td>   nan</td> <td>      nan</td> <td>      nan</td>\n",
       "</tr>\n",
       "<tr>\n",
       "  <th>sewer_system_PUBLIC RESTRICTED</th>  <td>       nan</td> <td>      nan</td> <td>      nan</td> <td>   nan</td> <td>      nan</td> <td>      nan</td>\n",
       "</tr>\n",
       "<tr>\n",
       "  <th>zip_98001</th>                       <td>       nan</td> <td>      nan</td> <td>      nan</td> <td>   nan</td> <td>      nan</td> <td>      nan</td>\n",
       "</tr>\n",
       "<tr>\n",
       "  <th>zip_98002</th>                       <td>       nan</td> <td>      nan</td> <td>      nan</td> <td>   nan</td> <td>      nan</td> <td>      nan</td>\n",
       "</tr>\n",
       "<tr>\n",
       "  <th>zip_98003</th>                       <td>       nan</td> <td>      nan</td> <td>      nan</td> <td>   nan</td> <td>      nan</td> <td>      nan</td>\n",
       "</tr>\n",
       "<tr>\n",
       "  <th>zip_98004</th>                       <td>       nan</td> <td>      nan</td> <td>      nan</td> <td>   nan</td> <td>      nan</td> <td>      nan</td>\n",
       "</tr>\n",
       "<tr>\n",
       "  <th>zip_98005</th>                       <td>       nan</td> <td>      nan</td> <td>      nan</td> <td>   nan</td> <td>      nan</td> <td>      nan</td>\n",
       "</tr>\n",
       "<tr>\n",
       "  <th>zip_98006</th>                       <td>       nan</td> <td>      nan</td> <td>      nan</td> <td>   nan</td> <td>      nan</td> <td>      nan</td>\n",
       "</tr>\n",
       "<tr>\n",
       "  <th>zip_98007</th>                       <td>       nan</td> <td>      nan</td> <td>      nan</td> <td>   nan</td> <td>      nan</td> <td>      nan</td>\n",
       "</tr>\n",
       "<tr>\n",
       "  <th>zip_98008</th>                       <td>       nan</td> <td>      nan</td> <td>      nan</td> <td>   nan</td> <td>      nan</td> <td>      nan</td>\n",
       "</tr>\n",
       "<tr>\n",
       "  <th>zip_98010</th>                       <td>       nan</td> <td>      nan</td> <td>      nan</td> <td>   nan</td> <td>      nan</td> <td>      nan</td>\n",
       "</tr>\n",
       "<tr>\n",
       "  <th>zip_98011</th>                       <td>       nan</td> <td>      nan</td> <td>      nan</td> <td>   nan</td> <td>      nan</td> <td>      nan</td>\n",
       "</tr>\n",
       "<tr>\n",
       "  <th>zip_98014</th>                       <td>       nan</td> <td>      nan</td> <td>      nan</td> <td>   nan</td> <td>      nan</td> <td>      nan</td>\n",
       "</tr>\n",
       "<tr>\n",
       "  <th>zip_98019</th>                       <td>       nan</td> <td>      nan</td> <td>      nan</td> <td>   nan</td> <td>      nan</td> <td>      nan</td>\n",
       "</tr>\n",
       "<tr>\n",
       "  <th>zip_98022</th>                       <td>       nan</td> <td>      nan</td> <td>      nan</td> <td>   nan</td> <td>      nan</td> <td>      nan</td>\n",
       "</tr>\n",
       "<tr>\n",
       "  <th>zip_98023</th>                       <td>       nan</td> <td>      nan</td> <td>      nan</td> <td>   nan</td> <td>      nan</td> <td>      nan</td>\n",
       "</tr>\n",
       "<tr>\n",
       "  <th>zip_98024</th>                       <td>       nan</td> <td>      nan</td> <td>      nan</td> <td>   nan</td> <td>      nan</td> <td>      nan</td>\n",
       "</tr>\n",
       "<tr>\n",
       "  <th>zip_98027</th>                       <td>       nan</td> <td>      nan</td> <td>      nan</td> <td>   nan</td> <td>      nan</td> <td>      nan</td>\n",
       "</tr>\n",
       "<tr>\n",
       "  <th>zip_98028</th>                       <td>       nan</td> <td>      nan</td> <td>      nan</td> <td>   nan</td> <td>      nan</td> <td>      nan</td>\n",
       "</tr>\n",
       "<tr>\n",
       "  <th>zip_98029</th>                       <td>       nan</td> <td>      nan</td> <td>      nan</td> <td>   nan</td> <td>      nan</td> <td>      nan</td>\n",
       "</tr>\n",
       "<tr>\n",
       "  <th>zip_98030</th>                       <td>       nan</td> <td>      nan</td> <td>      nan</td> <td>   nan</td> <td>      nan</td> <td>      nan</td>\n",
       "</tr>\n",
       "<tr>\n",
       "  <th>zip_98031</th>                       <td>       nan</td> <td>      nan</td> <td>      nan</td> <td>   nan</td> <td>      nan</td> <td>      nan</td>\n",
       "</tr>\n",
       "<tr>\n",
       "  <th>zip_98032</th>                       <td>       nan</td> <td>      nan</td> <td>      nan</td> <td>   nan</td> <td>      nan</td> <td>      nan</td>\n",
       "</tr>\n",
       "<tr>\n",
       "  <th>zip_98033</th>                       <td>       nan</td> <td>      nan</td> <td>      nan</td> <td>   nan</td> <td>      nan</td> <td>      nan</td>\n",
       "</tr>\n",
       "<tr>\n",
       "  <th>zip_98034</th>                       <td>       nan</td> <td>      nan</td> <td>      nan</td> <td>   nan</td> <td>      nan</td> <td>      nan</td>\n",
       "</tr>\n",
       "<tr>\n",
       "  <th>zip_98038</th>                       <td>       nan</td> <td>      nan</td> <td>      nan</td> <td>   nan</td> <td>      nan</td> <td>      nan</td>\n",
       "</tr>\n",
       "<tr>\n",
       "  <th>zip_98039</th>                       <td>       nan</td> <td>      nan</td> <td>      nan</td> <td>   nan</td> <td>      nan</td> <td>      nan</td>\n",
       "</tr>\n",
       "<tr>\n",
       "  <th>zip_98040</th>                       <td>       nan</td> <td>      nan</td> <td>      nan</td> <td>   nan</td> <td>      nan</td> <td>      nan</td>\n",
       "</tr>\n",
       "<tr>\n",
       "  <th>zip_98042</th>                       <td>       nan</td> <td>      nan</td> <td>      nan</td> <td>   nan</td> <td>      nan</td> <td>      nan</td>\n",
       "</tr>\n",
       "<tr>\n",
       "  <th>zip_98045</th>                       <td>       nan</td> <td>      nan</td> <td>      nan</td> <td>   nan</td> <td>      nan</td> <td>      nan</td>\n",
       "</tr>\n",
       "<tr>\n",
       "  <th>zip_98047</th>                       <td>       nan</td> <td>      nan</td> <td>      nan</td> <td>   nan</td> <td>      nan</td> <td>      nan</td>\n",
       "</tr>\n",
       "<tr>\n",
       "  <th>zip_98050</th>                       <td>       nan</td> <td>      nan</td> <td>      nan</td> <td>   nan</td> <td>      nan</td> <td>      nan</td>\n",
       "</tr>\n",
       "<tr>\n",
       "  <th>zip_98051</th>                       <td>       nan</td> <td>      nan</td> <td>      nan</td> <td>   nan</td> <td>      nan</td> <td>      nan</td>\n",
       "</tr>\n",
       "<tr>\n",
       "  <th>zip_98052</th>                       <td>       nan</td> <td>      nan</td> <td>      nan</td> <td>   nan</td> <td>      nan</td> <td>      nan</td>\n",
       "</tr>\n",
       "<tr>\n",
       "  <th>zip_98053</th>                       <td>       nan</td> <td>      nan</td> <td>      nan</td> <td>   nan</td> <td>      nan</td> <td>      nan</td>\n",
       "</tr>\n",
       "<tr>\n",
       "  <th>zip_98055</th>                       <td>       nan</td> <td>      nan</td> <td>      nan</td> <td>   nan</td> <td>      nan</td> <td>      nan</td>\n",
       "</tr>\n",
       "<tr>\n",
       "  <th>zip_98056</th>                       <td>       nan</td> <td>      nan</td> <td>      nan</td> <td>   nan</td> <td>      nan</td> <td>      nan</td>\n",
       "</tr>\n",
       "<tr>\n",
       "  <th>zip_98057</th>                       <td>       nan</td> <td>      nan</td> <td>      nan</td> <td>   nan</td> <td>      nan</td> <td>      nan</td>\n",
       "</tr>\n",
       "<tr>\n",
       "  <th>zip_98058</th>                       <td>       nan</td> <td>      nan</td> <td>      nan</td> <td>   nan</td> <td>      nan</td> <td>      nan</td>\n",
       "</tr>\n",
       "<tr>\n",
       "  <th>zip_98059</th>                       <td>       nan</td> <td>      nan</td> <td>      nan</td> <td>   nan</td> <td>      nan</td> <td>      nan</td>\n",
       "</tr>\n",
       "<tr>\n",
       "  <th>zip_98065</th>                       <td>       nan</td> <td>      nan</td> <td>      nan</td> <td>   nan</td> <td>      nan</td> <td>      nan</td>\n",
       "</tr>\n",
       "<tr>\n",
       "  <th>zip_98070</th>                       <td>       nan</td> <td>      nan</td> <td>      nan</td> <td>   nan</td> <td>      nan</td> <td>      nan</td>\n",
       "</tr>\n",
       "<tr>\n",
       "  <th>zip_98072</th>                       <td>       nan</td> <td>      nan</td> <td>      nan</td> <td>   nan</td> <td>      nan</td> <td>      nan</td>\n",
       "</tr>\n",
       "<tr>\n",
       "  <th>zip_98074</th>                       <td>       nan</td> <td>      nan</td> <td>      nan</td> <td>   nan</td> <td>      nan</td> <td>      nan</td>\n",
       "</tr>\n",
       "<tr>\n",
       "  <th>zip_98075</th>                       <td>       nan</td> <td>      nan</td> <td>      nan</td> <td>   nan</td> <td>      nan</td> <td>      nan</td>\n",
       "</tr>\n",
       "<tr>\n",
       "  <th>zip_98077</th>                       <td>       nan</td> <td>      nan</td> <td>      nan</td> <td>   nan</td> <td>      nan</td> <td>      nan</td>\n",
       "</tr>\n",
       "<tr>\n",
       "  <th>zip_98092</th>                       <td>       nan</td> <td>      nan</td> <td>      nan</td> <td>   nan</td> <td>      nan</td> <td>      nan</td>\n",
       "</tr>\n",
       "<tr>\n",
       "  <th>zip_98102</th>                       <td>       nan</td> <td>      nan</td> <td>      nan</td> <td>   nan</td> <td>      nan</td> <td>      nan</td>\n",
       "</tr>\n",
       "<tr>\n",
       "  <th>zip_98103</th>                       <td>       nan</td> <td>      nan</td> <td>      nan</td> <td>   nan</td> <td>      nan</td> <td>      nan</td>\n",
       "</tr>\n",
       "<tr>\n",
       "  <th>zip_98105</th>                       <td>       nan</td> <td>      nan</td> <td>      nan</td> <td>   nan</td> <td>      nan</td> <td>      nan</td>\n",
       "</tr>\n",
       "<tr>\n",
       "  <th>zip_98106</th>                       <td>       nan</td> <td>      nan</td> <td>      nan</td> <td>   nan</td> <td>      nan</td> <td>      nan</td>\n",
       "</tr>\n",
       "<tr>\n",
       "  <th>zip_98107</th>                       <td>       nan</td> <td>      nan</td> <td>      nan</td> <td>   nan</td> <td>      nan</td> <td>      nan</td>\n",
       "</tr>\n",
       "<tr>\n",
       "  <th>zip_98108</th>                       <td>       nan</td> <td>      nan</td> <td>      nan</td> <td>   nan</td> <td>      nan</td> <td>      nan</td>\n",
       "</tr>\n",
       "<tr>\n",
       "  <th>zip_98109</th>                       <td>       nan</td> <td>      nan</td> <td>      nan</td> <td>   nan</td> <td>      nan</td> <td>      nan</td>\n",
       "</tr>\n",
       "<tr>\n",
       "  <th>zip_98112</th>                       <td>       nan</td> <td>      nan</td> <td>      nan</td> <td>   nan</td> <td>      nan</td> <td>      nan</td>\n",
       "</tr>\n",
       "<tr>\n",
       "  <th>zip_98115</th>                       <td>       nan</td> <td>      nan</td> <td>      nan</td> <td>   nan</td> <td>      nan</td> <td>      nan</td>\n",
       "</tr>\n",
       "<tr>\n",
       "  <th>zip_98117</th>                       <td>       nan</td> <td>      nan</td> <td>      nan</td> <td>   nan</td> <td>      nan</td> <td>      nan</td>\n",
       "</tr>\n",
       "<tr>\n",
       "  <th>zip_98118</th>                       <td>       nan</td> <td>      nan</td> <td>      nan</td> <td>   nan</td> <td>      nan</td> <td>      nan</td>\n",
       "</tr>\n",
       "<tr>\n",
       "  <th>zip_98119</th>                       <td>       nan</td> <td>      nan</td> <td>      nan</td> <td>   nan</td> <td>      nan</td> <td>      nan</td>\n",
       "</tr>\n",
       "<tr>\n",
       "  <th>zip_98122</th>                       <td>       nan</td> <td>      nan</td> <td>      nan</td> <td>   nan</td> <td>      nan</td> <td>      nan</td>\n",
       "</tr>\n",
       "<tr>\n",
       "  <th>zip_98125</th>                       <td>       nan</td> <td>      nan</td> <td>      nan</td> <td>   nan</td> <td>      nan</td> <td>      nan</td>\n",
       "</tr>\n",
       "<tr>\n",
       "  <th>zip_98126</th>                       <td>       nan</td> <td>      nan</td> <td>      nan</td> <td>   nan</td> <td>      nan</td> <td>      nan</td>\n",
       "</tr>\n",
       "<tr>\n",
       "  <th>zip_98133</th>                       <td>       nan</td> <td>      nan</td> <td>      nan</td> <td>   nan</td> <td>      nan</td> <td>      nan</td>\n",
       "</tr>\n",
       "<tr>\n",
       "  <th>zip_98136</th>                       <td>       nan</td> <td>      nan</td> <td>      nan</td> <td>   nan</td> <td>      nan</td> <td>      nan</td>\n",
       "</tr>\n",
       "<tr>\n",
       "  <th>zip_98144</th>                       <td>       nan</td> <td>      nan</td> <td>      nan</td> <td>   nan</td> <td>      nan</td> <td>      nan</td>\n",
       "</tr>\n",
       "<tr>\n",
       "  <th>zip_98146</th>                       <td>       nan</td> <td>      nan</td> <td>      nan</td> <td>   nan</td> <td>      nan</td> <td>      nan</td>\n",
       "</tr>\n",
       "<tr>\n",
       "  <th>zip_98148</th>                       <td>       nan</td> <td>      nan</td> <td>      nan</td> <td>   nan</td> <td>      nan</td> <td>      nan</td>\n",
       "</tr>\n",
       "<tr>\n",
       "  <th>zip_98155</th>                       <td>       nan</td> <td>      nan</td> <td>      nan</td> <td>   nan</td> <td>      nan</td> <td>      nan</td>\n",
       "</tr>\n",
       "<tr>\n",
       "  <th>zip_98166</th>                       <td>       nan</td> <td>      nan</td> <td>      nan</td> <td>   nan</td> <td>      nan</td> <td>      nan</td>\n",
       "</tr>\n",
       "<tr>\n",
       "  <th>zip_98168</th>                       <td>       nan</td> <td>      nan</td> <td>      nan</td> <td>   nan</td> <td>      nan</td> <td>      nan</td>\n",
       "</tr>\n",
       "<tr>\n",
       "  <th>zip_98177</th>                       <td>       nan</td> <td>      nan</td> <td>      nan</td> <td>   nan</td> <td>      nan</td> <td>      nan</td>\n",
       "</tr>\n",
       "<tr>\n",
       "  <th>zip_98178</th>                       <td>       nan</td> <td>      nan</td> <td>      nan</td> <td>   nan</td> <td>      nan</td> <td>      nan</td>\n",
       "</tr>\n",
       "<tr>\n",
       "  <th>zip_98188</th>                       <td>       nan</td> <td>      nan</td> <td>      nan</td> <td>   nan</td> <td>      nan</td> <td>      nan</td>\n",
       "</tr>\n",
       "<tr>\n",
       "  <th>zip_98198</th>                       <td>       nan</td> <td>      nan</td> <td>      nan</td> <td>   nan</td> <td>      nan</td> <td>      nan</td>\n",
       "</tr>\n",
       "<tr>\n",
       "  <th>zip_98199</th>                       <td>       nan</td> <td>      nan</td> <td>      nan</td> <td>   nan</td> <td>      nan</td> <td>      nan</td>\n",
       "</tr>\n",
       "<tr>\n",
       "  <th>zip_98223</th>                       <td>       nan</td> <td>      nan</td> <td>      nan</td> <td>   nan</td> <td>      nan</td> <td>      nan</td>\n",
       "</tr>\n",
       "<tr>\n",
       "  <th>zip_98224</th>                       <td>       nan</td> <td>      nan</td> <td>      nan</td> <td>   nan</td> <td>      nan</td> <td>      nan</td>\n",
       "</tr>\n",
       "<tr>\n",
       "  <th>zip_98251</th>                       <td>       nan</td> <td>      nan</td> <td>      nan</td> <td>   nan</td> <td>      nan</td> <td>      nan</td>\n",
       "</tr>\n",
       "<tr>\n",
       "  <th>zip_98270</th>                       <td>       nan</td> <td>      nan</td> <td>      nan</td> <td>   nan</td> <td>      nan</td> <td>      nan</td>\n",
       "</tr>\n",
       "<tr>\n",
       "  <th>zip_98271</th>                       <td>       nan</td> <td>      nan</td> <td>      nan</td> <td>   nan</td> <td>      nan</td> <td>      nan</td>\n",
       "</tr>\n",
       "<tr>\n",
       "  <th>zip_98272</th>                       <td>       nan</td> <td>      nan</td> <td>      nan</td> <td>   nan</td> <td>      nan</td> <td>      nan</td>\n",
       "</tr>\n",
       "<tr>\n",
       "  <th>zip_98288</th>                       <td>       nan</td> <td>      nan</td> <td>      nan</td> <td>   nan</td> <td>      nan</td> <td>      nan</td>\n",
       "</tr>\n",
       "<tr>\n",
       "  <th>zip_98296</th>                       <td>       nan</td> <td>      nan</td> <td>      nan</td> <td>   nan</td> <td>      nan</td> <td>      nan</td>\n",
       "</tr>\n",
       "<tr>\n",
       "  <th>zip_98338</th>                       <td>       nan</td> <td>      nan</td> <td>      nan</td> <td>   nan</td> <td>      nan</td> <td>      nan</td>\n",
       "</tr>\n",
       "<tr>\n",
       "  <th>zip_98354</th>                       <td>       nan</td> <td>      nan</td> <td>      nan</td> <td>   nan</td> <td>      nan</td> <td>      nan</td>\n",
       "</tr>\n",
       "<tr>\n",
       "  <th>zip_98372</th>                       <td>       nan</td> <td>      nan</td> <td>      nan</td> <td>   nan</td> <td>      nan</td> <td>      nan</td>\n",
       "</tr>\n",
       "<tr>\n",
       "  <th>zip_98387</th>                       <td>       nan</td> <td>      nan</td> <td>      nan</td> <td>   nan</td> <td>      nan</td> <td>      nan</td>\n",
       "</tr>\n",
       "<tr>\n",
       "  <th>zip_98422</th>                       <td>       nan</td> <td>      nan</td> <td>      nan</td> <td>   nan</td> <td>      nan</td> <td>      nan</td>\n",
       "</tr>\n",
       "<tr>\n",
       "  <th>zip_98663</th>                       <td>       nan</td> <td>      nan</td> <td>      nan</td> <td>   nan</td> <td>      nan</td> <td>      nan</td>\n",
       "</tr>\n",
       "</table>\n",
       "<table class=\"simpletable\">\n",
       "<tr>\n",
       "  <th>Omnibus:</th>       <td>   nan</td> <th>  Durbin-Watson:     </th> <td>     nan</td>\n",
       "</tr>\n",
       "<tr>\n",
       "  <th>Prob(Omnibus):</th> <td>   nan</td> <th>  Jarque-Bera (JB):  </th> <td>     nan</td>\n",
       "</tr>\n",
       "<tr>\n",
       "  <th>Skew:</th>          <td>   nan</td> <th>  Prob(JB):          </th> <td>     nan</td>\n",
       "</tr>\n",
       "<tr>\n",
       "  <th>Kurtosis:</th>      <td>   nan</td> <th>  Cond. No.          </th> <td>1.43e+03</td>\n",
       "</tr>\n",
       "</table><br/><br/>Notes:<br/>[1] Standard Errors assume that the covariance matrix of the errors is correctly specified.<br/>[2] The condition number is large, 1.43e+03. This might indicate that there are<br/>strong multicollinearity or other numerical problems."
      ],
      "text/plain": [
       "<class 'statsmodels.iolib.summary.Summary'>\n",
       "\"\"\"\n",
       "                            OLS Regression Results                            \n",
       "==============================================================================\n",
       "Dep. Variable:                  price   R-squared:                         nan\n",
       "Model:                            OLS   Adj. R-squared:                    nan\n",
       "Method:                 Least Squares   F-statistic:                       nan\n",
       "Date:                Wed, 22 Feb 2023   Prob (F-statistic):                nan\n",
       "Time:                        10:28:33   Log-Likelihood:                    nan\n",
       "No. Observations:               29141   AIC:                               nan\n",
       "Df Residuals:                   29021   BIC:                               nan\n",
       "Df Model:                         119                                         \n",
       "Covariance Type:            nonrobust                                         \n",
       "===================================================================================================\n",
       "                                      coef    std err          t      P>|t|      [0.025      0.975]\n",
       "---------------------------------------------------------------------------------------------------\n",
       "const                                  nan        nan        nan        nan         nan         nan\n",
       "waterfront_YES                         nan        nan        nan        nan         nan         nan\n",
       "greenbelt_YES                          nan        nan        nan        nan         nan         nan\n",
       "nuisance_NO                            nan        nan        nan        nan         nan         nan\n",
       "view_AVERAGE                           nan        nan        nan        nan         nan         nan\n",
       "view_EXCELLENT                         nan        nan        nan        nan         nan         nan\n",
       "view_FAIR                              nan        nan        nan        nan         nan         nan\n",
       "view_GOOD                              nan        nan        nan        nan         nan         nan\n",
       "view_NONE                              nan        nan        nan        nan         nan         nan\n",
       "condition_Average                      nan        nan        nan        nan         nan         nan\n",
       "condition_Fair                         nan        nan        nan        nan         nan         nan\n",
       "condition_Good                         nan        nan        nan        nan         nan         nan\n",
       "condition_Very Good                    nan        nan        nan        nan         nan         nan\n",
       "grade_10 Very Good                     nan        nan        nan        nan         nan         nan\n",
       "grade_11 Excellent                     nan        nan        nan        nan         nan         nan\n",
       "grade_12 Luxury                        nan        nan        nan        nan         nan         nan\n",
       "grade_13 Mansion                       nan        nan        nan        nan         nan         nan\n",
       "grade_3 Poor                           nan        nan        nan        nan         nan         nan\n",
       "grade_4 Low                            nan        nan        nan        nan         nan         nan\n",
       "grade_5 Fair                           nan        nan        nan        nan         nan         nan\n",
       "grade_6 Low Average                    nan        nan        nan        nan         nan         nan\n",
       "grade_7 Average                        nan        nan        nan        nan         nan         nan\n",
       "grade_8 Good                           nan        nan        nan        nan         nan         nan\n",
       "grade_9 Better                         nan        nan        nan        nan         nan         nan\n",
       "heat_source_Electricity/Solar          nan        nan        nan        nan         nan         nan\n",
       "heat_source_Gas                        nan        nan        nan        nan         nan         nan\n",
       "heat_source_Gas/Solar                  nan        nan        nan        nan         nan         nan\n",
       "heat_source_Oil                        nan        nan        nan        nan         nan         nan\n",
       "heat_source_Oil/Solar                  nan        nan        nan        nan         nan         nan\n",
       "heat_source_Other                      nan        nan        nan        nan         nan         nan\n",
       "sewer_system_PRIVATE                   nan        nan        nan        nan         nan         nan\n",
       "sewer_system_PRIVATE RESTRICTED        nan        nan        nan        nan         nan         nan\n",
       "sewer_system_PUBLIC RESTRICTED         nan        nan        nan        nan         nan         nan\n",
       "zip_98001                              nan        nan        nan        nan         nan         nan\n",
       "zip_98002                              nan        nan        nan        nan         nan         nan\n",
       "zip_98003                              nan        nan        nan        nan         nan         nan\n",
       "zip_98004                              nan        nan        nan        nan         nan         nan\n",
       "zip_98005                              nan        nan        nan        nan         nan         nan\n",
       "zip_98006                              nan        nan        nan        nan         nan         nan\n",
       "zip_98007                              nan        nan        nan        nan         nan         nan\n",
       "zip_98008                              nan        nan        nan        nan         nan         nan\n",
       "zip_98010                              nan        nan        nan        nan         nan         nan\n",
       "zip_98011                              nan        nan        nan        nan         nan         nan\n",
       "zip_98014                              nan        nan        nan        nan         nan         nan\n",
       "zip_98019                              nan        nan        nan        nan         nan         nan\n",
       "zip_98022                              nan        nan        nan        nan         nan         nan\n",
       "zip_98023                              nan        nan        nan        nan         nan         nan\n",
       "zip_98024                              nan        nan        nan        nan         nan         nan\n",
       "zip_98027                              nan        nan        nan        nan         nan         nan\n",
       "zip_98028                              nan        nan        nan        nan         nan         nan\n",
       "zip_98029                              nan        nan        nan        nan         nan         nan\n",
       "zip_98030                              nan        nan        nan        nan         nan         nan\n",
       "zip_98031                              nan        nan        nan        nan         nan         nan\n",
       "zip_98032                              nan        nan        nan        nan         nan         nan\n",
       "zip_98033                              nan        nan        nan        nan         nan         nan\n",
       "zip_98034                              nan        nan        nan        nan         nan         nan\n",
       "zip_98038                              nan        nan        nan        nan         nan         nan\n",
       "zip_98039                              nan        nan        nan        nan         nan         nan\n",
       "zip_98040                              nan        nan        nan        nan         nan         nan\n",
       "zip_98042                              nan        nan        nan        nan         nan         nan\n",
       "zip_98045                              nan        nan        nan        nan         nan         nan\n",
       "zip_98047                              nan        nan        nan        nan         nan         nan\n",
       "zip_98050                              nan        nan        nan        nan         nan         nan\n",
       "zip_98051                              nan        nan        nan        nan         nan         nan\n",
       "zip_98052                              nan        nan        nan        nan         nan         nan\n",
       "zip_98053                              nan        nan        nan        nan         nan         nan\n",
       "zip_98055                              nan        nan        nan        nan         nan         nan\n",
       "zip_98056                              nan        nan        nan        nan         nan         nan\n",
       "zip_98057                              nan        nan        nan        nan         nan         nan\n",
       "zip_98058                              nan        nan        nan        nan         nan         nan\n",
       "zip_98059                              nan        nan        nan        nan         nan         nan\n",
       "zip_98065                              nan        nan        nan        nan         nan         nan\n",
       "zip_98070                              nan        nan        nan        nan         nan         nan\n",
       "zip_98072                              nan        nan        nan        nan         nan         nan\n",
       "zip_98074                              nan        nan        nan        nan         nan         nan\n",
       "zip_98075                              nan        nan        nan        nan         nan         nan\n",
       "zip_98077                              nan        nan        nan        nan         nan         nan\n",
       "zip_98092                              nan        nan        nan        nan         nan         nan\n",
       "zip_98102                              nan        nan        nan        nan         nan         nan\n",
       "zip_98103                              nan        nan        nan        nan         nan         nan\n",
       "zip_98105                              nan        nan        nan        nan         nan         nan\n",
       "zip_98106                              nan        nan        nan        nan         nan         nan\n",
       "zip_98107                              nan        nan        nan        nan         nan         nan\n",
       "zip_98108                              nan        nan        nan        nan         nan         nan\n",
       "zip_98109                              nan        nan        nan        nan         nan         nan\n",
       "zip_98112                              nan        nan        nan        nan         nan         nan\n",
       "zip_98115                              nan        nan        nan        nan         nan         nan\n",
       "zip_98117                              nan        nan        nan        nan         nan         nan\n",
       "zip_98118                              nan        nan        nan        nan         nan         nan\n",
       "zip_98119                              nan        nan        nan        nan         nan         nan\n",
       "zip_98122                              nan        nan        nan        nan         nan         nan\n",
       "zip_98125                              nan        nan        nan        nan         nan         nan\n",
       "zip_98126                              nan        nan        nan        nan         nan         nan\n",
       "zip_98133                              nan        nan        nan        nan         nan         nan\n",
       "zip_98136                              nan        nan        nan        nan         nan         nan\n",
       "zip_98144                              nan        nan        nan        nan         nan         nan\n",
       "zip_98146                              nan        nan        nan        nan         nan         nan\n",
       "zip_98148                              nan        nan        nan        nan         nan         nan\n",
       "zip_98155                              nan        nan        nan        nan         nan         nan\n",
       "zip_98166                              nan        nan        nan        nan         nan         nan\n",
       "zip_98168                              nan        nan        nan        nan         nan         nan\n",
       "zip_98177                              nan        nan        nan        nan         nan         nan\n",
       "zip_98178                              nan        nan        nan        nan         nan         nan\n",
       "zip_98188                              nan        nan        nan        nan         nan         nan\n",
       "zip_98198                              nan        nan        nan        nan         nan         nan\n",
       "zip_98199                              nan        nan        nan        nan         nan         nan\n",
       "zip_98223                              nan        nan        nan        nan         nan         nan\n",
       "zip_98224                              nan        nan        nan        nan         nan         nan\n",
       "zip_98251                              nan        nan        nan        nan         nan         nan\n",
       "zip_98270                              nan        nan        nan        nan         nan         nan\n",
       "zip_98271                              nan        nan        nan        nan         nan         nan\n",
       "zip_98272                              nan        nan        nan        nan         nan         nan\n",
       "zip_98288                              nan        nan        nan        nan         nan         nan\n",
       "zip_98296                              nan        nan        nan        nan         nan         nan\n",
       "zip_98338                              nan        nan        nan        nan         nan         nan\n",
       "zip_98354                              nan        nan        nan        nan         nan         nan\n",
       "zip_98372                              nan        nan        nan        nan         nan         nan\n",
       "zip_98387                              nan        nan        nan        nan         nan         nan\n",
       "zip_98422                              nan        nan        nan        nan         nan         nan\n",
       "zip_98663                              nan        nan        nan        nan         nan         nan\n",
       "==============================================================================\n",
       "Omnibus:                          nan   Durbin-Watson:                     nan\n",
       "Prob(Omnibus):                    nan   Jarque-Bera (JB):                  nan\n",
       "Skew:                             nan   Prob(JB):                          nan\n",
       "Kurtosis:                         nan   Cond. No.                     1.43e+03\n",
       "==============================================================================\n",
       "\n",
       "Notes:\n",
       "[1] Standard Errors assume that the covariance matrix of the errors is correctly specified.\n",
       "[2] The condition number is large, 1.43e+03. This might indicate that there are\n",
       "strong multicollinearity or other numerical problems.\n",
       "\"\"\""
      ]
     },
     "execution_count": 156,
     "metadata": {},
     "output_type": "execute_result"
    }
   ],
   "source": [
    "cat_model= sm.OLS(y_raw, sm.add_constant(X_raw_cat))\n",
    "cat_results = cat_model.fit()\n",
    "cat_results.summary()"
   ]
  },
  {
   "cell_type": "markdown",
   "metadata": {},
   "source": [
    "As expected, with the high number of variables in this model our r-squared adjusted value is pretty high for a multiple linear regression model.  There's going to be some collinearity between our variables, like \"waterfront_yes\" and \"zip\".  Many of our variables are statistically significant, with a significant coefficient value as well.  As expected we see see variables like 'zip', 'waterfront_YES', and high 'grade' values make a big difference in 'price'.  Because we dropped the zip code in our model that was closest to the mean price, we can say that for each'zip' we could add or subtract the coefficient value from our intercept to find the gain or loss from the mean value of a house in that zipcode. But because our intercept is currently a negative value, we will need to zero center our data for that to make sense to our stakeholders. Additionally, we are missing some important variables from our numeric data, like 'sqft_living\" from this model.  "
   ]
  },
  {
   "cell_type": "markdown",
   "metadata": {},
   "source": [
    "### 1st Model: Baseline"
   ]
  },
  {
   "cell_type": "markdown",
   "metadata": {},
   "source": [
    "#### Using Home Size, Waterfront, and Zip to Predict Home Prices \n",
    "Our first model will be unchanged by any kind of linear or logarithmic transformations. \n",
    "\n",
    "If the model is correctly specified, then we should see an even distribution of the residuals in our final scatter plot\n"
   ]
  },
  {
   "cell_type": "code",
   "execution_count": 27,
   "metadata": {},
   "outputs": [],
   "source": [
    "y_raw = df_clean[\"price\"]\n",
    "X_raw = df_clean[['sqft_living', 'waterfront']]\n",
    "X_raw = pd.get_dummies(X_raw, columns=[\"waterfront\"])\n",
    "X_raw.drop(['waterfront_NO'], axis=1, inplace=True)\n"
   ]
  },
  {
   "cell_type": "code",
   "execution_count": 28,
   "metadata": {},
   "outputs": [
    {
     "data": {
      "text/html": [
       "<table class=\"simpletable\">\n",
       "<caption>OLS Regression Results</caption>\n",
       "<tr>\n",
       "  <th>Dep. Variable:</th>          <td>price</td>      <th>  R-squared:         </th>  <td>   0.417</td>  \n",
       "</tr>\n",
       "<tr>\n",
       "  <th>Model:</th>                   <td>OLS</td>       <th>  Adj. R-squared:    </th>  <td>   0.417</td>  \n",
       "</tr>\n",
       "<tr>\n",
       "  <th>Method:</th>             <td>Least Squares</td>  <th>  F-statistic:       </th>  <td>1.043e+04</td> \n",
       "</tr>\n",
       "<tr>\n",
       "  <th>Date:</th>             <td>Tue, 21 Feb 2023</td> <th>  Prob (F-statistic):</th>   <td>  0.00</td>   \n",
       "</tr>\n",
       "<tr>\n",
       "  <th>Time:</th>                 <td>12:52:48</td>     <th>  Log-Likelihood:    </th> <td>-4.3375e+05</td>\n",
       "</tr>\n",
       "<tr>\n",
       "  <th>No. Observations:</th>      <td> 29200</td>      <th>  AIC:               </th>  <td>8.675e+05</td> \n",
       "</tr>\n",
       "<tr>\n",
       "  <th>Df Residuals:</th>          <td> 29197</td>      <th>  BIC:               </th>  <td>8.675e+05</td> \n",
       "</tr>\n",
       "<tr>\n",
       "  <th>Df Model:</th>              <td>     2</td>      <th>                     </th>      <td> </td>     \n",
       "</tr>\n",
       "<tr>\n",
       "  <th>Covariance Type:</th>      <td>nonrobust</td>    <th>                     </th>      <td> </td>     \n",
       "</tr>\n",
       "</table>\n",
       "<table class=\"simpletable\">\n",
       "<tr>\n",
       "         <td></td>           <th>coef</th>     <th>std err</th>      <th>t</th>      <th>P>|t|</th>  <th>[0.025</th>    <th>0.975]</th>  \n",
       "</tr>\n",
       "<tr>\n",
       "  <th>const</th>          <td>-8.491e+04</td> <td> 9610.146</td> <td>   -8.836</td> <td> 0.000</td> <td>-1.04e+05</td> <td>-6.61e+04</td>\n",
       "</tr>\n",
       "<tr>\n",
       "  <th>sqft_living</th>    <td>  551.2859</td> <td>    4.111</td> <td>  134.090</td> <td> 0.000</td> <td>  543.227</td> <td>  559.344</td>\n",
       "</tr>\n",
       "<tr>\n",
       "  <th>waterfront_YES</th> <td> 1.309e+06</td> <td> 3.07e+04</td> <td>   42.627</td> <td> 0.000</td> <td> 1.25e+06</td> <td> 1.37e+06</td>\n",
       "</tr>\n",
       "</table>\n",
       "<table class=\"simpletable\">\n",
       "<tr>\n",
       "  <th>Omnibus:</th>       <td>40013.255</td> <th>  Durbin-Watson:     </th>   <td>   1.932</td>  \n",
       "</tr>\n",
       "<tr>\n",
       "  <th>Prob(Omnibus):</th>  <td> 0.000</td>   <th>  Jarque-Bera (JB):  </th> <td>41462447.154</td>\n",
       "</tr>\n",
       "<tr>\n",
       "  <th>Skew:</th>           <td> 7.393</td>   <th>  Prob(JB):          </th>   <td>    0.00</td>  \n",
       "</tr>\n",
       "<tr>\n",
       "  <th>Kurtosis:</th>       <td>187.011</td>  <th>  Cond. No.          </th>   <td>1.80e+04</td>  \n",
       "</tr>\n",
       "</table><br/><br/>Notes:<br/>[1] Standard Errors assume that the covariance matrix of the errors is correctly specified.<br/>[2] The condition number is large, 1.8e+04. This might indicate that there are<br/>strong multicollinearity or other numerical problems."
      ],
      "text/plain": [
       "<class 'statsmodels.iolib.summary.Summary'>\n",
       "\"\"\"\n",
       "                            OLS Regression Results                            \n",
       "==============================================================================\n",
       "Dep. Variable:                  price   R-squared:                       0.417\n",
       "Model:                            OLS   Adj. R-squared:                  0.417\n",
       "Method:                 Least Squares   F-statistic:                 1.043e+04\n",
       "Date:                Tue, 21 Feb 2023   Prob (F-statistic):               0.00\n",
       "Time:                        12:52:48   Log-Likelihood:            -4.3375e+05\n",
       "No. Observations:               29200   AIC:                         8.675e+05\n",
       "Df Residuals:                   29197   BIC:                         8.675e+05\n",
       "Df Model:                           2                                         \n",
       "Covariance Type:            nonrobust                                         \n",
       "==================================================================================\n",
       "                     coef    std err          t      P>|t|      [0.025      0.975]\n",
       "----------------------------------------------------------------------------------\n",
       "const          -8.491e+04   9610.146     -8.836      0.000   -1.04e+05   -6.61e+04\n",
       "sqft_living      551.2859      4.111    134.090      0.000     543.227     559.344\n",
       "waterfront_YES  1.309e+06   3.07e+04     42.627      0.000    1.25e+06    1.37e+06\n",
       "==============================================================================\n",
       "Omnibus:                    40013.255   Durbin-Watson:                   1.932\n",
       "Prob(Omnibus):                  0.000   Jarque-Bera (JB):         41462447.154\n",
       "Skew:                           7.393   Prob(JB):                         0.00\n",
       "Kurtosis:                     187.011   Cond. No.                     1.80e+04\n",
       "==============================================================================\n",
       "\n",
       "Notes:\n",
       "[1] Standard Errors assume that the covariance matrix of the errors is correctly specified.\n",
       "[2] The condition number is large, 1.8e+04. This might indicate that there are\n",
       "strong multicollinearity or other numerical problems.\n",
       "\"\"\""
      ]
     },
     "execution_count": 28,
     "metadata": {},
     "output_type": "execute_result"
    }
   ],
   "source": [
    "baseline_model = sm.OLS(y_raw, sm.add_constant(X_raw))\n",
    "baseline_results = baseline_model.fit()\n",
    "baseline_results.summary()"
   ]
  },
  {
   "cell_type": "markdown",
   "metadata": {},
   "source": [
    "We can see that our variables are statistically significant from there p-values of zero, but our intercept will make interpretting this data challenging because of it's negative value (houses typically cost something to buy)).  We can also see that our adjusted r-squared is pretty low, even for a multiple linear regression model.  This means we'll probably see a high MAE, and if we're looking to predict values for homes, we'll want to minimize that for accuracy.  Let's check the linearity of a plot of our residuals. "
   ]
  },
  {
   "cell_type": "code",
   "execution_count": null,
   "metadata": {},
   "outputs": [],
   "source": []
  },
  {
   "cell_type": "code",
   "execution_count": 29,
   "metadata": {},
   "outputs": [
    {
     "data": {
      "image/png": "[encoded data removed]",
      "text/plain": [
       "<Figure size 432x288 with 1 Axes>"
      ]
     },
     "metadata": {
      "needs_background": "light"
     },
     "output_type": "display_data"
    }
   ],
   "source": [
    "# Analyze coefficiants and p values here\n",
    "fig, ax = plt.subplots()\n",
    "\n",
    "ax.scatter(y_raw, baseline_results.resid)\n",
    "ax.axhline(y=0, color=\"black\")\n",
    "ax.set_xlabel(\"raw\")\n",
    "ax.set_ylabel(\"residuals\")\n",
    "ax.set_title(\"Non-Linear Relationship- Baseline Model Residual Plot\");"
   ]
  },
  {
   "cell_type": "markdown",
   "metadata": {},
   "source": [
    "If our data were normally distributed we would see our residuals scattered across the plot rather than clumped together like we do here.  But let's prove that there's a non-linear relationship between the variables in our model and price statistically as well by using a rainbow test.  In a rainbow test, even if the true relationship is non-linear, a good linear fit can be achieved on a subsample in the “middle” of the data, in the arc of the \"rainbow\".  The null hypothesis is the fit of the model using full sample is the same as using a central subset. The null hypothesis is rejected whenever the overall fit is significantly worse than the fit for the subsample.  A rainbow test returns the f-statistic and p-value, and unlike the way we usually interpret p-values (a low score is good) in this instance, a low score would indicate a non-linear relationship."
   ]
  },
  {
   "cell_type": "code",
   "execution_count": 30,
   "metadata": {},
   "outputs": [
    {
     "data": {
      "text/plain": [
       "(1.2026391206237155, 4.0497742575145054e-29)"
      ]
     },
     "execution_count": 30,
     "metadata": {},
     "output_type": "execute_result"
    }
   ],
   "source": [
    "#.  If there's a non-linear relationship we will see non-zero values for residuals\n",
    "from statsmodels.stats.diagnostic import linear_rainbow\n",
    "linear_rainbow(baseline_results)"
   ]
  },
  {
   "cell_type": "markdown",
   "metadata": {},
   "source": [
    "The p-value of our first model is such a small percentage we might as well consider it zero, our data is non-linear. "
   ]
  },
  {
   "cell_type": "markdown",
   "metadata": {},
   "source": [
    "### 2nd Model: Log Transform sqft_living\n"
   ]
  },
  {
   "cell_type": "markdown",
   "metadata": {},
   "source": [
    "For this model we'll log transform center our independant variables to deal with our linearity issues."
   ]
  },
  {
   "cell_type": "code",
   "execution_count": 33,
   "metadata": {},
   "outputs": [],
   "source": [
    "X_sqft_log = X_raw.copy()\n",
    "\n",
    "X_sqft_log[\"log(sqft_living)\"] = np.log(X_sqft_log[\"sqft_living\"])\n",
    "X_sqft_log.drop(['sqft_living'], axis=1, inplace=True)\n"
   ]
  },
  {
   "cell_type": "code",
   "execution_count": 34,
   "metadata": {},
   "outputs": [
    {
     "data": {
      "text/html": [
       "<table class=\"simpletable\">\n",
       "<caption>OLS Regression Results</caption>\n",
       "<tr>\n",
       "  <th>Dep. Variable:</th>          <td>price</td>      <th>  R-squared:         </th>  <td>   0.317</td>  \n",
       "</tr>\n",
       "<tr>\n",
       "  <th>Model:</th>                   <td>OLS</td>       <th>  Adj. R-squared:    </th>  <td>   0.317</td>  \n",
       "</tr>\n",
       "<tr>\n",
       "  <th>Method:</th>             <td>Least Squares</td>  <th>  F-statistic:       </th>  <td>   6775.</td>  \n",
       "</tr>\n",
       "<tr>\n",
       "  <th>Date:</th>             <td>Tue, 21 Feb 2023</td> <th>  Prob (F-statistic):</th>   <td>  0.00</td>   \n",
       "</tr>\n",
       "<tr>\n",
       "  <th>Time:</th>                 <td>12:53:29</td>     <th>  Log-Likelihood:    </th> <td>-4.3606e+05</td>\n",
       "</tr>\n",
       "<tr>\n",
       "  <th>No. Observations:</th>      <td> 29200</td>      <th>  AIC:               </th>  <td>8.721e+05</td> \n",
       "</tr>\n",
       "<tr>\n",
       "  <th>Df Residuals:</th>          <td> 29197</td>      <th>  BIC:               </th>  <td>8.721e+05</td> \n",
       "</tr>\n",
       "<tr>\n",
       "  <th>Df Model:</th>              <td>     2</td>      <th>                     </th>      <td> </td>     \n",
       "</tr>\n",
       "<tr>\n",
       "  <th>Covariance Type:</th>      <td>nonrobust</td>    <th>                     </th>      <td> </td>     \n",
       "</tr>\n",
       "</table>\n",
       "<table class=\"simpletable\">\n",
       "<tr>\n",
       "          <td></td>            <th>coef</th>     <th>std err</th>      <th>t</th>      <th>P>|t|</th>  <th>[0.025</th>    <th>0.975]</th>  \n",
       "</tr>\n",
       "<tr>\n",
       "  <th>const</th>            <td>-6.718e+06</td> <td> 7.42e+04</td> <td>  -90.532</td> <td> 0.000</td> <td>-6.86e+06</td> <td>-6.57e+06</td>\n",
       "</tr>\n",
       "<tr>\n",
       "  <th>waterfront_YES</th>   <td>  1.46e+06</td> <td> 3.32e+04</td> <td>   44.024</td> <td> 0.000</td> <td>  1.4e+06</td> <td> 1.53e+06</td>\n",
       "</tr>\n",
       "<tr>\n",
       "  <th>log(sqft_living)</th> <td> 1.031e+06</td> <td> 9792.074</td> <td>  105.328</td> <td> 0.000</td> <td> 1.01e+06</td> <td> 1.05e+06</td>\n",
       "</tr>\n",
       "</table>\n",
       "<table class=\"simpletable\">\n",
       "<tr>\n",
       "  <th>Omnibus:</th>       <td>39250.251</td> <th>  Durbin-Watson:     </th>   <td>   1.941</td>  \n",
       "</tr>\n",
       "<tr>\n",
       "  <th>Prob(Omnibus):</th>  <td> 0.000</td>   <th>  Jarque-Bera (JB):  </th> <td>29029413.101</td>\n",
       "</tr>\n",
       "<tr>\n",
       "  <th>Skew:</th>           <td> 7.238</td>   <th>  Prob(JB):          </th>   <td>    0.00</td>  \n",
       "</tr>\n",
       "<tr>\n",
       "  <th>Kurtosis:</th>       <td>156.786</td>  <th>  Cond. No.          </th>   <td>    132.</td>  \n",
       "</tr>\n",
       "</table><br/><br/>Notes:<br/>[1] Standard Errors assume that the covariance matrix of the errors is correctly specified."
      ],
      "text/plain": [
       "<class 'statsmodels.iolib.summary.Summary'>\n",
       "\"\"\"\n",
       "                            OLS Regression Results                            \n",
       "==============================================================================\n",
       "Dep. Variable:                  price   R-squared:                       0.317\n",
       "Model:                            OLS   Adj. R-squared:                  0.317\n",
       "Method:                 Least Squares   F-statistic:                     6775.\n",
       "Date:                Tue, 21 Feb 2023   Prob (F-statistic):               0.00\n",
       "Time:                        12:53:29   Log-Likelihood:            -4.3606e+05\n",
       "No. Observations:               29200   AIC:                         8.721e+05\n",
       "Df Residuals:                   29197   BIC:                         8.721e+05\n",
       "Df Model:                           2                                         \n",
       "Covariance Type:            nonrobust                                         \n",
       "====================================================================================\n",
       "                       coef    std err          t      P>|t|      [0.025      0.975]\n",
       "------------------------------------------------------------------------------------\n",
       "const            -6.718e+06   7.42e+04    -90.532      0.000   -6.86e+06   -6.57e+06\n",
       "waterfront_YES     1.46e+06   3.32e+04     44.024      0.000     1.4e+06    1.53e+06\n",
       "log(sqft_living)  1.031e+06   9792.074    105.328      0.000    1.01e+06    1.05e+06\n",
       "==============================================================================\n",
       "Omnibus:                    39250.251   Durbin-Watson:                   1.941\n",
       "Prob(Omnibus):                  0.000   Jarque-Bera (JB):         29029413.101\n",
       "Skew:                           7.238   Prob(JB):                         0.00\n",
       "Kurtosis:                     156.786   Cond. No.                         132.\n",
       "==============================================================================\n",
       "\n",
       "Notes:\n",
       "[1] Standard Errors assume that the covariance matrix of the errors is correctly specified.\n",
       "\"\"\""
      ]
     },
     "execution_count": 34,
     "metadata": {},
     "output_type": "execute_result"
    }
   ],
   "source": [
    "y_log = y_raw\n",
    "X_log_model = sm.OLS(y_log, sm.add_constant(X_sqft_log))\n",
    "X_log_results = X_log_model.fit()\n",
    "X_log_results.summary()"
   ]
  },
  {
   "cell_type": "code",
   "execution_count": 95,
   "metadata": {},
   "outputs": [
    {
     "data": {
      "text/plain": [
       "Text(0.5, 0, 'log(sqft_living)')"
      ]
     },
     "execution_count": 95,
     "metadata": {},
     "output_type": "execute_result"
    },
    {
     "data": {
      "image/png": "[encoded data removed]",
      "text/plain": [
       "<Figure size 504x216 with 2 Axes>"
      ]
     },
     "metadata": {},
     "output_type": "display_data"
    }
   ],
   "source": [
    "# did our log model normalize the distribution of our 'sqft_living' data? \n",
    "fig, (ax1, ax2) = plt.subplots(ncols=2, figsize=(7,3))\n",
    "ax1.hist(X_raw[\"sqft_living\"])\n",
    "ax1.set_xlabel(\"sqft_living\")\n",
    "ax2.hist(X_sqft_log[\"log(sqft_living)\"], color=\"orange\")\n",
    "ax2.set_xlabel(\"log(sqft_living)\")"
   ]
  },
  {
   "cell_type": "markdown",
   "metadata": {},
   "source": [
    "Although the frequency of values in the distribution of 'sqft_living' is not perfectly bull curve shaped, we can see that the clustering of data to the left of our untranformed histogram has been ditributed way more evenly around our peak, demonstrating that our log transformation has helped to make our data more suitable for modeling.  Because that was the goal of this model, we won't look to closely at the model results until we center our data to improve interpretability.  But with such low adjusted r-squared values, this model doesnt look very good.  For the next model we'll replace 'waterfront' with 'zip' and see how that works with the log transformed 'sqft_living'"
   ]
  },
  {
   "cell_type": "markdown",
   "metadata": {},
   "source": [
    "### 3rd Model:  Centering Data to Improve Intercept Interpretability "
   ]
  },
  {
   "cell_type": "markdown",
   "metadata": {},
   "source": []
  },
  {
   "cell_type": "code",
   "execution_count": 35,
   "metadata": {},
   "outputs": [],
   "source": [
    "y_zips = df_kc[\"price\"]\n",
    "X_zips = df_kc[['sqft_living', 'zip']]\n",
    "X_zips = pd.get_dummies(X_zips, columns=[\"zip\"])\n",
    "X_zips.drop(['zip_98116'], axis=1, inplace=True)"
   ]
  },
  {
   "cell_type": "code",
   "execution_count": 36,
   "metadata": {},
   "outputs": [],
   "source": [
    "X_zips[\"log(sqft_living)\"] = np.log(X_zips[\"sqft_living\"])\n",
    "X_zips.drop(['sqft_living'], axis=1, inplace=True)"
   ]
  },
  {
   "cell_type": "code",
   "execution_count": 37,
   "metadata": {},
   "outputs": [
    {
     "data": {
      "text/html": [
       "<div>\n",
       "<style scoped>\n",
       "    .dataframe tbody tr th:only-of-type {\n",
       "        vertical-align: middle;\n",
       "    }\n",
       "\n",
       "    .dataframe tbody tr th {\n",
       "        vertical-align: top;\n",
       "    }\n",
       "\n",
       "    .dataframe thead th {\n",
       "        text-align: right;\n",
       "    }\n",
       "</style>\n",
       "<table border=\"1\" class=\"dataframe\">\n",
       "  <thead>\n",
       "    <tr style=\"text-align: right;\">\n",
       "      <th></th>\n",
       "      <th>zip_98001</th>\n",
       "      <th>zip_98002</th>\n",
       "      <th>zip_98003</th>\n",
       "      <th>zip_98004</th>\n",
       "      <th>zip_98005</th>\n",
       "      <th>zip_98006</th>\n",
       "      <th>zip_98007</th>\n",
       "      <th>zip_98008</th>\n",
       "      <th>zip_98010</th>\n",
       "      <th>zip_98011</th>\n",
       "      <th>...</th>\n",
       "      <th>zip_98272</th>\n",
       "      <th>zip_98288</th>\n",
       "      <th>zip_98296</th>\n",
       "      <th>zip_98338</th>\n",
       "      <th>zip_98354</th>\n",
       "      <th>zip_98372</th>\n",
       "      <th>zip_98387</th>\n",
       "      <th>zip_98422</th>\n",
       "      <th>zip_98663</th>\n",
       "      <th>log(sqft_living)</th>\n",
       "    </tr>\n",
       "  </thead>\n",
       "  <tbody>\n",
       "    <tr>\n",
       "      <th>count</th>\n",
       "      <td>2.920000e+04</td>\n",
       "      <td>2.920000e+04</td>\n",
       "      <td>2.920000e+04</td>\n",
       "      <td>2.920000e+04</td>\n",
       "      <td>2.920000e+04</td>\n",
       "      <td>2.920000e+04</td>\n",
       "      <td>2.920000e+04</td>\n",
       "      <td>2.920000e+04</td>\n",
       "      <td>2.920000e+04</td>\n",
       "      <td>2.920000e+04</td>\n",
       "      <td>...</td>\n",
       "      <td>2.920000e+04</td>\n",
       "      <td>2.920000e+04</td>\n",
       "      <td>2.920000e+04</td>\n",
       "      <td>2.920000e+04</td>\n",
       "      <td>2.920000e+04</td>\n",
       "      <td>2.920000e+04</td>\n",
       "      <td>2.920000e+04</td>\n",
       "      <td>2.920000e+04</td>\n",
       "      <td>29200.000000</td>\n",
       "      <td>2.920000e+04</td>\n",
       "    </tr>\n",
       "    <tr>\n",
       "      <th>mean</th>\n",
       "      <td>1.551271e-18</td>\n",
       "      <td>1.125432e-18</td>\n",
       "      <td>4.319224e-18</td>\n",
       "      <td>-3.315461e-18</td>\n",
       "      <td>-2.433366e-19</td>\n",
       "      <td>-4.562560e-18</td>\n",
       "      <td>-1.095014e-18</td>\n",
       "      <td>2.798370e-18</td>\n",
       "      <td>-3.893385e-18</td>\n",
       "      <td>7.300097e-19</td>\n",
       "      <td>...</td>\n",
       "      <td>-2.281280e-20</td>\n",
       "      <td>1.102619e-19</td>\n",
       "      <td>1.901067e-21</td>\n",
       "      <td>7.604267e-21</td>\n",
       "      <td>-5.322987e-20</td>\n",
       "      <td>3.802134e-21</td>\n",
       "      <td>-1.901067e-21</td>\n",
       "      <td>1.901067e-21</td>\n",
       "      <td>0.000000</td>\n",
       "      <td>-4.161055e-17</td>\n",
       "    </tr>\n",
       "    <tr>\n",
       "      <th>std</th>\n",
       "      <td>1.445030e-01</td>\n",
       "      <td>1.108034e-01</td>\n",
       "      <td>1.218275e-01</td>\n",
       "      <td>1.044326e-01</td>\n",
       "      <td>7.783918e-02</td>\n",
       "      <td>1.330030e-01</td>\n",
       "      <td>7.243161e-02</td>\n",
       "      <td>1.158080e-01</td>\n",
       "      <td>1.031414e-01</td>\n",
       "      <td>9.412101e-02</td>\n",
       "      <td>...</td>\n",
       "      <td>1.433333e-02</td>\n",
       "      <td>2.340222e-02</td>\n",
       "      <td>5.852057e-03</td>\n",
       "      <td>8.275917e-03</td>\n",
       "      <td>2.805491e-02</td>\n",
       "      <td>8.275917e-03</td>\n",
       "      <td>5.852057e-03</td>\n",
       "      <td>5.852057e-03</td>\n",
       "      <td>0.008276</td>\n",
       "      <td>4.428955e-01</td>\n",
       "    </tr>\n",
       "    <tr>\n",
       "      <th>min</th>\n",
       "      <td>-2.133562e-02</td>\n",
       "      <td>-1.243151e-02</td>\n",
       "      <td>-1.506849e-02</td>\n",
       "      <td>-1.102740e-02</td>\n",
       "      <td>-6.095890e-03</td>\n",
       "      <td>-1.801370e-02</td>\n",
       "      <td>-5.273973e-03</td>\n",
       "      <td>-1.359589e-02</td>\n",
       "      <td>-1.075342e-02</td>\n",
       "      <td>-8.938356e-03</td>\n",
       "      <td>...</td>\n",
       "      <td>-2.054795e-04</td>\n",
       "      <td>-5.479452e-04</td>\n",
       "      <td>-3.424658e-05</td>\n",
       "      <td>-6.849315e-05</td>\n",
       "      <td>-7.876712e-04</td>\n",
       "      <td>-6.849315e-05</td>\n",
       "      <td>-3.424658e-05</td>\n",
       "      <td>-3.424658e-05</td>\n",
       "      <td>-0.000068</td>\n",
       "      <td>-6.469572e+00</td>\n",
       "    </tr>\n",
       "    <tr>\n",
       "      <th>25%</th>\n",
       "      <td>-2.133562e-02</td>\n",
       "      <td>-1.243151e-02</td>\n",
       "      <td>-1.506849e-02</td>\n",
       "      <td>-1.102740e-02</td>\n",
       "      <td>-6.095890e-03</td>\n",
       "      <td>-1.801370e-02</td>\n",
       "      <td>-5.273973e-03</td>\n",
       "      <td>-1.359589e-02</td>\n",
       "      <td>-1.075342e-02</td>\n",
       "      <td>-8.938356e-03</td>\n",
       "      <td>...</td>\n",
       "      <td>-2.054795e-04</td>\n",
       "      <td>-5.479452e-04</td>\n",
       "      <td>-3.424658e-05</td>\n",
       "      <td>-6.849315e-05</td>\n",
       "      <td>-7.876712e-04</td>\n",
       "      <td>-6.849315e-05</td>\n",
       "      <td>-3.424658e-05</td>\n",
       "      <td>-3.424658e-05</td>\n",
       "      <td>-0.000068</td>\n",
       "      <td>-2.957863e-01</td>\n",
       "    </tr>\n",
       "    <tr>\n",
       "      <th>50%</th>\n",
       "      <td>-2.133562e-02</td>\n",
       "      <td>-1.243151e-02</td>\n",
       "      <td>-1.506849e-02</td>\n",
       "      <td>-1.102740e-02</td>\n",
       "      <td>-6.095890e-03</td>\n",
       "      <td>-1.801370e-02</td>\n",
       "      <td>-5.273973e-03</td>\n",
       "      <td>-1.359589e-02</td>\n",
       "      <td>-1.075342e-02</td>\n",
       "      <td>-8.938356e-03</td>\n",
       "      <td>...</td>\n",
       "      <td>-2.054795e-04</td>\n",
       "      <td>-5.479452e-04</td>\n",
       "      <td>-3.424658e-05</td>\n",
       "      <td>-6.849315e-05</td>\n",
       "      <td>-7.876712e-04</td>\n",
       "      <td>-6.849315e-05</td>\n",
       "      <td>-3.424658e-05</td>\n",
       "      <td>-3.424658e-05</td>\n",
       "      <td>-0.000068</td>\n",
       "      <td>2.258525e-03</td>\n",
       "    </tr>\n",
       "    <tr>\n",
       "      <th>75%</th>\n",
       "      <td>-2.133562e-02</td>\n",
       "      <td>-1.243151e-02</td>\n",
       "      <td>-1.506849e-02</td>\n",
       "      <td>-1.102740e-02</td>\n",
       "      <td>-6.095890e-03</td>\n",
       "      <td>-1.801370e-02</td>\n",
       "      <td>-5.273973e-03</td>\n",
       "      <td>-1.359589e-02</td>\n",
       "      <td>-1.075342e-02</td>\n",
       "      <td>-8.938356e-03</td>\n",
       "      <td>...</td>\n",
       "      <td>-2.054795e-04</td>\n",
       "      <td>-5.479452e-04</td>\n",
       "      <td>-3.424658e-05</td>\n",
       "      <td>-6.849315e-05</td>\n",
       "      <td>-7.876712e-04</td>\n",
       "      <td>-6.849315e-05</td>\n",
       "      <td>-3.424658e-05</td>\n",
       "      <td>-3.424658e-05</td>\n",
       "      <td>-0.000068</td>\n",
       "      <td>3.103495e-01</td>\n",
       "    </tr>\n",
       "    <tr>\n",
       "      <th>max</th>\n",
       "      <td>9.786644e-01</td>\n",
       "      <td>9.875685e-01</td>\n",
       "      <td>9.849315e-01</td>\n",
       "      <td>9.889726e-01</td>\n",
       "      <td>9.939041e-01</td>\n",
       "      <td>9.819863e-01</td>\n",
       "      <td>9.947260e-01</td>\n",
       "      <td>9.864041e-01</td>\n",
       "      <td>9.892466e-01</td>\n",
       "      <td>9.910616e-01</td>\n",
       "      <td>...</td>\n",
       "      <td>9.997945e-01</td>\n",
       "      <td>9.994521e-01</td>\n",
       "      <td>9.999658e-01</td>\n",
       "      <td>9.999315e-01</td>\n",
       "      <td>9.992123e-01</td>\n",
       "      <td>9.999315e-01</td>\n",
       "      <td>9.999658e-01</td>\n",
       "      <td>9.999658e-01</td>\n",
       "      <td>0.999932</td>\n",
       "      <td>2.071337e+00</td>\n",
       "    </tr>\n",
       "  </tbody>\n",
       "</table>\n",
       "<p>8 rows × 88 columns</p>\n",
       "</div>"
      ],
      "text/plain": [
       "          zip_98001     zip_98002     zip_98003     zip_98004     zip_98005  \\\n",
       "count  2.920000e+04  2.920000e+04  2.920000e+04  2.920000e+04  2.920000e+04   \n",
       "mean   1.551271e-18  1.125432e-18  4.319224e-18 -3.315461e-18 -2.433366e-19   \n",
       "std    1.445030e-01  1.108034e-01  1.218275e-01  1.044326e-01  7.783918e-02   \n",
       "min   -2.133562e-02 -1.243151e-02 -1.506849e-02 -1.102740e-02 -6.095890e-03   \n",
       "25%   -2.133562e-02 -1.243151e-02 -1.506849e-02 -1.102740e-02 -6.095890e-03   \n",
       "50%   -2.133562e-02 -1.243151e-02 -1.506849e-02 -1.102740e-02 -6.095890e-03   \n",
       "75%   -2.133562e-02 -1.243151e-02 -1.506849e-02 -1.102740e-02 -6.095890e-03   \n",
       "max    9.786644e-01  9.875685e-01  9.849315e-01  9.889726e-01  9.939041e-01   \n",
       "\n",
       "          zip_98006     zip_98007     zip_98008     zip_98010     zip_98011  \\\n",
       "count  2.920000e+04  2.920000e+04  2.920000e+04  2.920000e+04  2.920000e+04   \n",
       "mean  -4.562560e-18 -1.095014e-18  2.798370e-18 -3.893385e-18  7.300097e-19   \n",
       "std    1.330030e-01  7.243161e-02  1.158080e-01  1.031414e-01  9.412101e-02   \n",
       "min   -1.801370e-02 -5.273973e-03 -1.359589e-02 -1.075342e-02 -8.938356e-03   \n",
       "25%   -1.801370e-02 -5.273973e-03 -1.359589e-02 -1.075342e-02 -8.938356e-03   \n",
       "50%   -1.801370e-02 -5.273973e-03 -1.359589e-02 -1.075342e-02 -8.938356e-03   \n",
       "75%   -1.801370e-02 -5.273973e-03 -1.359589e-02 -1.075342e-02 -8.938356e-03   \n",
       "max    9.819863e-01  9.947260e-01  9.864041e-01  9.892466e-01  9.910616e-01   \n",
       "\n",
       "       ...     zip_98272     zip_98288     zip_98296     zip_98338  \\\n",
       "count  ...  2.920000e+04  2.920000e+04  2.920000e+04  2.920000e+04   \n",
       "mean   ... -2.281280e-20  1.102619e-19  1.901067e-21  7.604267e-21   \n",
       "std    ...  1.433333e-02  2.340222e-02  5.852057e-03  8.275917e-03   \n",
       "min    ... -2.054795e-04 -5.479452e-04 -3.424658e-05 -6.849315e-05   \n",
       "25%    ... -2.054795e-04 -5.479452e-04 -3.424658e-05 -6.849315e-05   \n",
       "50%    ... -2.054795e-04 -5.479452e-04 -3.424658e-05 -6.849315e-05   \n",
       "75%    ... -2.054795e-04 -5.479452e-04 -3.424658e-05 -6.849315e-05   \n",
       "max    ...  9.997945e-01  9.994521e-01  9.999658e-01  9.999315e-01   \n",
       "\n",
       "          zip_98354     zip_98372     zip_98387     zip_98422     zip_98663  \\\n",
       "count  2.920000e+04  2.920000e+04  2.920000e+04  2.920000e+04  29200.000000   \n",
       "mean  -5.322987e-20  3.802134e-21 -1.901067e-21  1.901067e-21      0.000000   \n",
       "std    2.805491e-02  8.275917e-03  5.852057e-03  5.852057e-03      0.008276   \n",
       "min   -7.876712e-04 -6.849315e-05 -3.424658e-05 -3.424658e-05     -0.000068   \n",
       "25%   -7.876712e-04 -6.849315e-05 -3.424658e-05 -3.424658e-05     -0.000068   \n",
       "50%   -7.876712e-04 -6.849315e-05 -3.424658e-05 -3.424658e-05     -0.000068   \n",
       "75%   -7.876712e-04 -6.849315e-05 -3.424658e-05 -3.424658e-05     -0.000068   \n",
       "max    9.992123e-01  9.999315e-01  9.999658e-01  9.999658e-01      0.999932   \n",
       "\n",
       "       log(sqft_living)  \n",
       "count      2.920000e+04  \n",
       "mean      -4.161055e-17  \n",
       "std        4.428955e-01  \n",
       "min       -6.469572e+00  \n",
       "25%       -2.957863e-01  \n",
       "50%        2.258525e-03  \n",
       "75%        3.103495e-01  \n",
       "max        2.071337e+00  \n",
       "\n",
       "[8 rows x 88 columns]"
      ]
     },
     "execution_count": 37,
     "metadata": {},
     "output_type": "execute_result"
    }
   ],
   "source": [
    "\n",
    "X_centered = X_zips.copy()\n",
    "\n",
    "for col in X_centered.columns:\n",
    "    X_centered[col] = X_centered[col] - X_centered[col].mean()\n",
    "    \n",
    "X_centered.describe()"
   ]
  },
  {
   "cell_type": "code",
   "execution_count": 51,
   "metadata": {
    "scrolled": false
   },
   "outputs": [
    {
     "data": {
      "text/html": [
       "<table class=\"simpletable\">\n",
       "<caption>OLS Regression Results</caption>\n",
       "<tr>\n",
       "  <th>Dep. Variable:</th>          <td>price</td>      <th>  R-squared:         </th>  <td>   0.523</td>  \n",
       "</tr>\n",
       "<tr>\n",
       "  <th>Model:</th>                   <td>OLS</td>       <th>  Adj. R-squared:    </th>  <td>   0.522</td>  \n",
       "</tr>\n",
       "<tr>\n",
       "  <th>Method:</th>             <td>Least Squares</td>  <th>  F-statistic:       </th>  <td>   362.7</td>  \n",
       "</tr>\n",
       "<tr>\n",
       "  <th>Date:</th>             <td>Tue, 21 Feb 2023</td> <th>  Prob (F-statistic):</th>   <td>  0.00</td>   \n",
       "</tr>\n",
       "<tr>\n",
       "  <th>Time:</th>                 <td>15:17:14</td>     <th>  Log-Likelihood:    </th> <td>-4.3081e+05</td>\n",
       "</tr>\n",
       "<tr>\n",
       "  <th>No. Observations:</th>      <td> 29200</td>      <th>  AIC:               </th>  <td>8.618e+05</td> \n",
       "</tr>\n",
       "<tr>\n",
       "  <th>Df Residuals:</th>          <td> 29111</td>      <th>  BIC:               </th>  <td>8.625e+05</td> \n",
       "</tr>\n",
       "<tr>\n",
       "  <th>Df Model:</th>              <td>    88</td>      <th>                     </th>      <td> </td>     \n",
       "</tr>\n",
       "<tr>\n",
       "  <th>Covariance Type:</th>      <td>nonrobust</td>    <th>                     </th>      <td> </td>     \n",
       "</tr>\n",
       "</table>\n",
       "<table class=\"simpletable\">\n",
       "<tr>\n",
       "          <td></td>            <th>coef</th>     <th>std err</th>      <th>t</th>      <th>P>|t|</th>  <th>[0.025</th>    <th>0.975]</th>  \n",
       "</tr>\n",
       "<tr>\n",
       "  <th>const</th>            <td> 1.113e+06</td> <td> 3624.632</td> <td>  307.068</td> <td> 0.000</td> <td> 1.11e+06</td> <td> 1.12e+06</td>\n",
       "</tr>\n",
       "<tr>\n",
       "  <th>zip_98001</th>        <td>-5.938e+05</td> <td> 4.01e+04</td> <td>  -14.808</td> <td> 0.000</td> <td>-6.72e+05</td> <td>-5.15e+05</td>\n",
       "</tr>\n",
       "<tr>\n",
       "  <th>zip_98002</th>        <td>-5.079e+05</td> <td> 4.53e+04</td> <td>  -11.216</td> <td> 0.000</td> <td>-5.97e+05</td> <td>-4.19e+05</td>\n",
       "</tr>\n",
       "<tr>\n",
       "  <th>zip_98003</th>        <td>-5.563e+05</td> <td> 4.32e+04</td> <td>  -12.887</td> <td> 0.000</td> <td>-6.41e+05</td> <td>-4.72e+05</td>\n",
       "</tr>\n",
       "<tr>\n",
       "  <th>zip_98004</th>        <td> 2.099e+06</td> <td>  4.7e+04</td> <td>   44.654</td> <td> 0.000</td> <td> 2.01e+06</td> <td> 2.19e+06</td>\n",
       "</tr>\n",
       "<tr>\n",
       "  <th>zip_98005</th>        <td> 6.637e+05</td> <td> 5.62e+04</td> <td>   11.802</td> <td> 0.000</td> <td> 5.54e+05</td> <td> 7.74e+05</td>\n",
       "</tr>\n",
       "<tr>\n",
       "  <th>zip_98006</th>        <td> 3.818e+05</td> <td> 4.17e+04</td> <td>    9.164</td> <td> 0.000</td> <td>    3e+05</td> <td> 4.63e+05</td>\n",
       "</tr>\n",
       "<tr>\n",
       "  <th>zip_98007</th>        <td> 1.288e+05</td> <td>  5.9e+04</td> <td>    2.182</td> <td> 0.029</td> <td> 1.31e+04</td> <td> 2.45e+05</td>\n",
       "</tr>\n",
       "<tr>\n",
       "  <th>zip_98008</th>        <td> 2.762e+05</td> <td> 4.43e+04</td> <td>    6.239</td> <td> 0.000</td> <td> 1.89e+05</td> <td> 3.63e+05</td>\n",
       "</tr>\n",
       "<tr>\n",
       "  <th>zip_98010</th>        <td>-5.835e+05</td> <td> 4.71e+04</td> <td>  -12.376</td> <td> 0.000</td> <td>-6.76e+05</td> <td>-4.91e+05</td>\n",
       "</tr>\n",
       "<tr>\n",
       "  <th>zip_98011</th>        <td>-1.344e+05</td> <td> 4.97e+04</td> <td>   -2.706</td> <td> 0.007</td> <td>-2.32e+05</td> <td> -3.7e+04</td>\n",
       "</tr>\n",
       "<tr>\n",
       "  <th>zip_98014</th>        <td>-2.903e+05</td> <td> 5.88e+04</td> <td>   -4.941</td> <td> 0.000</td> <td>-4.06e+05</td> <td>-1.75e+05</td>\n",
       "</tr>\n",
       "<tr>\n",
       "  <th>zip_98019</th>        <td>-3.355e+05</td> <td> 5.06e+04</td> <td>   -6.629</td> <td> 0.000</td> <td>-4.35e+05</td> <td>-2.36e+05</td>\n",
       "</tr>\n",
       "<tr>\n",
       "  <th>zip_98022</th>        <td> -5.09e+05</td> <td> 4.28e+04</td> <td>  -11.896</td> <td> 0.000</td> <td>-5.93e+05</td> <td>-4.25e+05</td>\n",
       "</tr>\n",
       "<tr>\n",
       "  <th>zip_98023</th>        <td>-5.951e+05</td> <td> 3.93e+04</td> <td>  -15.143</td> <td> 0.000</td> <td>-6.72e+05</td> <td>-5.18e+05</td>\n",
       "</tr>\n",
       "<tr>\n",
       "  <th>zip_98024</th>        <td> 1.744e+05</td> <td> 6.61e+04</td> <td>    2.641</td> <td> 0.008</td> <td>  4.5e+04</td> <td> 3.04e+05</td>\n",
       "</tr>\n",
       "<tr>\n",
       "  <th>zip_98027</th>        <td>-1.687e+04</td> <td> 4.48e+04</td> <td>   -0.377</td> <td> 0.706</td> <td>-1.05e+05</td> <td> 7.09e+04</td>\n",
       "</tr>\n",
       "<tr>\n",
       "  <th>zip_98028</th>        <td>-2.235e+05</td> <td> 4.58e+04</td> <td>   -4.884</td> <td> 0.000</td> <td>-3.13e+05</td> <td>-1.34e+05</td>\n",
       "</tr>\n",
       "<tr>\n",
       "  <th>zip_98029</th>        <td> 1.548e+05</td> <td> 4.69e+04</td> <td>    3.304</td> <td> 0.001</td> <td>  6.3e+04</td> <td> 2.47e+05</td>\n",
       "</tr>\n",
       "<tr>\n",
       "  <th>zip_98030</th>        <td>-5.925e+05</td> <td> 4.48e+04</td> <td>  -13.216</td> <td> 0.000</td> <td> -6.8e+05</td> <td>-5.05e+05</td>\n",
       "</tr>\n",
       "<tr>\n",
       "  <th>zip_98031</th>        <td>-5.668e+05</td> <td> 4.14e+04</td> <td>  -13.684</td> <td> 0.000</td> <td>-6.48e+05</td> <td>-4.86e+05</td>\n",
       "</tr>\n",
       "<tr>\n",
       "  <th>zip_98032</th>        <td>-4.972e+05</td> <td> 5.55e+04</td> <td>   -8.963</td> <td> 0.000</td> <td>-6.06e+05</td> <td>-3.88e+05</td>\n",
       "</tr>\n",
       "<tr>\n",
       "  <th>zip_98033</th>        <td>   6.6e+05</td> <td> 4.04e+04</td> <td>   16.351</td> <td> 0.000</td> <td> 5.81e+05</td> <td> 7.39e+05</td>\n",
       "</tr>\n",
       "<tr>\n",
       "  <th>zip_98034</th>        <td> 5.091e+04</td> <td> 3.94e+04</td> <td>    1.293</td> <td> 0.196</td> <td>-2.62e+04</td> <td> 1.28e+05</td>\n",
       "</tr>\n",
       "<tr>\n",
       "  <th>zip_98038</th>        <td>-4.858e+05</td> <td>  3.8e+04</td> <td>  -12.792</td> <td> 0.000</td> <td> -5.6e+05</td> <td>-4.11e+05</td>\n",
       "</tr>\n",
       "<tr>\n",
       "  <th>zip_98039</th>        <td> 3.693e+06</td> <td> 8.67e+04</td> <td>   42.578</td> <td> 0.000</td> <td> 3.52e+06</td> <td> 3.86e+06</td>\n",
       "</tr>\n",
       "<tr>\n",
       "  <th>zip_98040</th>        <td>  1.15e+06</td> <td>  4.6e+04</td> <td>   24.982</td> <td> 0.000</td> <td> 1.06e+06</td> <td> 1.24e+06</td>\n",
       "</tr>\n",
       "<tr>\n",
       "  <th>zip_98042</th>        <td>-5.799e+05</td> <td> 3.71e+04</td> <td>  -15.611</td> <td> 0.000</td> <td>-6.53e+05</td> <td>-5.07e+05</td>\n",
       "</tr>\n",
       "<tr>\n",
       "  <th>zip_98045</th>        <td>-2.932e+05</td> <td> 4.27e+04</td> <td>   -6.871</td> <td> 0.000</td> <td>-3.77e+05</td> <td> -2.1e+05</td>\n",
       "</tr>\n",
       "<tr>\n",
       "  <th>zip_98047</th>        <td>-5.463e+05</td> <td> 7.73e+04</td> <td>   -7.068</td> <td> 0.000</td> <td>-6.98e+05</td> <td>-3.95e+05</td>\n",
       "</tr>\n",
       "<tr>\n",
       "  <th>zip_98050</th>        <td> 1.644e+05</td> <td> 4.39e+05</td> <td>    0.374</td> <td> 0.708</td> <td>-6.96e+05</td> <td> 1.03e+06</td>\n",
       "</tr>\n",
       "<tr>\n",
       "  <th>zip_98051</th>        <td> -3.77e+05</td> <td> 8.25e+04</td> <td>   -4.568</td> <td> 0.000</td> <td>-5.39e+05</td> <td>-2.15e+05</td>\n",
       "</tr>\n",
       "<tr>\n",
       "  <th>zip_98052</th>        <td> 2.192e+05</td> <td> 4.09e+04</td> <td>    5.361</td> <td> 0.000</td> <td> 1.39e+05</td> <td> 2.99e+05</td>\n",
       "</tr>\n",
       "<tr>\n",
       "  <th>zip_98053</th>        <td> 1.424e+05</td> <td> 4.45e+04</td> <td>    3.202</td> <td> 0.001</td> <td> 5.52e+04</td> <td>  2.3e+05</td>\n",
       "</tr>\n",
       "<tr>\n",
       "  <th>zip_98055</th>        <td>-5.258e+05</td> <td> 5.25e+04</td> <td>  -10.024</td> <td> 0.000</td> <td>-6.29e+05</td> <td>-4.23e+05</td>\n",
       "</tr>\n",
       "<tr>\n",
       "  <th>zip_98056</th>        <td>-2.195e+05</td> <td> 4.16e+04</td> <td>   -5.277</td> <td> 0.000</td> <td>-3.01e+05</td> <td>-1.38e+05</td>\n",
       "</tr>\n",
       "<tr>\n",
       "  <th>zip_98057</th>        <td>-3.718e+05</td> <td> 6.34e+04</td> <td>   -5.869</td> <td> 0.000</td> <td>-4.96e+05</td> <td>-2.48e+05</td>\n",
       "</tr>\n",
       "<tr>\n",
       "  <th>zip_98058</th>        <td>-4.958e+05</td> <td> 3.94e+04</td> <td>  -12.571</td> <td> 0.000</td> <td>-5.73e+05</td> <td>-4.19e+05</td>\n",
       "</tr>\n",
       "<tr>\n",
       "  <th>zip_98059</th>        <td>-2.661e+05</td> <td> 4.07e+04</td> <td>   -6.544</td> <td> 0.000</td> <td>-3.46e+05</td> <td>-1.86e+05</td>\n",
       "</tr>\n",
       "<tr>\n",
       "  <th>zip_98065</th>        <td> -1.84e+05</td> <td> 4.81e+04</td> <td>   -3.828</td> <td> 0.000</td> <td>-2.78e+05</td> <td>-8.98e+04</td>\n",
       "</tr>\n",
       "<tr>\n",
       "  <th>zip_98070</th>        <td>-1.071e+05</td> <td> 5.48e+04</td> <td>   -1.956</td> <td> 0.050</td> <td>-2.15e+05</td> <td>  206.502</td>\n",
       "</tr>\n",
       "<tr>\n",
       "  <th>zip_98072</th>        <td> 7.902e+04</td> <td>  4.6e+04</td> <td>    1.717</td> <td> 0.086</td> <td>-1.12e+04</td> <td> 1.69e+05</td>\n",
       "</tr>\n",
       "<tr>\n",
       "  <th>zip_98074</th>        <td> 2.364e+05</td> <td> 4.36e+04</td> <td>    5.418</td> <td> 0.000</td> <td> 1.51e+05</td> <td> 3.22e+05</td>\n",
       "</tr>\n",
       "<tr>\n",
       "  <th>zip_98075</th>        <td> 2.994e+05</td> <td> 4.42e+04</td> <td>    6.777</td> <td> 0.000</td> <td> 2.13e+05</td> <td> 3.86e+05</td>\n",
       "</tr>\n",
       "<tr>\n",
       "  <th>zip_98077</th>        <td> 1.204e+05</td> <td> 5.07e+04</td> <td>    2.375</td> <td> 0.018</td> <td>  2.1e+04</td> <td>  2.2e+05</td>\n",
       "</tr>\n",
       "<tr>\n",
       "  <th>zip_98092</th>        <td>-6.089e+05</td> <td> 4.03e+04</td> <td>  -15.100</td> <td> 0.000</td> <td>-6.88e+05</td> <td> -5.3e+05</td>\n",
       "</tr>\n",
       "<tr>\n",
       "  <th>zip_98102</th>        <td> 2.739e+05</td> <td> 6.05e+04</td> <td>    4.528</td> <td> 0.000</td> <td> 1.55e+05</td> <td> 3.92e+05</td>\n",
       "</tr>\n",
       "<tr>\n",
       "  <th>zip_98103</th>        <td> 3.835e+04</td> <td> 3.87e+04</td> <td>    0.991</td> <td> 0.321</td> <td>-3.75e+04</td> <td> 1.14e+05</td>\n",
       "</tr>\n",
       "<tr>\n",
       "  <th>zip_98105</th>        <td> 2.595e+05</td> <td> 4.64e+04</td> <td>    5.590</td> <td> 0.000</td> <td> 1.69e+05</td> <td> 3.51e+05</td>\n",
       "</tr>\n",
       "<tr>\n",
       "  <th>zip_98106</th>        <td>-2.891e+05</td> <td> 4.12e+04</td> <td>   -7.011</td> <td> 0.000</td> <td> -3.7e+05</td> <td>-2.08e+05</td>\n",
       "</tr>\n",
       "<tr>\n",
       "  <th>zip_98107</th>        <td> 2.806e+04</td> <td> 4.28e+04</td> <td>    0.656</td> <td> 0.512</td> <td>-5.58e+04</td> <td> 1.12e+05</td>\n",
       "</tr>\n",
       "<tr>\n",
       "  <th>zip_98108</th>        <td>-2.902e+05</td> <td> 4.74e+04</td> <td>   -6.117</td> <td> 0.000</td> <td>-3.83e+05</td> <td>-1.97e+05</td>\n",
       "</tr>\n",
       "<tr>\n",
       "  <th>zip_98109</th>        <td> 3.119e+05</td> <td>  6.3e+04</td> <td>    4.952</td> <td> 0.000</td> <td> 1.88e+05</td> <td> 4.35e+05</td>\n",
       "</tr>\n",
       "<tr>\n",
       "  <th>zip_98112</th>        <td> 5.916e+05</td> <td> 4.74e+04</td> <td>   12.483</td> <td> 0.000</td> <td> 4.99e+05</td> <td> 6.85e+05</td>\n",
       "</tr>\n",
       "<tr>\n",
       "  <th>zip_98115</th>        <td> 5.264e+04</td> <td> 3.87e+04</td> <td>    1.361</td> <td> 0.174</td> <td>-2.32e+04</td> <td> 1.28e+05</td>\n",
       "</tr>\n",
       "<tr>\n",
       "  <th>zip_98117</th>        <td> 3970.4900</td> <td> 3.88e+04</td> <td>    0.102</td> <td> 0.918</td> <td>-7.21e+04</td> <td>    8e+04</td>\n",
       "</tr>\n",
       "<tr>\n",
       "  <th>zip_98118</th>        <td>-2.286e+05</td> <td> 4.04e+04</td> <td>   -5.660</td> <td> 0.000</td> <td>-3.08e+05</td> <td>-1.49e+05</td>\n",
       "</tr>\n",
       "<tr>\n",
       "  <th>zip_98119</th>        <td>   2.4e+05</td> <td> 5.09e+04</td> <td>    4.719</td> <td> 0.000</td> <td>  1.4e+05</td> <td>  3.4e+05</td>\n",
       "</tr>\n",
       "<tr>\n",
       "  <th>zip_98122</th>        <td> 1.346e+05</td> <td> 4.32e+04</td> <td>    3.119</td> <td> 0.002</td> <td>    5e+04</td> <td> 2.19e+05</td>\n",
       "</tr>\n",
       "<tr>\n",
       "  <th>zip_98125</th>        <td>-1.378e+05</td> <td> 4.21e+04</td> <td>   -3.269</td> <td> 0.001</td> <td> -2.2e+05</td> <td>-5.52e+04</td>\n",
       "</tr>\n",
       "<tr>\n",
       "  <th>zip_98126</th>        <td>-1.924e+05</td> <td> 4.32e+04</td> <td>   -4.455</td> <td> 0.000</td> <td>-2.77e+05</td> <td>-1.08e+05</td>\n",
       "</tr>\n",
       "<tr>\n",
       "  <th>zip_98133</th>        <td>-2.443e+05</td> <td> 3.96e+04</td> <td>   -6.165</td> <td> 0.000</td> <td>-3.22e+05</td> <td>-1.67e+05</td>\n",
       "</tr>\n",
       "<tr>\n",
       "  <th>zip_98136</th>        <td>-5.934e+04</td> <td> 4.77e+04</td> <td>   -1.244</td> <td> 0.213</td> <td>-1.53e+05</td> <td> 3.41e+04</td>\n",
       "</tr>\n",
       "<tr>\n",
       "  <th>zip_98144</th>        <td>-3.486e+04</td> <td> 4.32e+04</td> <td>   -0.807</td> <td> 0.420</td> <td> -1.2e+05</td> <td> 4.98e+04</td>\n",
       "</tr>\n",
       "<tr>\n",
       "  <th>zip_98146</th>        <td>-2.766e+05</td> <td> 4.35e+04</td> <td>   -6.365</td> <td> 0.000</td> <td>-3.62e+05</td> <td>-1.91e+05</td>\n",
       "</tr>\n",
       "<tr>\n",
       "  <th>zip_98148</th>        <td>-4.893e+05</td> <td> 7.12e+04</td> <td>   -6.871</td> <td> 0.000</td> <td>-6.29e+05</td> <td> -3.5e+05</td>\n",
       "</tr>\n",
       "<tr>\n",
       "  <th>zip_98155</th>        <td>-1.772e+05</td> <td> 4.17e+04</td> <td>   -4.254</td> <td> 0.000</td> <td>-2.59e+05</td> <td>-9.56e+04</td>\n",
       "</tr>\n",
       "<tr>\n",
       "  <th>zip_98166</th>        <td>-3.165e+05</td> <td> 4.59e+04</td> <td>   -6.894</td> <td> 0.000</td> <td>-4.06e+05</td> <td>-2.27e+05</td>\n",
       "</tr>\n",
       "<tr>\n",
       "  <th>zip_98168</th>        <td>-4.265e+05</td> <td> 4.47e+04</td> <td>   -9.547</td> <td> 0.000</td> <td>-5.14e+05</td> <td>-3.39e+05</td>\n",
       "</tr>\n",
       "<tr>\n",
       "  <th>zip_98177</th>        <td> 3.028e+04</td> <td> 4.76e+04</td> <td>    0.635</td> <td> 0.525</td> <td>-6.31e+04</td> <td> 1.24e+05</td>\n",
       "</tr>\n",
       "<tr>\n",
       "  <th>zip_98178</th>        <td>-4.039e+05</td> <td> 4.46e+04</td> <td>   -9.047</td> <td> 0.000</td> <td>-4.91e+05</td> <td>-3.16e+05</td>\n",
       "</tr>\n",
       "<tr>\n",
       "  <th>zip_98188</th>        <td>-4.697e+05</td> <td> 5.39e+04</td> <td>   -8.709</td> <td> 0.000</td> <td>-5.75e+05</td> <td>-3.64e+05</td>\n",
       "</tr>\n",
       "<tr>\n",
       "  <th>zip_98198</th>        <td>-4.756e+05</td> <td> 4.35e+04</td> <td>  -10.929</td> <td> 0.000</td> <td>-5.61e+05</td> <td> -3.9e+05</td>\n",
       "</tr>\n",
       "<tr>\n",
       "  <th>zip_98199</th>        <td> 2.552e+05</td> <td> 4.39e+04</td> <td>    5.809</td> <td> 0.000</td> <td> 1.69e+05</td> <td> 3.41e+05</td>\n",
       "</tr>\n",
       "<tr>\n",
       "  <th>zip_98223</th>        <td> 3.123e+05</td> <td> 3.11e+05</td> <td>    1.003</td> <td> 0.316</td> <td>-2.98e+05</td> <td> 9.23e+05</td>\n",
       "</tr>\n",
       "<tr>\n",
       "  <th>zip_98224</th>        <td>-2.591e+05</td> <td> 3.59e+05</td> <td>   -0.722</td> <td> 0.471</td> <td>-9.63e+05</td> <td> 4.45e+05</td>\n",
       "</tr>\n",
       "<tr>\n",
       "  <th>zip_98251</th>        <td>-3.474e+05</td> <td> 3.59e+05</td> <td>   -0.968</td> <td> 0.333</td> <td>-1.05e+06</td> <td> 3.56e+05</td>\n",
       "</tr>\n",
       "<tr>\n",
       "  <th>zip_98270</th>        <td>  6.31e+05</td> <td>  6.2e+05</td> <td>    1.017</td> <td> 0.309</td> <td>-5.85e+05</td> <td> 1.85e+06</td>\n",
       "</tr>\n",
       "<tr>\n",
       "  <th>zip_98271</th>        <td>-2.027e+04</td> <td> 2.79e+05</td> <td>   -0.073</td> <td> 0.942</td> <td>-5.67e+05</td> <td> 5.26e+05</td>\n",
       "</tr>\n",
       "<tr>\n",
       "  <th>zip_98272</th>        <td>-4.008e+05</td> <td> 2.55e+05</td> <td>   -1.573</td> <td> 0.116</td> <td>   -9e+05</td> <td> 9.88e+04</td>\n",
       "</tr>\n",
       "<tr>\n",
       "  <th>zip_98288</th>        <td>-3.869e+05</td> <td> 1.58e+05</td> <td>   -2.448</td> <td> 0.014</td> <td>-6.97e+05</td> <td>-7.71e+04</td>\n",
       "</tr>\n",
       "<tr>\n",
       "  <th>zip_98296</th>        <td>-6.137e+05</td> <td>  6.2e+05</td> <td>   -0.990</td> <td> 0.322</td> <td>-1.83e+06</td> <td> 6.02e+05</td>\n",
       "</tr>\n",
       "<tr>\n",
       "  <th>zip_98338</th>        <td>-3.526e+05</td> <td> 4.39e+05</td> <td>   -0.803</td> <td> 0.422</td> <td>-1.21e+06</td> <td> 5.08e+05</td>\n",
       "</tr>\n",
       "<tr>\n",
       "  <th>zip_98354</th>        <td>-5.612e+05</td> <td> 1.33e+05</td> <td>   -4.222</td> <td> 0.000</td> <td>-8.22e+05</td> <td>-3.01e+05</td>\n",
       "</tr>\n",
       "<tr>\n",
       "  <th>zip_98372</th>        <td> 5.225e+04</td> <td> 4.39e+05</td> <td>    0.119</td> <td> 0.905</td> <td>-8.08e+05</td> <td> 9.13e+05</td>\n",
       "</tr>\n",
       "<tr>\n",
       "  <th>zip_98387</th>        <td>-1.356e+05</td> <td>  6.2e+05</td> <td>   -0.219</td> <td> 0.827</td> <td>-1.35e+06</td> <td> 1.08e+06</td>\n",
       "</tr>\n",
       "<tr>\n",
       "  <th>zip_98422</th>        <td> -1.12e+06</td> <td>  6.2e+05</td> <td>   -1.806</td> <td> 0.071</td> <td>-2.34e+06</td> <td> 9.53e+04</td>\n",
       "</tr>\n",
       "<tr>\n",
       "  <th>zip_98663</th>        <td>-3.755e+04</td> <td> 4.39e+05</td> <td>   -0.086</td> <td> 0.932</td> <td>-8.98e+05</td> <td> 8.23e+05</td>\n",
       "</tr>\n",
       "<tr>\n",
       "  <th>log(sqft_living)</th> <td> 8.408e+05</td> <td> 9043.769</td> <td>   92.972</td> <td> 0.000</td> <td> 8.23e+05</td> <td> 8.59e+05</td>\n",
       "</tr>\n",
       "</table>\n",
       "<table class=\"simpletable\">\n",
       "<tr>\n",
       "  <th>Omnibus:</th>       <td>49157.017</td> <th>  Durbin-Watson:     </th>   <td>   1.926</td>   \n",
       "</tr>\n",
       "<tr>\n",
       "  <th>Prob(Omnibus):</th>  <td> 0.000</td>   <th>  Jarque-Bera (JB):  </th> <td>122676924.583</td>\n",
       "</tr>\n",
       "<tr>\n",
       "  <th>Skew:</th>           <td>11.082</td>   <th>  Prob(JB):          </th>   <td>    0.00</td>   \n",
       "</tr>\n",
       "<tr>\n",
       "  <th>Kurtosis:</th>       <td>319.763</td>  <th>  Cond. No.          </th>   <td>    172.</td>   \n",
       "</tr>\n",
       "</table><br/><br/>Notes:<br/>[1] Standard Errors assume that the covariance matrix of the errors is correctly specified."
      ],
      "text/plain": [
       "<class 'statsmodels.iolib.summary.Summary'>\n",
       "\"\"\"\n",
       "                            OLS Regression Results                            \n",
       "==============================================================================\n",
       "Dep. Variable:                  price   R-squared:                       0.523\n",
       "Model:                            OLS   Adj. R-squared:                  0.522\n",
       "Method:                 Least Squares   F-statistic:                     362.7\n",
       "Date:                Tue, 21 Feb 2023   Prob (F-statistic):               0.00\n",
       "Time:                        15:17:14   Log-Likelihood:            -4.3081e+05\n",
       "No. Observations:               29200   AIC:                         8.618e+05\n",
       "Df Residuals:                   29111   BIC:                         8.625e+05\n",
       "Df Model:                          88                                         \n",
       "Covariance Type:            nonrobust                                         \n",
       "====================================================================================\n",
       "                       coef    std err          t      P>|t|      [0.025      0.975]\n",
       "------------------------------------------------------------------------------------\n",
       "const             1.113e+06   3624.632    307.068      0.000    1.11e+06    1.12e+06\n",
       "zip_98001        -5.938e+05   4.01e+04    -14.808      0.000   -6.72e+05   -5.15e+05\n",
       "zip_98002        -5.079e+05   4.53e+04    -11.216      0.000   -5.97e+05   -4.19e+05\n",
       "zip_98003        -5.563e+05   4.32e+04    -12.887      0.000   -6.41e+05   -4.72e+05\n",
       "zip_98004         2.099e+06    4.7e+04     44.654      0.000    2.01e+06    2.19e+06\n",
       "zip_98005         6.637e+05   5.62e+04     11.802      0.000    5.54e+05    7.74e+05\n",
       "zip_98006         3.818e+05   4.17e+04      9.164      0.000       3e+05    4.63e+05\n",
       "zip_98007         1.288e+05    5.9e+04      2.182      0.029    1.31e+04    2.45e+05\n",
       "zip_98008         2.762e+05   4.43e+04      6.239      0.000    1.89e+05    3.63e+05\n",
       "zip_98010        -5.835e+05   4.71e+04    -12.376      0.000   -6.76e+05   -4.91e+05\n",
       "zip_98011        -1.344e+05   4.97e+04     -2.706      0.007   -2.32e+05    -3.7e+04\n",
       "zip_98014        -2.903e+05   5.88e+04     -4.941      0.000   -4.06e+05   -1.75e+05\n",
       "zip_98019        -3.355e+05   5.06e+04     -6.629      0.000   -4.35e+05   -2.36e+05\n",
       "zip_98022         -5.09e+05   4.28e+04    -11.896      0.000   -5.93e+05   -4.25e+05\n",
       "zip_98023        -5.951e+05   3.93e+04    -15.143      0.000   -6.72e+05   -5.18e+05\n",
       "zip_98024         1.744e+05   6.61e+04      2.641      0.008     4.5e+04    3.04e+05\n",
       "zip_98027        -1.687e+04   4.48e+04     -0.377      0.706   -1.05e+05    7.09e+04\n",
       "zip_98028        -2.235e+05   4.58e+04     -4.884      0.000   -3.13e+05   -1.34e+05\n",
       "zip_98029         1.548e+05   4.69e+04      3.304      0.001     6.3e+04    2.47e+05\n",
       "zip_98030        -5.925e+05   4.48e+04    -13.216      0.000    -6.8e+05   -5.05e+05\n",
       "zip_98031        -5.668e+05   4.14e+04    -13.684      0.000   -6.48e+05   -4.86e+05\n",
       "zip_98032        -4.972e+05   5.55e+04     -8.963      0.000   -6.06e+05   -3.88e+05\n",
       "zip_98033           6.6e+05   4.04e+04     16.351      0.000    5.81e+05    7.39e+05\n",
       "zip_98034         5.091e+04   3.94e+04      1.293      0.196   -2.62e+04    1.28e+05\n",
       "zip_98038        -4.858e+05    3.8e+04    -12.792      0.000    -5.6e+05   -4.11e+05\n",
       "zip_98039         3.693e+06   8.67e+04     42.578      0.000    3.52e+06    3.86e+06\n",
       "zip_98040          1.15e+06    4.6e+04     24.982      0.000    1.06e+06    1.24e+06\n",
       "zip_98042        -5.799e+05   3.71e+04    -15.611      0.000   -6.53e+05   -5.07e+05\n",
       "zip_98045        -2.932e+05   4.27e+04     -6.871      0.000   -3.77e+05    -2.1e+05\n",
       "zip_98047        -5.463e+05   7.73e+04     -7.068      0.000   -6.98e+05   -3.95e+05\n",
       "zip_98050         1.644e+05   4.39e+05      0.374      0.708   -6.96e+05    1.03e+06\n",
       "zip_98051         -3.77e+05   8.25e+04     -4.568      0.000   -5.39e+05   -2.15e+05\n",
       "zip_98052         2.192e+05   4.09e+04      5.361      0.000    1.39e+05    2.99e+05\n",
       "zip_98053         1.424e+05   4.45e+04      3.202      0.001    5.52e+04     2.3e+05\n",
       "zip_98055        -5.258e+05   5.25e+04    -10.024      0.000   -6.29e+05   -4.23e+05\n",
       "zip_98056        -2.195e+05   4.16e+04     -5.277      0.000   -3.01e+05   -1.38e+05\n",
       "zip_98057        -3.718e+05   6.34e+04     -5.869      0.000   -4.96e+05   -2.48e+05\n",
       "zip_98058        -4.958e+05   3.94e+04    -12.571      0.000   -5.73e+05   -4.19e+05\n",
       "zip_98059        -2.661e+05   4.07e+04     -6.544      0.000   -3.46e+05   -1.86e+05\n",
       "zip_98065         -1.84e+05   4.81e+04     -3.828      0.000   -2.78e+05   -8.98e+04\n",
       "zip_98070        -1.071e+05   5.48e+04     -1.956      0.050   -2.15e+05     206.502\n",
       "zip_98072         7.902e+04    4.6e+04      1.717      0.086   -1.12e+04    1.69e+05\n",
       "zip_98074         2.364e+05   4.36e+04      5.418      0.000    1.51e+05    3.22e+05\n",
       "zip_98075         2.994e+05   4.42e+04      6.777      0.000    2.13e+05    3.86e+05\n",
       "zip_98077         1.204e+05   5.07e+04      2.375      0.018     2.1e+04     2.2e+05\n",
       "zip_98092        -6.089e+05   4.03e+04    -15.100      0.000   -6.88e+05    -5.3e+05\n",
       "zip_98102         2.739e+05   6.05e+04      4.528      0.000    1.55e+05    3.92e+05\n",
       "zip_98103         3.835e+04   3.87e+04      0.991      0.321   -3.75e+04    1.14e+05\n",
       "zip_98105         2.595e+05   4.64e+04      5.590      0.000    1.69e+05    3.51e+05\n",
       "zip_98106        -2.891e+05   4.12e+04     -7.011      0.000    -3.7e+05   -2.08e+05\n",
       "zip_98107         2.806e+04   4.28e+04      0.656      0.512   -5.58e+04    1.12e+05\n",
       "zip_98108        -2.902e+05   4.74e+04     -6.117      0.000   -3.83e+05   -1.97e+05\n",
       "zip_98109         3.119e+05    6.3e+04      4.952      0.000    1.88e+05    4.35e+05\n",
       "zip_98112         5.916e+05   4.74e+04     12.483      0.000    4.99e+05    6.85e+05\n",
       "zip_98115         5.264e+04   3.87e+04      1.361      0.174   -2.32e+04    1.28e+05\n",
       "zip_98117         3970.4900   3.88e+04      0.102      0.918   -7.21e+04       8e+04\n",
       "zip_98118        -2.286e+05   4.04e+04     -5.660      0.000   -3.08e+05   -1.49e+05\n",
       "zip_98119           2.4e+05   5.09e+04      4.719      0.000     1.4e+05     3.4e+05\n",
       "zip_98122         1.346e+05   4.32e+04      3.119      0.002       5e+04    2.19e+05\n",
       "zip_98125        -1.378e+05   4.21e+04     -3.269      0.001    -2.2e+05   -5.52e+04\n",
       "zip_98126        -1.924e+05   4.32e+04     -4.455      0.000   -2.77e+05   -1.08e+05\n",
       "zip_98133        -2.443e+05   3.96e+04     -6.165      0.000   -3.22e+05   -1.67e+05\n",
       "zip_98136        -5.934e+04   4.77e+04     -1.244      0.213   -1.53e+05    3.41e+04\n",
       "zip_98144        -3.486e+04   4.32e+04     -0.807      0.420    -1.2e+05    4.98e+04\n",
       "zip_98146        -2.766e+05   4.35e+04     -6.365      0.000   -3.62e+05   -1.91e+05\n",
       "zip_98148        -4.893e+05   7.12e+04     -6.871      0.000   -6.29e+05    -3.5e+05\n",
       "zip_98155        -1.772e+05   4.17e+04     -4.254      0.000   -2.59e+05   -9.56e+04\n",
       "zip_98166        -3.165e+05   4.59e+04     -6.894      0.000   -4.06e+05   -2.27e+05\n",
       "zip_98168        -4.265e+05   4.47e+04     -9.547      0.000   -5.14e+05   -3.39e+05\n",
       "zip_98177         3.028e+04   4.76e+04      0.635      0.525   -6.31e+04    1.24e+05\n",
       "zip_98178        -4.039e+05   4.46e+04     -9.047      0.000   -4.91e+05   -3.16e+05\n",
       "zip_98188        -4.697e+05   5.39e+04     -8.709      0.000   -5.75e+05   -3.64e+05\n",
       "zip_98198        -4.756e+05   4.35e+04    -10.929      0.000   -5.61e+05    -3.9e+05\n",
       "zip_98199         2.552e+05   4.39e+04      5.809      0.000    1.69e+05    3.41e+05\n",
       "zip_98223         3.123e+05   3.11e+05      1.003      0.316   -2.98e+05    9.23e+05\n",
       "zip_98224        -2.591e+05   3.59e+05     -0.722      0.471   -9.63e+05    4.45e+05\n",
       "zip_98251        -3.474e+05   3.59e+05     -0.968      0.333   -1.05e+06    3.56e+05\n",
       "zip_98270          6.31e+05    6.2e+05      1.017      0.309   -5.85e+05    1.85e+06\n",
       "zip_98271        -2.027e+04   2.79e+05     -0.073      0.942   -5.67e+05    5.26e+05\n",
       "zip_98272        -4.008e+05   2.55e+05     -1.573      0.116      -9e+05    9.88e+04\n",
       "zip_98288        -3.869e+05   1.58e+05     -2.448      0.014   -6.97e+05   -7.71e+04\n",
       "zip_98296        -6.137e+05    6.2e+05     -0.990      0.322   -1.83e+06    6.02e+05\n",
       "zip_98338        -3.526e+05   4.39e+05     -0.803      0.422   -1.21e+06    5.08e+05\n",
       "zip_98354        -5.612e+05   1.33e+05     -4.222      0.000   -8.22e+05   -3.01e+05\n",
       "zip_98372         5.225e+04   4.39e+05      0.119      0.905   -8.08e+05    9.13e+05\n",
       "zip_98387        -1.356e+05    6.2e+05     -0.219      0.827   -1.35e+06    1.08e+06\n",
       "zip_98422         -1.12e+06    6.2e+05     -1.806      0.071   -2.34e+06    9.53e+04\n",
       "zip_98663        -3.755e+04   4.39e+05     -0.086      0.932   -8.98e+05    8.23e+05\n",
       "log(sqft_living)  8.408e+05   9043.769     92.972      0.000    8.23e+05    8.59e+05\n",
       "==============================================================================\n",
       "Omnibus:                    49157.017   Durbin-Watson:                   1.926\n",
       "Prob(Omnibus):                  0.000   Jarque-Bera (JB):        122676924.583\n",
       "Skew:                          11.082   Prob(JB):                         0.00\n",
       "Kurtosis:                     319.763   Cond. No.                         172.\n",
       "==============================================================================\n",
       "\n",
       "Notes:\n",
       "[1] Standard Errors assume that the covariance matrix of the errors is correctly specified.\n",
       "\"\"\""
      ]
     },
     "execution_count": 51,
     "metadata": {},
     "output_type": "execute_result"
    }
   ],
   "source": [
    "X_centered_model = sm.OLS(y_raw, sm.add_constant(X_centered))\n",
    "X_centered_results = X_centered_model.fit()\n",
    "X_centered_results.summary()\n"
   ]
  },
  {
   "cell_type": "markdown",
   "metadata": {},
   "source": [
    "Ok!  This makes our coefficiants much more interpretable.  Our intercept is now 1,113,000, or the mean price of a house in all of King County.  We can now say that houses with waterfront views are an average of 1,309,000 dollars more than that.  Additionally, we can see which neighborhoods will yeild housing prices above or below our mean much more easily.  For instance, let's look at the coefficient values of our two neighborhoods with the largest increases and decreases in price, Medina and Skykomish, we can see that average prices for two neighborhoods will be 3,224,000 above our intercept and 689,300 less than our intercept respectively.  \n"
   ]
  },
  {
   "cell_type": "code",
   "execution_count": null,
   "metadata": {},
   "outputs": [],
   "source": [
    "import matplotlib.pyplot as plt\n",
    "\n",
    "fig, (ax1, ax2) = plt.subplots(ncols=88, figsize=(15,5), sharey=True)\n",
    "ax1.set_ylabel(\"price\")\n",
    "\n",
    "data.plot.scatter(x=\"weight\", y=\"mpg\", ax=ax1)\n",
    "data.plot.scatter(x=\"model year\", y=\"mpg\", ax=ax2);"
   ]
  },
  {
   "cell_type": "code",
   "execution_count": null,
   "metadata": {},
   "outputs": [],
   "source": [
    "fig = plt.figure(figsize=(15,15))\n",
    "sm.graphics.plot_partregress_grid(\n",
    "    results,\n",
    "    exog_idx=list(X.columns),\n",
    "    grid=(4,4),\n",
    "    fig=fig)\n",
    "plt.tight_layout()\n",
    "plt.show()"
   ]
  },
  {
   "cell_type": "markdown",
   "metadata": {},
   "source": [
    "## Step 5: Calculate an Error-Based Metric\n"
   ]
  },
  {
   "cell_type": "code",
   "execution_count": null,
   "metadata": {},
   "outputs": [],
   "source": [
    "X_log_results.resid.abs()"
   ]
  },
  {
   "cell_type": "code",
   "execution_count": 52,
   "metadata": {},
   "outputs": [
    {
     "name": "stdout",
     "output_type": "stream",
     "text": [
      "398208.14344201644\n",
      "303810.0174764389\n"
     ]
    }
   ],
   "source": [
    "mae_baseline = baseline_results.resid.abs().sum() / len(y_raw)\n",
    "print(mae_baseline) \n",
    "mae_logcentered = X_centered_results.resid.abs().sum() / len(y_log)\n",
    "print(mae_log)"
   ]
  },
  {
   "cell_type": "code",
   "execution_count": null,
   "metadata": {},
   "outputs": [],
   "source": []
  },
  {
   "cell_type": "code",
   "execution_count": null,
   "metadata": {},
   "outputs": [],
   "source": []
  },
  {
   "cell_type": "markdown",
   "metadata": {},
   "source": [
    "### Checking L.I.N.E.\n",
    "\n",
    "* Linear relationship between the response variable (y) and predictor (x)\n",
    "\n",
    "* Data is independent: 1. Data avoids collinearity (features can't be used to predict each other)  2.  Data is not autocorrelated (correlated with itself)\n",
    "\n",
    "* Model residuals are normally distributed\n",
    "\n",
    "* Homoscedasticity- data has an equal variance\n",
    "\n",
    "Per Assumptions for Linear Regression: \"Looking at the residuals is the single best way to flag potential violations of linear regression assumptions and figure out what to do about them.\"\n"
   ]
  },
  {
   "cell_type": "markdown",
   "metadata": {},
   "source": [
    "#### Linear relationship"
   ]
  },
  {
   "cell_type": "code",
   "execution_count": 36,
   "metadata": {},
   "outputs": [
    {
     "name": "stdout",
     "output_type": "stream",
     "text": [
      "Baseline results: (1.2971791167271212, 1.1755804738567849e-55)\n",
      "Centered results: (1.2971791167271198, 1.175580473860009e-55)\n",
      "Log results: (1.3101578223651456, 8.127480038943248e-60)\n"
     ]
    }
   ],
   "source": [
    "print(\"Baseline results:\", linear_rainbow(baseline_results))\n",
    "print(\"Centered results:\", linear_rainbow(X_2_results))\n",
    "print(\"Log results:\", linear_rainbow(X_log_results))\n"
   ]
  },
  {
   "cell_type": "markdown",
   "metadata": {},
   "source": [
    "#### Colinearity"
   ]
  },
  {
   "cell_type": "code",
   "execution_count": null,
   "metadata": {},
   "outputs": [],
   "source": []
  },
  {
   "cell_type": "markdown",
   "metadata": {},
   "source": [
    "#### Regression Results"
   ]
  },
  {
   "cell_type": "code",
   "execution_count": 40,
   "metadata": {},
   "outputs": [
    {
     "data": {
      "image/png": "[encoded data removed]",
      "text/plain": [
       "<Figure size 432x288 with 1 Axes>"
      ]
     },
     "metadata": {
      "needs_background": "light"
     },
     "output_type": "display_data"
    }
   ],
   "source": [
    "fig, ax = plt.subplots()\n",
    "\n",
    "ax.scatter(y_log, X_log_results.resid)\n",
    "ax.axhline(y=0, color=\"black\")\n",
    "ax.set_xlabel(\"raw\")\n",
    "ax.set_ylabel(\"residuals\")\n",
    "ax.set_title(\"Better Linear Relationship Residual Plot\");"
   ]
  },
  {
   "cell_type": "markdown",
   "metadata": {},
   "source": [
    "## Recommendations"
   ]
  },
  {
   "cell_type": "markdown",
   "metadata": {},
   "source": [
    "## Next Steps"
   ]
  },
  {
   "cell_type": "markdown",
   "metadata": {},
   "source": [
    "#### Homoscedasticity"
   ]
  },
  {
   "cell_type": "markdown",
   "metadata": {},
   "source": [
    "### Neighborhoods"
   ]
  },
  {
   "cell_type": "code",
   "execution_count": 9,
   "metadata": {},
   "outputs": [],
   "source": [
    "\n",
    "import folium\n",
    "from folium.plugins import MarkerCluster\n",
    "from folium.plugins import HeatMap\n"
   ]
  },
  {
   "cell_type": "code",
   "execution_count": null,
   "metadata": {},
   "outputs": [],
   "source": [
    "\"\"\"#Define coordinates of where we want to center our map\n",
    "kc_coords = [47.6561, -122.005]\n",
    "\n",
    "#Create the map\n",
    "my_map = folium.Map(location = kc_coords, zoom_start = 13)\n",
    "\n",
    "#Display the map\n",
    "my_map\n",
    "\n",
    "#look into geopandas but it gets complicated or plotly\n",
    "\"\"\""
   ]
  },
  {
   "cell_type": "markdown",
   "metadata": {},
   "source": [
    "Lets try to get some neighborhood names attatched to those zip codes.  We'll use the 'zip_code_database' from https://www.unitedstateszipcodes.org/ to correlate our names to the zipcodes we extracted before."
   ]
  },
  {
   "cell_type": "code",
   "execution_count": null,
   "metadata": {},
   "outputs": [],
   "source": [
    "zips_= zips_kc[['zip', 'primary_city', 'state']]\n",
    "zips_= zips_.where(zips_['state']=='WA')\n",
    "zips_.dropna(inplace=True)\n"
   ]
  },
  {
   "cell_type": "code",
   "execution_count": 90,
   "metadata": {},
   "outputs": [],
   "source": [
    "zips_= zips_kc[['zip', 'primary_city', 'state']]\n",
    "zips_= zips_.where(zips_['state']=='WA')\n",
    "zips_.dropna(inplace=True)"
   ]
  },
  {
   "cell_type": "code",
   "execution_count": 98,
   "metadata": {},
   "outputs": [],
   "source": [
    "df_kc['neighborhood'].map(zips_.set_index('zip')['primary_city'])\n"
   ]
  },
  {
   "cell_type": "code",
   "execution_count": null,
   "metadata": {},
   "outputs": [],
   "source": [
    "#to check column names after OHE\n",
    "\"\"\"\n",
    "df['column_name'].value_counts()\n",
    "\"\"\"\n",
    "\n",
    "# Seaborne regplot to visualize original data with regression line \n",
    "\n",
    "\"\"\"\n",
    "(need to use after making model with OLS)\n",
    "sns.regplot(x=\"sqft_living\", y=\"price\", data=df);\n",
    "\"\"\"\n",
    "\n",
    "# checking for linearity in residuals\n",
    "\"\"\"linear_model = sm.OLS(y, sm.add_constant(X))\n",
    "linear_results = linear_model.fit()\n",
    "\n",
    "fig, ax = plt.subplots()\n",
    "\n",
    "ax.scatter(y, linear_results.resid, color=\"green\")\n",
    "ax.axhline(y=0, color=\"black\")\n",
    "ax.set_xlabel(\"y\")\n",
    "ax.set_ylabel(\"residuals\")\n",
    "ax.set_title(\"Linear Relationship Residual Plot\");\"\"\"\n",
    "\n",
    "# To make a model\n",
    "\"\"\"\n",
    "\n",
    "data = pd.read_csv(\"auto-mpg.csv\")\n",
    "y_raw = data[\"mpg\"]\n",
    "X_raw = data[[\"weight\", \"model year\"]]\n",
    "X_raw\n",
    "\n",
    "baseline_model = sm.OLS(y_raw, sm.add_constant(X_raw))\n",
    "baseline_results = baseline_model.fit()\n",
    "print(baseline_results.summary())\n",
    "\"\"\"\n",
    "\n",
    "# to transform values log\n",
    "\n",
    "\"\"\"\n",
    "X_weight_log = X_raw.copy()\n",
    "\n",
    "X_weight_log[\"log(weight)\"] = np.log(X_weight_log[\"weight\"])\n",
    "\n",
    "# Visually inspect raw vs. transformed values\n",
    "X_weight_log[[\"weight\", \"log(weight)\"]]\n",
    "\n",
    "\"\"\"\n",
    "# Plot distributions of raw vs. transformed values\n",
    "# (scales are so different that it's not reasonable to share an x-axis)\n",
    "\"\"\"\n",
    "fig, (ax1, ax2) = plt.subplots(ncols=2, figsize=(7,3))\n",
    "ax1.hist(X_weight_log[\"weight\"])\n",
    "ax1.set_xlabel(\"weight\")\n",
    "ax2.hist(X_weight_log[\"log(weight)\"], color=\"orange\")\n",
    "ax2.set_xlabel(\"log(weight)\");\n",
    "\"\"\"\n",
    "\n",
    "# compare original to log\n",
    "\"\"\"\n",
    "weight_log_model = sm.OLS(y_raw, sm.add_constant(X_weight_log))\n",
    "weight_log_results = weight_log_model.fit()\n",
    "\n",
    "print(f\"\"\"\n",
    "Baseline model adjusted R-Squared:    {baseline_results.rsquared_adj}\n",
    "log(weight) model adjusted R-Squared: {weight_log_results.rsquared_adj}\n",
    "\"\"\")\n",
    "\n",
    "\"\"\""
   ]
  }
 ],
 "metadata": {
  "kernelspec": {
   "display_name": "Python 3",
   "language": "python",
   "name": "python3"
  },
  "language_info": {
   "codemirror_mode": {
    "name": "ipython",
    "version": 3
   },
   "file_extension": ".py",
   "mimetype": "text/x-python",
   "name": "python",
   "nbconvert_exporter": "python",
   "pygments_lexer": "ipython3",
   "version": "3.8.5"
  },
  "toc": {
   "base_numbering": 1,
   "nav_menu": {},
   "number_sections": false,
   "sideBar": true,
   "skip_h1_title": false,
   "title_cell": "Table of Contents",
   "title_sidebar": "Contents",
   "toc_cell": false,
   "toc_position": {
    "height": "calc(100% - 180px)",
    "left": "10px",
    "top": "150px",
    "width": "208.438px"
   },
   "toc_section_display": true,
   "toc_window_display": true
  }
 },
 "nbformat": 4,
 "nbformat_minor": 2
}
